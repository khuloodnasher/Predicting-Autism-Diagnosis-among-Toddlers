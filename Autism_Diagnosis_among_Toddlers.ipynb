{
  "nbformat": 4,
  "nbformat_minor": 0,
  "metadata": {
    "colab": {
      "name": "Autism Diagnosis among Toddlers.ipynb",
      "provenance": [],
      "collapsed_sections": [
        "e5OcJY6uO7Zj",
        "YEvBss8kVeQv",
        "Q0hbDQu5VlCU",
        "2m9GbVOCV3sD",
        "ClFebUTIXRRu",
        "ijmkj0h0XUxP",
        "C4AevMlEXb3F",
        "3V5KhgObXtQK",
        "6ZOuxJy-dLsu",
        "9G02NTFSX2su",
        "b-CzkAn4w26q",
        "BhHBfti6YTGH",
        "nunABigbypBB",
        "uihYzvIF3Hqc",
        "19L6dehWYa8P",
        "RIwGEH5UY0Sj",
        "k0IjlMZFuKNl",
        "PIbShUJGY_mC",
        "YtAMJPztZExH",
        "aSgEjLb4ZWhP",
        "fWMFhK_gZnXK",
        "Rv6ISSCFaCKd",
        "hZShmJhkaOIA",
        "g2sNRWXWll2S",
        "-bcQ-iu-TjYX",
        "LxVV3ZpUaf-j",
        "p1_gbmtdSDiP",
        "NPBmxOMEri3L",
        "B9hvYcth20tI",
        "qd5xCqrS24iw",
        "lWQy1Adh3FJx",
        "HnBssZbx3WyI",
        "c5yeVpVF3lkC",
        "7k5J_gX833qd",
        "hfn9ZMTq3_W9",
        "PhfCEnaJ2oVh",
        "I4X7FRxN9MEb",
        "W2Zx7x72M_Yq",
        "hMK8CBl9xPje",
        "JcgexCv-bE9C",
        "CuzeCd0ja47R",
        "qvvreidm7tDm",
        "u039iveyk9Dl",
        "mfqPB91olMGy",
        "bgUGYy3htjfg",
        "ZBH8S43CHTGA",
        "ZpOJFLr_ItXW"
      ],
      "machine_shape": "hm",
      "authorship_tag": "ABX9TyNaax//xL9LVd4BJcApPkAT",
      "include_colab_link": true
    },
    "kernelspec": {
      "name": "python3",
      "display_name": "Python 3"
    },
    "accelerator": "GPU"
  },
  "cells": [
    {
      "cell_type": "markdown",
      "metadata": {
        "id": "view-in-github",
        "colab_type": "text"
      },
      "source": [
        "<a href=\"https://colab.research.google.com/github/khuloodnasher/Predicting-Autism-Diagnosis-among-Toddlers/blob/main/Autism_Diagnosis_among_Toddlers.ipynb\" target=\"_parent\"><img src=\"https://colab.research.google.com/assets/colab-badge.svg\" alt=\"Open In Colab\"/></a>"
      ]
    },
    {
      "cell_type": "markdown",
      "metadata": {
        "id": "fgvzVrDBXufp"
      },
      "source": [
        "# Introduction\n",
        "\n",
        "### Background\n",
        "Autism spectrum disorder (ASD) is a type of neurological and developmental disorder that begins early in childhood and continues throughout a person's life. In this project, Dr. Fayez Thabtah collected data from 1054 toddlers whose ages were less than three years old. The Doctor asked their parents yes/no questions. These questions were behavioral questions and the number of yes were added up and have been recorded in the column called Q chat 10 question. If this column has more than 3 yes, toddlers will be classified as positive ASD.\n",
        "\n",
        "\n",
        "Source of Data:\n",
        "\n",
        "Fayez Thabtah\n",
        "\n",
        "Department of Digital Technology\n",
        "Manukau Institute of Technology \n",
        "Auckland, New Zeland\n",
        "\n",
        "The columns are as follows:\n",
        "\n",
        "### Q chat 10 question features with toddlers \n",
        "\n",
        "A1: Does your child look at you when you call his/her name?\n",
        "\n",
        "A2: How easy is it for you to get eye contact with your child?\n",
        "\n",
        "A3: Does your child point to indicate that s/he wants something?\n",
        "\n",
        "A4: Does your child point to share an interest with you?\n",
        "\n",
        "A5: Does your child pretend? e.g. care for dolls, talk on a toy phone?\n",
        "\n",
        "A6: Does your child follow where you are looking?\n",
        "\n",
        "A7: If you or someone else in the family is visibly upset, does your child show signs of waning to comfort them? e.g. stroking hair, hugging them)\n",
        "\n",
        "A8: Would you describe your child's first word as:\n",
        "\n",
        "A9: Does your child use simple gestures (e.g.wave goodbye)?\n",
        "\n",
        "A10:Does your child stare at  nothing with no apparent purpose?\n",
        "\n",
        "\n",
        "\n",
        "\n",
        "\n"
      ]
    },
    {
      "cell_type": "markdown",
      "metadata": {
        "id": "EHQNrFvaY7R-"
      },
      "source": [
        "# Define The Problem \n",
        "Based on Quantitative Checklist for Autism in Toddlers (Q-CHAT) data provided by the ASD Tests app, we will try to develop a simple prediction model for toddlers to predict the probability of showing ASD traits so that their parents/guardians can consider taking steps early enough."
      ]
    },
    {
      "cell_type": "code",
      "metadata": {
        "id": "4gvhusPHl0eN",
        "colab": {
          "base_uri": "https://localhost:8080/"
        },
        "outputId": "c2b3c34f-3169-4da0-f77d-0eeb50e009bd"
      },
      "source": [
        "from google.colab import drive\n",
        "drive.mount('/content/drive/')"
      ],
      "execution_count": 1,
      "outputs": [
        {
          "output_type": "stream",
          "text": [
            "Mounted at /content/drive/\n"
          ],
          "name": "stdout"
        }
      ]
    },
    {
      "cell_type": "markdown",
      "metadata": {
        "id": "SoyoDEB--8FN"
      },
      "source": [
        "# Functions to evaluate the model\n"
      ]
    },
    {
      "cell_type": "code",
      "metadata": {
        "id": "PeTc01GxqTEj"
      },
      "source": [
        "### define our metrics function with plotting confusion matrix\n",
        "import itertools\n",
        "from sklearn.metrics import confusion_matrix \n",
        "\n",
        "### define function for plotting confusion matrix\n",
        "def plot_confusion_matrix(y_true, y_preds):\n",
        "    # Print confusion matrix\n",
        "    cnf_matrix = confusion_matrix(y_true, y_preds)\n",
        "    # Create the basic matrix\n",
        "    plt.imshow(cnf_matrix,  cmap=plt.cm.Blues)\n",
        "    # Add title and axis labels\n",
        "    plt.title('Confusion Matrix')\n",
        "    plt.ylabel('True label')\n",
        "    plt.xlabel('Predicted label')\n",
        "    # Add appropriate axis scales\n",
        "    class_names = set(y) # Get class labels to add to matrix\n",
        "    tick_marks = np.arange(len(class_names))\n",
        "    plt.xticks(tick_marks, class_names, rotation=0)\n",
        "    plt.yticks(tick_marks, class_names)\n",
        "    # Add labels to each cell\n",
        "    thresh = cnf_matrix.max() / 2. # Used for text coloring below\n",
        "    # Here we iterate through the confusion matrix and append labels to our visualization\n",
        "    for i, j in itertools.product(range(cnf_matrix.shape[0]), range(cnf_matrix.shape[1])):\n",
        "            plt.text(j, i, cnf_matrix[i, j],\n",
        "                     horizontalalignment='center',\n",
        "                     color='white' if cnf_matrix[i, j] > thresh else 'black')\n",
        "    # Add a legend\n",
        "    plt.colorbar();\n",
        "    plt.show();\n",
        "def metrics(model_name, y_train, y_test, y_hat_train, y_hat_test):\n",
        "    '''Print out the evaluation metrics for a given models predictions'''\n",
        "    print(f'Model: {model_name}', )\n",
        "    print('-'*60)\n",
        "    plot_confusion_matrix(y_test,y_hat_test)\n",
        "    print(f'test accuracy: {round(accuracy_score(y_test, y_hat_test),2)}')\n",
        "    print(f'train accuracy: {round(accuracy_score(y_train, y_hat_train),2)}')\n",
        "    print('-'*60)\n",
        "    print('-'*60)\n",
        "    print('Confusion Matrix:\\n', pd.crosstab(y_test, y_hat_test, rownames=['Actual'], colnames=['Predicted'],margins = True))\n",
        "    print('\\ntest report:\\n' + classification_report(y_test, y_hat_test))\n",
        "    print('~'*60)\n",
        "    print('\\ntrain report:\\n' + classification_report(y_train, y_hat_train))\n",
        "    print('-'*60)"
      ],
      "execution_count": 2,
      "outputs": []
    },
    {
      "cell_type": "markdown",
      "metadata": {
        "id": "J4SrC29M_LFY"
      },
      "source": [
        "# Function to draw the feature importances¶"
      ]
    },
    {
      "cell_type": "code",
      "metadata": {
        "id": "DRlDC0YQ_NZf"
      },
      "source": [
        "def plot_feature_importances(model):\n",
        "    n_features = X_train.shape[1]\n",
        "    plt.figure(figsize=(8, 8))\n",
        "    plt.barh(range(n_features), model.feature_importances_, align='center')\n",
        "    plt.yticks(np.arange(n_features), X_train.columns.values)\n",
        "    plt.xlabel('Feature importance')\n",
        "    plt.ylabel('Feature')"
      ],
      "execution_count": 3,
      "outputs": []
    },
    {
      "cell_type": "markdown",
      "metadata": {
        "id": "yUJpmYgdUw0J"
      },
      "source": [
        "# Importing libraries"
      ]
    },
    {
      "cell_type": "code",
      "metadata": {
        "id": "xq-iuz05Kjoj",
        "colab": {
          "base_uri": "https://localhost:8080/"
        },
        "outputId": "aee97842-590f-4af8-8526-2c0fdb18d6ac"
      },
      "source": [
        "# Importing libraries\n",
        "import numpy as np\n",
        "import pandas as pd\n",
        "import seaborn as sns\n",
        "import matplotlib.pyplot as plt\n",
        "\n",
        "# Supress warnings\n",
        "import warnings\n",
        "warnings.filterwarnings(\"ignore\")\n",
        "\n",
        "# Classification\n",
        "from sklearn.tree import DecisionTreeClassifier\n",
        "from sklearn.neighbors import KNeighborsClassifier\n",
        "from sklearn.naive_bayes import GaussianNB\n",
        "from sklearn.svm import SVC, LinearSVC\n",
        "from sklearn.ensemble import RandomForestClassifier , GradientBoostingClassifier\n",
        "from sklearn.discriminant_analysis import LinearDiscriminantAnalysis , QuadraticDiscriminantAnalysis\n",
        "from xgboost import XGBClassifier\n",
        "\n",
        "# Regression\n",
        "from sklearn.linear_model import LinearRegression,Ridge,Lasso,RidgeCV, ElasticNet, LogisticRegression\n",
        "from sklearn.ensemble import RandomForestRegressor,BaggingRegressor,GradientBoostingRegressor,AdaBoostRegressor \n",
        "from sklearn.svm import SVR\n",
        "from sklearn.neighbors import KNeighborsRegressor\n",
        "from sklearn.neural_network import MLPRegressor\n",
        "from xgboost import XGBRegressor\n",
        "\n",
        "# Modelling Helpers :\n",
        "from sklearn.preprocessing import Normalizer , scale\n",
        "from sklearn.model_selection import train_test_split\n",
        "from sklearn.feature_selection import RFECV\n",
        "from sklearn.model_selection import GridSearchCV , KFold , cross_val_score, ShuffleSplit, cross_validate\n",
        "\n",
        "# Preprocessing :\n",
        "from sklearn.preprocessing import MinMaxScaler , StandardScaler, LabelEncoder\n",
        "from sklearn.impute import SimpleImputer\n",
        "\n",
        "# Metrics :\n",
        "# Regression\n",
        "from sklearn.metrics import mean_squared_log_error,mean_squared_error, r2_score,mean_absolute_error \n",
        "from sklearn.metrics import accuracy_score\n",
        "\n",
        "# Classification\n",
        "from sklearn.metrics import recall_score, f1_score, fbeta_score, r2_score, roc_auc_score, roc_curve, auc, cohen_kappa_score\n",
        "\n",
        "\n",
        "## To display  all the interactive output without using the print function\n",
        "from IPython.core.interactiveshell import InteractiveShell\n",
        "InteractiveShell.ast_node_interactivity = \"all\"\n",
        "\n",
        "print(\"Setup complete...\")"
      ],
      "execution_count": 4,
      "outputs": [
        {
          "output_type": "stream",
          "text": [
            "Setup complete...\n"
          ],
          "name": "stdout"
        }
      ]
    },
    {
      "cell_type": "markdown",
      "metadata": {
        "id": "-oN6i9qiZv0D"
      },
      "source": [
        "# Obtain Data"
      ]
    },
    {
      "cell_type": "code",
      "metadata": {
        "id": "Ps0EcXWbmY8w",
        "colab": {
          "base_uri": "https://localhost:8080/"
        },
        "outputId": "de5a26b7-ecc0-4084-c2e5-154a1b4a802b"
      },
      "source": [
        "import pandas as pd\n",
        "df=pd.read_csv('/content/drive/My Drive/Autism.csv')\n",
        "\n",
        "print(\"Dataset loaded...\")"
      ],
      "execution_count": 5,
      "outputs": [
        {
          "output_type": "stream",
          "text": [
            "Dataset loaded...\n"
          ],
          "name": "stdout"
        }
      ]
    },
    {
      "cell_type": "markdown",
      "metadata": {
        "id": "BWR2bwTGZ8CW"
      },
      "source": [
        "# Explore Data"
      ]
    },
    {
      "cell_type": "code",
      "metadata": {
        "id": "74tCWc_um79O",
        "colab": {
          "base_uri": "https://localhost:8080/",
          "height": 1000
        },
        "outputId": "53358314-b591-4835-8ed8-8f5d2dc8136a"
      },
      "source": [
        "df.info()\n",
        "df.head(20)"
      ],
      "execution_count": 6,
      "outputs": [
        {
          "output_type": "stream",
          "text": [
            "<class 'pandas.core.frame.DataFrame'>\n",
            "RangeIndex: 1054 entries, 0 to 1053\n",
            "Data columns (total 19 columns):\n",
            " #   Column                  Non-Null Count  Dtype \n",
            "---  ------                  --------------  ----- \n",
            " 0   Case_No                 1054 non-null   int64 \n",
            " 1   A1                      1054 non-null   int64 \n",
            " 2   A2                      1054 non-null   int64 \n",
            " 3   A3                      1054 non-null   int64 \n",
            " 4   A4                      1054 non-null   int64 \n",
            " 5   A5                      1054 non-null   int64 \n",
            " 6   A6                      1054 non-null   int64 \n",
            " 7   A7                      1054 non-null   int64 \n",
            " 8   A8                      1054 non-null   int64 \n",
            " 9   A9                      1054 non-null   int64 \n",
            " 10  A10                     1054 non-null   int64 \n",
            " 11  Age_Mons                1054 non-null   int64 \n",
            " 12  Qchat-10-Score          1054 non-null   int64 \n",
            " 13  Sex                     1054 non-null   object\n",
            " 14  Ethnicity               1054 non-null   object\n",
            " 15  Jaundice                1054 non-null   object\n",
            " 16  Family_mem_with_ASD     1054 non-null   object\n",
            " 17  Who completed the test  1054 non-null   object\n",
            " 18  Class/ASD Traits        1054 non-null   object\n",
            "dtypes: int64(13), object(6)\n",
            "memory usage: 156.6+ KB\n"
          ],
          "name": "stdout"
        },
        {
          "output_type": "execute_result",
          "data": {
            "text/html": [
              "<div>\n",
              "<style scoped>\n",
              "    .dataframe tbody tr th:only-of-type {\n",
              "        vertical-align: middle;\n",
              "    }\n",
              "\n",
              "    .dataframe tbody tr th {\n",
              "        vertical-align: top;\n",
              "    }\n",
              "\n",
              "    .dataframe thead th {\n",
              "        text-align: right;\n",
              "    }\n",
              "</style>\n",
              "<table border=\"1\" class=\"dataframe\">\n",
              "  <thead>\n",
              "    <tr style=\"text-align: right;\">\n",
              "      <th></th>\n",
              "      <th>Case_No</th>\n",
              "      <th>A1</th>\n",
              "      <th>A2</th>\n",
              "      <th>A3</th>\n",
              "      <th>A4</th>\n",
              "      <th>A5</th>\n",
              "      <th>A6</th>\n",
              "      <th>A7</th>\n",
              "      <th>A8</th>\n",
              "      <th>A9</th>\n",
              "      <th>A10</th>\n",
              "      <th>Age_Mons</th>\n",
              "      <th>Qchat-10-Score</th>\n",
              "      <th>Sex</th>\n",
              "      <th>Ethnicity</th>\n",
              "      <th>Jaundice</th>\n",
              "      <th>Family_mem_with_ASD</th>\n",
              "      <th>Who completed the test</th>\n",
              "      <th>Class/ASD Traits</th>\n",
              "    </tr>\n",
              "  </thead>\n",
              "  <tbody>\n",
              "    <tr>\n",
              "      <th>0</th>\n",
              "      <td>1</td>\n",
              "      <td>0</td>\n",
              "      <td>0</td>\n",
              "      <td>0</td>\n",
              "      <td>0</td>\n",
              "      <td>0</td>\n",
              "      <td>0</td>\n",
              "      <td>1</td>\n",
              "      <td>1</td>\n",
              "      <td>0</td>\n",
              "      <td>1</td>\n",
              "      <td>28</td>\n",
              "      <td>3</td>\n",
              "      <td>f</td>\n",
              "      <td>middle eastern</td>\n",
              "      <td>yes</td>\n",
              "      <td>no</td>\n",
              "      <td>family member</td>\n",
              "      <td>No</td>\n",
              "    </tr>\n",
              "    <tr>\n",
              "      <th>1</th>\n",
              "      <td>2</td>\n",
              "      <td>1</td>\n",
              "      <td>1</td>\n",
              "      <td>0</td>\n",
              "      <td>0</td>\n",
              "      <td>0</td>\n",
              "      <td>1</td>\n",
              "      <td>1</td>\n",
              "      <td>0</td>\n",
              "      <td>0</td>\n",
              "      <td>0</td>\n",
              "      <td>36</td>\n",
              "      <td>4</td>\n",
              "      <td>m</td>\n",
              "      <td>White European</td>\n",
              "      <td>yes</td>\n",
              "      <td>no</td>\n",
              "      <td>family member</td>\n",
              "      <td>Yes</td>\n",
              "    </tr>\n",
              "    <tr>\n",
              "      <th>2</th>\n",
              "      <td>3</td>\n",
              "      <td>1</td>\n",
              "      <td>0</td>\n",
              "      <td>0</td>\n",
              "      <td>0</td>\n",
              "      <td>0</td>\n",
              "      <td>0</td>\n",
              "      <td>1</td>\n",
              "      <td>1</td>\n",
              "      <td>0</td>\n",
              "      <td>1</td>\n",
              "      <td>36</td>\n",
              "      <td>4</td>\n",
              "      <td>m</td>\n",
              "      <td>middle eastern</td>\n",
              "      <td>yes</td>\n",
              "      <td>no</td>\n",
              "      <td>family member</td>\n",
              "      <td>Yes</td>\n",
              "    </tr>\n",
              "    <tr>\n",
              "      <th>3</th>\n",
              "      <td>4</td>\n",
              "      <td>1</td>\n",
              "      <td>1</td>\n",
              "      <td>1</td>\n",
              "      <td>1</td>\n",
              "      <td>1</td>\n",
              "      <td>1</td>\n",
              "      <td>1</td>\n",
              "      <td>1</td>\n",
              "      <td>1</td>\n",
              "      <td>1</td>\n",
              "      <td>24</td>\n",
              "      <td>10</td>\n",
              "      <td>m</td>\n",
              "      <td>Hispanic</td>\n",
              "      <td>no</td>\n",
              "      <td>no</td>\n",
              "      <td>family member</td>\n",
              "      <td>Yes</td>\n",
              "    </tr>\n",
              "    <tr>\n",
              "      <th>4</th>\n",
              "      <td>5</td>\n",
              "      <td>1</td>\n",
              "      <td>1</td>\n",
              "      <td>0</td>\n",
              "      <td>1</td>\n",
              "      <td>1</td>\n",
              "      <td>1</td>\n",
              "      <td>1</td>\n",
              "      <td>1</td>\n",
              "      <td>1</td>\n",
              "      <td>1</td>\n",
              "      <td>20</td>\n",
              "      <td>9</td>\n",
              "      <td>f</td>\n",
              "      <td>White European</td>\n",
              "      <td>no</td>\n",
              "      <td>yes</td>\n",
              "      <td>family member</td>\n",
              "      <td>Yes</td>\n",
              "    </tr>\n",
              "    <tr>\n",
              "      <th>5</th>\n",
              "      <td>6</td>\n",
              "      <td>1</td>\n",
              "      <td>1</td>\n",
              "      <td>0</td>\n",
              "      <td>0</td>\n",
              "      <td>1</td>\n",
              "      <td>1</td>\n",
              "      <td>1</td>\n",
              "      <td>1</td>\n",
              "      <td>1</td>\n",
              "      <td>1</td>\n",
              "      <td>21</td>\n",
              "      <td>8</td>\n",
              "      <td>m</td>\n",
              "      <td>black</td>\n",
              "      <td>no</td>\n",
              "      <td>no</td>\n",
              "      <td>family member</td>\n",
              "      <td>Yes</td>\n",
              "    </tr>\n",
              "    <tr>\n",
              "      <th>6</th>\n",
              "      <td>7</td>\n",
              "      <td>1</td>\n",
              "      <td>0</td>\n",
              "      <td>0</td>\n",
              "      <td>1</td>\n",
              "      <td>1</td>\n",
              "      <td>1</td>\n",
              "      <td>0</td>\n",
              "      <td>0</td>\n",
              "      <td>1</td>\n",
              "      <td>0</td>\n",
              "      <td>33</td>\n",
              "      <td>5</td>\n",
              "      <td>m</td>\n",
              "      <td>asian</td>\n",
              "      <td>yes</td>\n",
              "      <td>no</td>\n",
              "      <td>family member</td>\n",
              "      <td>Yes</td>\n",
              "    </tr>\n",
              "    <tr>\n",
              "      <th>7</th>\n",
              "      <td>8</td>\n",
              "      <td>0</td>\n",
              "      <td>1</td>\n",
              "      <td>0</td>\n",
              "      <td>0</td>\n",
              "      <td>1</td>\n",
              "      <td>0</td>\n",
              "      <td>1</td>\n",
              "      <td>1</td>\n",
              "      <td>1</td>\n",
              "      <td>1</td>\n",
              "      <td>33</td>\n",
              "      <td>6</td>\n",
              "      <td>m</td>\n",
              "      <td>asian</td>\n",
              "      <td>yes</td>\n",
              "      <td>no</td>\n",
              "      <td>family member</td>\n",
              "      <td>Yes</td>\n",
              "    </tr>\n",
              "    <tr>\n",
              "      <th>8</th>\n",
              "      <td>9</td>\n",
              "      <td>0</td>\n",
              "      <td>0</td>\n",
              "      <td>0</td>\n",
              "      <td>0</td>\n",
              "      <td>0</td>\n",
              "      <td>0</td>\n",
              "      <td>1</td>\n",
              "      <td>0</td>\n",
              "      <td>0</td>\n",
              "      <td>1</td>\n",
              "      <td>36</td>\n",
              "      <td>2</td>\n",
              "      <td>m</td>\n",
              "      <td>asian</td>\n",
              "      <td>no</td>\n",
              "      <td>no</td>\n",
              "      <td>family member</td>\n",
              "      <td>No</td>\n",
              "    </tr>\n",
              "    <tr>\n",
              "      <th>9</th>\n",
              "      <td>10</td>\n",
              "      <td>1</td>\n",
              "      <td>1</td>\n",
              "      <td>1</td>\n",
              "      <td>0</td>\n",
              "      <td>1</td>\n",
              "      <td>1</td>\n",
              "      <td>0</td>\n",
              "      <td>1</td>\n",
              "      <td>1</td>\n",
              "      <td>1</td>\n",
              "      <td>22</td>\n",
              "      <td>8</td>\n",
              "      <td>m</td>\n",
              "      <td>south asian</td>\n",
              "      <td>no</td>\n",
              "      <td>no</td>\n",
              "      <td>Health Care Professional</td>\n",
              "      <td>Yes</td>\n",
              "    </tr>\n",
              "    <tr>\n",
              "      <th>10</th>\n",
              "      <td>11</td>\n",
              "      <td>1</td>\n",
              "      <td>0</td>\n",
              "      <td>0</td>\n",
              "      <td>1</td>\n",
              "      <td>0</td>\n",
              "      <td>1</td>\n",
              "      <td>1</td>\n",
              "      <td>0</td>\n",
              "      <td>1</td>\n",
              "      <td>1</td>\n",
              "      <td>36</td>\n",
              "      <td>6</td>\n",
              "      <td>m</td>\n",
              "      <td>Hispanic</td>\n",
              "      <td>yes</td>\n",
              "      <td>yes</td>\n",
              "      <td>family member</td>\n",
              "      <td>Yes</td>\n",
              "    </tr>\n",
              "    <tr>\n",
              "      <th>11</th>\n",
              "      <td>12</td>\n",
              "      <td>1</td>\n",
              "      <td>1</td>\n",
              "      <td>1</td>\n",
              "      <td>1</td>\n",
              "      <td>0</td>\n",
              "      <td>1</td>\n",
              "      <td>1</td>\n",
              "      <td>1</td>\n",
              "      <td>0</td>\n",
              "      <td>1</td>\n",
              "      <td>17</td>\n",
              "      <td>8</td>\n",
              "      <td>m</td>\n",
              "      <td>middle eastern</td>\n",
              "      <td>yes</td>\n",
              "      <td>no</td>\n",
              "      <td>family member</td>\n",
              "      <td>Yes</td>\n",
              "    </tr>\n",
              "    <tr>\n",
              "      <th>12</th>\n",
              "      <td>13</td>\n",
              "      <td>0</td>\n",
              "      <td>0</td>\n",
              "      <td>0</td>\n",
              "      <td>0</td>\n",
              "      <td>0</td>\n",
              "      <td>0</td>\n",
              "      <td>0</td>\n",
              "      <td>0</td>\n",
              "      <td>0</td>\n",
              "      <td>0</td>\n",
              "      <td>25</td>\n",
              "      <td>0</td>\n",
              "      <td>f</td>\n",
              "      <td>middle eastern</td>\n",
              "      <td>yes</td>\n",
              "      <td>no</td>\n",
              "      <td>family member</td>\n",
              "      <td>No</td>\n",
              "    </tr>\n",
              "    <tr>\n",
              "      <th>13</th>\n",
              "      <td>14</td>\n",
              "      <td>1</td>\n",
              "      <td>1</td>\n",
              "      <td>1</td>\n",
              "      <td>1</td>\n",
              "      <td>0</td>\n",
              "      <td>0</td>\n",
              "      <td>1</td>\n",
              "      <td>0</td>\n",
              "      <td>1</td>\n",
              "      <td>1</td>\n",
              "      <td>15</td>\n",
              "      <td>7</td>\n",
              "      <td>f</td>\n",
              "      <td>middle eastern</td>\n",
              "      <td>yes</td>\n",
              "      <td>no</td>\n",
              "      <td>family member</td>\n",
              "      <td>Yes</td>\n",
              "    </tr>\n",
              "    <tr>\n",
              "      <th>14</th>\n",
              "      <td>15</td>\n",
              "      <td>0</td>\n",
              "      <td>0</td>\n",
              "      <td>0</td>\n",
              "      <td>0</td>\n",
              "      <td>0</td>\n",
              "      <td>0</td>\n",
              "      <td>0</td>\n",
              "      <td>0</td>\n",
              "      <td>0</td>\n",
              "      <td>0</td>\n",
              "      <td>18</td>\n",
              "      <td>0</td>\n",
              "      <td>m</td>\n",
              "      <td>middle eastern</td>\n",
              "      <td>no</td>\n",
              "      <td>no</td>\n",
              "      <td>family member</td>\n",
              "      <td>No</td>\n",
              "    </tr>\n",
              "    <tr>\n",
              "      <th>15</th>\n",
              "      <td>16</td>\n",
              "      <td>1</td>\n",
              "      <td>1</td>\n",
              "      <td>1</td>\n",
              "      <td>0</td>\n",
              "      <td>1</td>\n",
              "      <td>0</td>\n",
              "      <td>1</td>\n",
              "      <td>1</td>\n",
              "      <td>0</td>\n",
              "      <td>1</td>\n",
              "      <td>12</td>\n",
              "      <td>7</td>\n",
              "      <td>m</td>\n",
              "      <td>black</td>\n",
              "      <td>no</td>\n",
              "      <td>no</td>\n",
              "      <td>family member</td>\n",
              "      <td>Yes</td>\n",
              "    </tr>\n",
              "    <tr>\n",
              "      <th>16</th>\n",
              "      <td>17</td>\n",
              "      <td>0</td>\n",
              "      <td>0</td>\n",
              "      <td>0</td>\n",
              "      <td>0</td>\n",
              "      <td>0</td>\n",
              "      <td>0</td>\n",
              "      <td>0</td>\n",
              "      <td>0</td>\n",
              "      <td>0</td>\n",
              "      <td>0</td>\n",
              "      <td>36</td>\n",
              "      <td>0</td>\n",
              "      <td>m</td>\n",
              "      <td>middle eastern</td>\n",
              "      <td>no</td>\n",
              "      <td>yes</td>\n",
              "      <td>family member</td>\n",
              "      <td>No</td>\n",
              "    </tr>\n",
              "    <tr>\n",
              "      <th>17</th>\n",
              "      <td>18</td>\n",
              "      <td>1</td>\n",
              "      <td>1</td>\n",
              "      <td>1</td>\n",
              "      <td>0</td>\n",
              "      <td>1</td>\n",
              "      <td>1</td>\n",
              "      <td>1</td>\n",
              "      <td>1</td>\n",
              "      <td>0</td>\n",
              "      <td>1</td>\n",
              "      <td>12</td>\n",
              "      <td>8</td>\n",
              "      <td>f</td>\n",
              "      <td>middle eastern</td>\n",
              "      <td>yes</td>\n",
              "      <td>no</td>\n",
              "      <td>family member</td>\n",
              "      <td>Yes</td>\n",
              "    </tr>\n",
              "    <tr>\n",
              "      <th>18</th>\n",
              "      <td>19</td>\n",
              "      <td>1</td>\n",
              "      <td>0</td>\n",
              "      <td>0</td>\n",
              "      <td>0</td>\n",
              "      <td>1</td>\n",
              "      <td>0</td>\n",
              "      <td>0</td>\n",
              "      <td>0</td>\n",
              "      <td>0</td>\n",
              "      <td>1</td>\n",
              "      <td>29</td>\n",
              "      <td>3</td>\n",
              "      <td>f</td>\n",
              "      <td>middle eastern</td>\n",
              "      <td>no</td>\n",
              "      <td>no</td>\n",
              "      <td>family member</td>\n",
              "      <td>No</td>\n",
              "    </tr>\n",
              "    <tr>\n",
              "      <th>19</th>\n",
              "      <td>20</td>\n",
              "      <td>1</td>\n",
              "      <td>1</td>\n",
              "      <td>1</td>\n",
              "      <td>0</td>\n",
              "      <td>1</td>\n",
              "      <td>0</td>\n",
              "      <td>1</td>\n",
              "      <td>1</td>\n",
              "      <td>0</td>\n",
              "      <td>1</td>\n",
              "      <td>12</td>\n",
              "      <td>7</td>\n",
              "      <td>f</td>\n",
              "      <td>black</td>\n",
              "      <td>no</td>\n",
              "      <td>no</td>\n",
              "      <td>family member</td>\n",
              "      <td>Yes</td>\n",
              "    </tr>\n",
              "  </tbody>\n",
              "</table>\n",
              "</div>"
            ],
            "text/plain": [
              "    Case_No  A1  ...    Who completed the test  Class/ASD Traits \n",
              "0         1   0  ...             family member                 No\n",
              "1         2   1  ...             family member                Yes\n",
              "2         3   1  ...             family member                Yes\n",
              "3         4   1  ...             family member                Yes\n",
              "4         5   1  ...             family member                Yes\n",
              "5         6   1  ...             family member                Yes\n",
              "6         7   1  ...             family member                Yes\n",
              "7         8   0  ...             family member                Yes\n",
              "8         9   0  ...             family member                 No\n",
              "9        10   1  ...  Health Care Professional                Yes\n",
              "10       11   1  ...             family member                Yes\n",
              "11       12   1  ...             family member                Yes\n",
              "12       13   0  ...             family member                 No\n",
              "13       14   1  ...             family member                Yes\n",
              "14       15   0  ...             family member                 No\n",
              "15       16   1  ...             family member                Yes\n",
              "16       17   0  ...             family member                 No\n",
              "17       18   1  ...             family member                Yes\n",
              "18       19   1  ...             family member                 No\n",
              "19       20   1  ...             family member                Yes\n",
              "\n",
              "[20 rows x 19 columns]"
            ]
          },
          "metadata": {
            "tags": []
          },
          "execution_count": 6
        }
      ]
    },
    {
      "cell_type": "markdown",
      "metadata": {
        "id": "Rbt0S1rvVBY-"
      },
      "source": [
        "# To know the dimension of our data"
      ]
    },
    {
      "cell_type": "code",
      "metadata": {
        "id": "KWHZVw3nO2mZ",
        "colab": {
          "base_uri": "https://localhost:8080/"
        },
        "outputId": "49547b4d-3c1d-40e9-b758-c036745651b5"
      },
      "source": [
        "df.shape"
      ],
      "execution_count": 7,
      "outputs": [
        {
          "output_type": "execute_result",
          "data": {
            "text/plain": [
              "(1054, 19)"
            ]
          },
          "metadata": {
            "tags": []
          },
          "execution_count": 7
        }
      ]
    },
    {
      "cell_type": "markdown",
      "metadata": {
        "id": "e5OcJY6uO7Zj"
      },
      "source": [
        "## This project was collected over one tousand fifty four patients and 15 features were used"
      ]
    },
    {
      "cell_type": "markdown",
      "metadata": {
        "id": "kkZs0grGVRqh"
      },
      "source": [
        "# collecting stastical info  about our data"
      ]
    },
    {
      "cell_type": "code",
      "metadata": {
        "id": "3AwPlxW4n1zw",
        "colab": {
          "base_uri": "https://localhost:8080/",
          "height": 314
        },
        "outputId": "93bc3b80-4645-40fd-d63e-c8c3507e87ea"
      },
      "source": [
        "df.describe()"
      ],
      "execution_count": 8,
      "outputs": [
        {
          "output_type": "execute_result",
          "data": {
            "text/html": [
              "<div>\n",
              "<style scoped>\n",
              "    .dataframe tbody tr th:only-of-type {\n",
              "        vertical-align: middle;\n",
              "    }\n",
              "\n",
              "    .dataframe tbody tr th {\n",
              "        vertical-align: top;\n",
              "    }\n",
              "\n",
              "    .dataframe thead th {\n",
              "        text-align: right;\n",
              "    }\n",
              "</style>\n",
              "<table border=\"1\" class=\"dataframe\">\n",
              "  <thead>\n",
              "    <tr style=\"text-align: right;\">\n",
              "      <th></th>\n",
              "      <th>Case_No</th>\n",
              "      <th>A1</th>\n",
              "      <th>A2</th>\n",
              "      <th>A3</th>\n",
              "      <th>A4</th>\n",
              "      <th>A5</th>\n",
              "      <th>A6</th>\n",
              "      <th>A7</th>\n",
              "      <th>A8</th>\n",
              "      <th>A9</th>\n",
              "      <th>A10</th>\n",
              "      <th>Age_Mons</th>\n",
              "      <th>Qchat-10-Score</th>\n",
              "    </tr>\n",
              "  </thead>\n",
              "  <tbody>\n",
              "    <tr>\n",
              "      <th>count</th>\n",
              "      <td>1054.000000</td>\n",
              "      <td>1054.000000</td>\n",
              "      <td>1054.000000</td>\n",
              "      <td>1054.000000</td>\n",
              "      <td>1054.000000</td>\n",
              "      <td>1054.000000</td>\n",
              "      <td>1054.000000</td>\n",
              "      <td>1054.000000</td>\n",
              "      <td>1054.000000</td>\n",
              "      <td>1054.000000</td>\n",
              "      <td>1054.000000</td>\n",
              "      <td>1054.000000</td>\n",
              "      <td>1054.000000</td>\n",
              "    </tr>\n",
              "    <tr>\n",
              "      <th>mean</th>\n",
              "      <td>527.500000</td>\n",
              "      <td>0.563567</td>\n",
              "      <td>0.448767</td>\n",
              "      <td>0.401328</td>\n",
              "      <td>0.512334</td>\n",
              "      <td>0.524668</td>\n",
              "      <td>0.576850</td>\n",
              "      <td>0.649905</td>\n",
              "      <td>0.459203</td>\n",
              "      <td>0.489564</td>\n",
              "      <td>0.586338</td>\n",
              "      <td>27.867173</td>\n",
              "      <td>5.212524</td>\n",
              "    </tr>\n",
              "    <tr>\n",
              "      <th>std</th>\n",
              "      <td>304.407895</td>\n",
              "      <td>0.496178</td>\n",
              "      <td>0.497604</td>\n",
              "      <td>0.490400</td>\n",
              "      <td>0.500085</td>\n",
              "      <td>0.499628</td>\n",
              "      <td>0.494293</td>\n",
              "      <td>0.477226</td>\n",
              "      <td>0.498569</td>\n",
              "      <td>0.500128</td>\n",
              "      <td>0.492723</td>\n",
              "      <td>7.980354</td>\n",
              "      <td>2.907304</td>\n",
              "    </tr>\n",
              "    <tr>\n",
              "      <th>min</th>\n",
              "      <td>1.000000</td>\n",
              "      <td>0.000000</td>\n",
              "      <td>0.000000</td>\n",
              "      <td>0.000000</td>\n",
              "      <td>0.000000</td>\n",
              "      <td>0.000000</td>\n",
              "      <td>0.000000</td>\n",
              "      <td>0.000000</td>\n",
              "      <td>0.000000</td>\n",
              "      <td>0.000000</td>\n",
              "      <td>0.000000</td>\n",
              "      <td>12.000000</td>\n",
              "      <td>0.000000</td>\n",
              "    </tr>\n",
              "    <tr>\n",
              "      <th>25%</th>\n",
              "      <td>264.250000</td>\n",
              "      <td>0.000000</td>\n",
              "      <td>0.000000</td>\n",
              "      <td>0.000000</td>\n",
              "      <td>0.000000</td>\n",
              "      <td>0.000000</td>\n",
              "      <td>0.000000</td>\n",
              "      <td>0.000000</td>\n",
              "      <td>0.000000</td>\n",
              "      <td>0.000000</td>\n",
              "      <td>0.000000</td>\n",
              "      <td>23.000000</td>\n",
              "      <td>3.000000</td>\n",
              "    </tr>\n",
              "    <tr>\n",
              "      <th>50%</th>\n",
              "      <td>527.500000</td>\n",
              "      <td>1.000000</td>\n",
              "      <td>0.000000</td>\n",
              "      <td>0.000000</td>\n",
              "      <td>1.000000</td>\n",
              "      <td>1.000000</td>\n",
              "      <td>1.000000</td>\n",
              "      <td>1.000000</td>\n",
              "      <td>0.000000</td>\n",
              "      <td>0.000000</td>\n",
              "      <td>1.000000</td>\n",
              "      <td>30.000000</td>\n",
              "      <td>5.000000</td>\n",
              "    </tr>\n",
              "    <tr>\n",
              "      <th>75%</th>\n",
              "      <td>790.750000</td>\n",
              "      <td>1.000000</td>\n",
              "      <td>1.000000</td>\n",
              "      <td>1.000000</td>\n",
              "      <td>1.000000</td>\n",
              "      <td>1.000000</td>\n",
              "      <td>1.000000</td>\n",
              "      <td>1.000000</td>\n",
              "      <td>1.000000</td>\n",
              "      <td>1.000000</td>\n",
              "      <td>1.000000</td>\n",
              "      <td>36.000000</td>\n",
              "      <td>8.000000</td>\n",
              "    </tr>\n",
              "    <tr>\n",
              "      <th>max</th>\n",
              "      <td>1054.000000</td>\n",
              "      <td>1.000000</td>\n",
              "      <td>1.000000</td>\n",
              "      <td>1.000000</td>\n",
              "      <td>1.000000</td>\n",
              "      <td>1.000000</td>\n",
              "      <td>1.000000</td>\n",
              "      <td>1.000000</td>\n",
              "      <td>1.000000</td>\n",
              "      <td>1.000000</td>\n",
              "      <td>1.000000</td>\n",
              "      <td>36.000000</td>\n",
              "      <td>10.000000</td>\n",
              "    </tr>\n",
              "  </tbody>\n",
              "</table>\n",
              "</div>"
            ],
            "text/plain": [
              "           Case_No           A1  ...     Age_Mons  Qchat-10-Score\n",
              "count  1054.000000  1054.000000  ...  1054.000000     1054.000000\n",
              "mean    527.500000     0.563567  ...    27.867173        5.212524\n",
              "std     304.407895     0.496178  ...     7.980354        2.907304\n",
              "min       1.000000     0.000000  ...    12.000000        0.000000\n",
              "25%     264.250000     0.000000  ...    23.000000        3.000000\n",
              "50%     527.500000     1.000000  ...    30.000000        5.000000\n",
              "75%     790.750000     1.000000  ...    36.000000        8.000000\n",
              "max    1054.000000     1.000000  ...    36.000000       10.000000\n",
              "\n",
              "[8 rows x 13 columns]"
            ]
          },
          "metadata": {
            "tags": []
          },
          "execution_count": 8
        }
      ]
    },
    {
      "cell_type": "markdown",
      "metadata": {
        "id": "YEvBss8kVeQv"
      },
      "source": [
        "### Displaying Columns"
      ]
    },
    {
      "cell_type": "code",
      "metadata": {
        "id": "3G-d7R1zNrsR",
        "colab": {
          "base_uri": "https://localhost:8080/"
        },
        "outputId": "d2a4ace5-4b4a-45e7-c4c5-1cadf8fe24bc"
      },
      "source": [
        "df.columns"
      ],
      "execution_count": 9,
      "outputs": [
        {
          "output_type": "execute_result",
          "data": {
            "text/plain": [
              "Index(['Case_No', 'A1', 'A2', 'A3', 'A4', 'A5', 'A6', 'A7', 'A8', 'A9', 'A10',\n",
              "       'Age_Mons', 'Qchat-10-Score', 'Sex', 'Ethnicity', 'Jaundice',\n",
              "       'Family_mem_with_ASD', 'Who completed the test', 'Class/ASD Traits '],\n",
              "      dtype='object')"
            ]
          },
          "metadata": {
            "tags": []
          },
          "execution_count": 9
        }
      ]
    },
    {
      "cell_type": "markdown",
      "metadata": {
        "id": "Q0hbDQu5VlCU"
      },
      "source": [
        "# Removing unneeded Coloumns"
      ]
    },
    {
      "cell_type": "code",
      "metadata": {
        "id": "3BhM-YRhNvG3",
        "colab": {
          "base_uri": "https://localhost:8080/"
        },
        "outputId": "6f66501c-034e-4d35-82fb-d6e927428de7"
      },
      "source": [
        "df.drop(['Case_No', 'Who completed the test'], axis = 1, inplace = True)\n",
        "df.columns"
      ],
      "execution_count": 10,
      "outputs": [
        {
          "output_type": "execute_result",
          "data": {
            "text/plain": [
              "Index(['A1', 'A2', 'A3', 'A4', 'A5', 'A6', 'A7', 'A8', 'A9', 'A10', 'Age_Mons',\n",
              "       'Qchat-10-Score', 'Sex', 'Ethnicity', 'Jaundice', 'Family_mem_with_ASD',\n",
              "       'Class/ASD Traits '],\n",
              "      dtype='object')"
            ]
          },
          "metadata": {
            "tags": []
          },
          "execution_count": 10
        }
      ]
    },
    {
      "cell_type": "markdown",
      "metadata": {
        "id": "2m9GbVOCV3sD"
      },
      "source": [
        "# Calculating the percentage of babies shows the symptoms of autisim\n"
      ]
    },
    {
      "cell_type": "code",
      "metadata": {
        "id": "7mAE8IR_a1s9",
        "colab": {
          "base_uri": "https://localhost:8080/"
        },
        "outputId": "0c8ec50b-d908-48b3-d558-d060a7f23962"
      },
      "source": [
        "# Calculating the percentage of babies shows the symptoms of autisim\n",
        "data_yes= df[df['Class/ASD Traits ']=='Yes']\n",
        "data_no= df[df['Class/ASD Traits ']=='No']\n",
        "\n",
        "print(\"Toddlers:\",len(data_yes)/len(df) * 100)\n",
        "print(\"Toddlers:\",len(data_yes)/len(df) * 100)\n",
        "\n"
      ],
      "execution_count": 11,
      "outputs": [
        {
          "output_type": "stream",
          "text": [
            "Toddlers: 69.07020872865274\n",
            "Toddlers: 69.07020872865274\n"
          ],
          "name": "stdout"
        }
      ]
    },
    {
      "cell_type": "markdown",
      "metadata": {
        "id": "ClFebUTIXRRu"
      },
      "source": [
        "# Checking null data "
      ]
    },
    {
      "cell_type": "code",
      "metadata": {
        "id": "QX6MaoBhbv1a",
        "colab": {
          "base_uri": "https://localhost:8080/"
        },
        "outputId": "330ed5be-7f3f-4f80-d6cd-86fd957ab277"
      },
      "source": [
        "# Checking null data \n",
        "df.isnull().sum()"
      ],
      "execution_count": 12,
      "outputs": [
        {
          "output_type": "execute_result",
          "data": {
            "text/plain": [
              "A1                     0\n",
              "A2                     0\n",
              "A3                     0\n",
              "A4                     0\n",
              "A5                     0\n",
              "A6                     0\n",
              "A7                     0\n",
              "A8                     0\n",
              "A9                     0\n",
              "A10                    0\n",
              "Age_Mons               0\n",
              "Qchat-10-Score         0\n",
              "Sex                    0\n",
              "Ethnicity              0\n",
              "Jaundice               0\n",
              "Family_mem_with_ASD    0\n",
              "Class/ASD Traits       0\n",
              "dtype: int64"
            ]
          },
          "metadata": {
            "tags": []
          },
          "execution_count": 12
        }
      ]
    },
    {
      "cell_type": "markdown",
      "metadata": {
        "id": "ijmkj0h0XUxP"
      },
      "source": [
        "# Checking the type of the data "
      ]
    },
    {
      "cell_type": "code",
      "metadata": {
        "id": "ENPB55O6N_ut",
        "colab": {
          "base_uri": "https://localhost:8080/"
        },
        "outputId": "9ea206af-66ee-47ac-ba6d-ab3116fee416"
      },
      "source": [
        "df.dtypes"
      ],
      "execution_count": 13,
      "outputs": [
        {
          "output_type": "execute_result",
          "data": {
            "text/plain": [
              "A1                      int64\n",
              "A2                      int64\n",
              "A3                      int64\n",
              "A4                      int64\n",
              "A5                      int64\n",
              "A6                      int64\n",
              "A7                      int64\n",
              "A8                      int64\n",
              "A9                      int64\n",
              "A10                     int64\n",
              "Age_Mons                int64\n",
              "Qchat-10-Score          int64\n",
              "Sex                    object\n",
              "Ethnicity              object\n",
              "Jaundice               object\n",
              "Family_mem_with_ASD    object\n",
              "Class/ASD Traits       object\n",
              "dtype: object"
            ]
          },
          "metadata": {
            "tags": []
          },
          "execution_count": 13
        }
      ]
    },
    {
      "cell_type": "markdown",
      "metadata": {
        "id": "C4AevMlEXb3F"
      },
      "source": [
        "## Investigating the correlation through plotting pearson method heatmap"
      ]
    },
    {
      "cell_type": "code",
      "metadata": {
        "id": "NmqoofnQOtXT",
        "colab": {
          "base_uri": "https://localhost:8080/",
          "height": 879
        },
        "outputId": "20ffdb62-52bb-4414-e2e4-e0b473827850"
      },
      "source": [
        "corr = df.corr( )\n",
        "plt.figure(figsize = (15,15))\n",
        "sns.heatmap(data = corr, annot = True, square = True, cbar = True)"
      ],
      "execution_count": 14,
      "outputs": [
        {
          "output_type": "execute_result",
          "data": {
            "text/plain": [
              "<Figure size 1080x1080 with 0 Axes>"
            ]
          },
          "metadata": {
            "tags": []
          },
          "execution_count": 14
        },
        {
          "output_type": "execute_result",
          "data": {
            "text/plain": [
              "<matplotlib.axes._subplots.AxesSubplot at 0x7f863db030b8>"
            ]
          },
          "metadata": {
            "tags": []
          },
          "execution_count": 14
        },
        {
          "output_type": "display_data",
          "data": {
            "image/png": "[encoded data removed]",
            "text/plain": [
              "<Figure size 1080x1080 with 2 Axes>"
            ]
          },
          "metadata": {
            "tags": [],
            "needs_background": "light"
          }
        }
      ]
    },
    {
      "cell_type": "markdown",
      "metadata": {
        "id": "3V5KhgObXtQK"
      },
      "source": [
        "### # Visualizing Juandice occurance in males and females"
      ]
    },
    {
      "cell_type": "code",
      "metadata": {
        "id": "n3i3iOlJPC0V",
        "colab": {
          "base_uri": "https://localhost:8080/",
          "height": 514
        },
        "outputId": "afebc954-cfd4-440a-cae3-62edcf96b9d9"
      },
      "source": [
        "# Visualizing Juandice occurance in males and females\n",
        "plt.figure(figsize = (16,8))\n",
        "\n",
        "plt.style.use('dark_background')\n",
        "sns.countplot(x = 'Jaundice', hue = 'Sex', data = data_yes)"
      ],
      "execution_count": 15,
      "outputs": [
        {
          "output_type": "execute_result",
          "data": {
            "text/plain": [
              "<Figure size 1152x576 with 0 Axes>"
            ]
          },
          "metadata": {
            "tags": []
          },
          "execution_count": 15
        },
        {
          "output_type": "execute_result",
          "data": {
            "text/plain": [
              "<matplotlib.axes._subplots.AxesSubplot at 0x7f863a1c3978>"
            ]
          },
          "metadata": {
            "tags": []
          },
          "execution_count": 15
        },
        {
          "output_type": "display_data",
          "data": {
            "image/png": "[encoded data removed]",
            "text/plain": [
              "<Figure size 1152x576 with 1 Axes>"
            ]
          },
          "metadata": {
            "tags": [],
            "needs_background": "dark"
          }
        }
      ]
    },
    {
      "cell_type": "markdown",
      "metadata": {
        "id": "6ZOuxJy-dLsu"
      },
      "source": [
        "### In Toddlers, jaundice is nearly 2 times in males than in  females. This sample studies shows that Jaundice is not connected to Autisim"
      ]
    },
    {
      "cell_type": "markdown",
      "metadata": {
        "id": "9G02NTFSX2su"
      },
      "source": [
        "# Visualizing The Q-chat 10 Score according to the gender"
      ]
    },
    {
      "cell_type": "code",
      "metadata": {
        "id": "rtl-lKzYPSqV",
        "colab": {
          "base_uri": "https://localhost:8080/",
          "height": 296
        },
        "outputId": "51e2acde-4cfe-4c15-ed7d-ec91602d42a8"
      },
      "source": [
        "sns.countplot(x = 'Qchat-10-Score', hue = 'Sex', data = df)"
      ],
      "execution_count": 16,
      "outputs": [
        {
          "output_type": "execute_result",
          "data": {
            "text/plain": [
              "<matplotlib.axes._subplots.AxesSubplot at 0x7f86383b25f8>"
            ]
          },
          "metadata": {
            "tags": []
          },
          "execution_count": 16
        },
        {
          "output_type": "display_data",
          "data": {
            "image/png": "[encoded data removed]",
            "text/plain": [
              "<Figure size 432x288 with 1 Axes>"
            ]
          },
          "metadata": {
            "tags": []
          }
        }
      ]
    },
    {
      "cell_type": "markdown",
      "metadata": {
        "id": "b-CzkAn4w26q"
      },
      "source": [
        "# In general,Plot shows that the Qchat has more postive answers among males than females. That reflects males  are more postive to autisim than females."
      ]
    },
    {
      "cell_type": "markdown",
      "metadata": {
        "id": "BhHBfti6YTGH"
      },
      "source": [
        "#Visualizing  the age distribution of Positive ASD  among Todllers"
      ]
    },
    {
      "cell_type": "code",
      "metadata": {
        "id": "e0lPf_lxkjpt",
        "colab": {
          "base_uri": "https://localhost:8080/",
          "height": 530
        },
        "outputId": "461b719d-ff24-446f-e670-730354527f52"
      },
      "source": [
        "#Visualizing  the age distribution of Positive ASD  among Todllers\n",
        "\n",
        "\n",
        "f, ax = plt.subplots(figsize=(12, 8))\n",
        "sns.countplot(x=\"Age_Mons\", data=data_yes, color=\"r\");\n",
        "\n",
        "plt.style.use('dark_background')\n",
        "ax.set_xlabel('Toddlers age in months')\n",
        "ax.set_title('Age distribution of ASD positive')\n",
        "\n"
      ],
      "execution_count": 17,
      "outputs": [
        {
          "output_type": "execute_result",
          "data": {
            "text/plain": [
              "<matplotlib.axes._subplots.AxesSubplot at 0x7f863a064a58>"
            ]
          },
          "metadata": {
            "tags": []
          },
          "execution_count": 17
        },
        {
          "output_type": "execute_result",
          "data": {
            "text/plain": [
              "Text(0.5, 0, 'Toddlers age in months')"
            ]
          },
          "metadata": {
            "tags": []
          },
          "execution_count": 17
        },
        {
          "output_type": "execute_result",
          "data": {
            "text/plain": [
              "Text(0.5, 1.0, 'Age distribution of ASD positive')"
            ]
          },
          "metadata": {
            "tags": []
          },
          "execution_count": 17
        },
        {
          "output_type": "display_data",
          "data": {
            "image/png": "[encoded data removed]",
            "text/plain": [
              "<Figure size 864x576 with 1 Axes>"
            ]
          },
          "metadata": {
            "tags": []
          }
        }
      ]
    },
    {
      "cell_type": "markdown",
      "metadata": {
        "id": "nunABigbypBB"
      },
      "source": [
        "# In age close to 36 montha which is three years show more positive autisim."
      ]
    },
    {
      "cell_type": "markdown",
      "metadata": {
        "id": "uihYzvIF3Hqc"
      },
      "source": [
        "# Explore Ethnicity"
      ]
    },
    {
      "cell_type": "code",
      "metadata": {
        "id": "m6T3qKVP2x-T",
        "colab": {
          "base_uri": "https://localhost:8080/",
          "height": 514
        },
        "outputId": "3f406a87-1f21-4cd5-d225-ff7e53edfc50"
      },
      "source": [
        "plt.figure(figsize = (16,8))\n",
        "sns.countplot(x = 'Ethnicity', data = data_yes)"
      ],
      "execution_count": 18,
      "outputs": [
        {
          "output_type": "execute_result",
          "data": {
            "text/plain": [
              "<Figure size 1152x576 with 0 Axes>"
            ]
          },
          "metadata": {
            "tags": []
          },
          "execution_count": 18
        },
        {
          "output_type": "execute_result",
          "data": {
            "text/plain": [
              "<matplotlib.axes._subplots.AxesSubplot at 0x7f8638329f60>"
            ]
          },
          "metadata": {
            "tags": []
          },
          "execution_count": 18
        },
        {
          "output_type": "display_data",
          "data": {
            "image/png": "[encoded data removed]",
            "text/plain": [
              "<Figure size 1152x576 with 1 Axes>"
            ]
          },
          "metadata": {
            "tags": []
          }
        }
      ]
    },
    {
      "cell_type": "markdown",
      "metadata": {
        "id": "19L6dehWYa8P"
      },
      "source": [
        "### White European ,Asian  then middle eastern are the most etnicity showed increase in autisim cases."
      ]
    },
    {
      "cell_type": "markdown",
      "metadata": {
        "id": "RIwGEH5UY0Sj"
      },
      "source": [
        "#  visualize positive  ASD among Toddlers based on Ethnicity\n"
      ]
    },
    {
      "cell_type": "code",
      "metadata": {
        "id": "wVCuO38Hs3_U",
        "colab": {
          "base_uri": "https://localhost:8080/",
          "height": 441
        },
        "outputId": "77a9043d-cbe7-4ff3-e6a5-0dfddb9b99db"
      },
      "source": [
        "#  visualize positive  ASD among Toddlers based on Ethnicity\n",
        "plt.figure(figsize=(20,6))\n",
        "sns.countplot(x='Ethnicity',data=data_yes,order= data_yes['Ethnicity'].value_counts().index[:11],hue='Sex',palette='Paired')\n",
        "plt.title('Ethnicity Distribution of Positive ASD among Toddlers')\n",
        "plt.xlabel('Ethnicity')\n",
        "plt.tight_layout()\n"
      ],
      "execution_count": 19,
      "outputs": [
        {
          "output_type": "execute_result",
          "data": {
            "text/plain": [
              "<Figure size 1440x432 with 0 Axes>"
            ]
          },
          "metadata": {
            "tags": []
          },
          "execution_count": 19
        },
        {
          "output_type": "execute_result",
          "data": {
            "text/plain": [
              "<matplotlib.axes._subplots.AxesSubplot at 0x7f86381521d0>"
            ]
          },
          "metadata": {
            "tags": []
          },
          "execution_count": 19
        },
        {
          "output_type": "execute_result",
          "data": {
            "text/plain": [
              "Text(0.5, 1.0, 'Ethnicity Distribution of Positive ASD among Toddlers')"
            ]
          },
          "metadata": {
            "tags": []
          },
          "execution_count": 19
        },
        {
          "output_type": "execute_result",
          "data": {
            "text/plain": [
              "Text(0.5, 0, 'Ethnicity')"
            ]
          },
          "metadata": {
            "tags": []
          },
          "execution_count": 19
        },
        {
          "output_type": "display_data",
          "data": {
            "image/png": "[encoded data removed]",
            "text/plain": [
              "<Figure size 1440x432 with 1 Axes>"
            ]
          },
          "metadata": {
            "tags": []
          }
        }
      ]
    },
    {
      "cell_type": "markdown",
      "metadata": {
        "id": "k0IjlMZFuKNl"
      },
      "source": [
        "### White European then Asian indeed are the most affected ethnicity. But we can notice that males have more  positive  autisim compared to females.\n",
        "\n"
      ]
    },
    {
      "cell_type": "markdown",
      "metadata": {
        "id": "PIbShUJGY_mC"
      },
      "source": [
        "# Displaying number of positive cases of Autisim with Regards Ethnicity\n"
      ]
    },
    {
      "cell_type": "code",
      "metadata": {
        "id": "kJ3BisWAvQVQ",
        "colab": {
          "base_uri": "https://localhost:8080/"
        },
        "outputId": "c40d5594-b908-41c6-db81-901cd0272496"
      },
      "source": [
        "# Displaying number of positive cases of Autisim with Regards Ethnicity\n",
        "data_yes['Ethnicity'].value_counts()"
      ],
      "execution_count": 20,
      "outputs": [
        {
          "output_type": "execute_result",
          "data": {
            "text/plain": [
              "White European    250\n",
              "asian             212\n",
              "middle eastern     96\n",
              "black              39\n",
              "south asian        37\n",
              "Hispanic           30\n",
              "Others             29\n",
              "Latino             20\n",
              "Pacifica            7\n",
              "mixed               5\n",
              "Native Indian       3\n",
              "Name: Ethnicity, dtype: int64"
            ]
          },
          "metadata": {
            "tags": []
          },
          "execution_count": 20
        }
      ]
    },
    {
      "cell_type": "markdown",
      "metadata": {
        "id": "YtAMJPztZExH"
      },
      "source": [
        "### visualizing the distribution of autism in family within different ethnicity"
      ]
    },
    {
      "cell_type": "code",
      "metadata": {
        "id": "79MWjHojwrKX",
        "colab": {
          "base_uri": "https://localhost:8080/",
          "height": 622
        },
        "outputId": "5b871603-d035-4e9f-ab8b-0b52c14d4598"
      },
      "source": [
        "#Lets visualize the distribution of autism in family within different ethnicity\n",
        "f, ax = plt.subplots(figsize=(12, 8))\n",
        "\n",
        "\n",
        "sns.countplot(x='Family_mem_with_ASD',data=data_yes,hue='Ethnicity',palette='rainbow',ax=ax)\n",
        "ax.set_title('Positive ASD Toddler relatives with Autism distribution for different ethnicities')\n",
        "ax.set_xlabel('Toddler Relatives with ASD')\n",
        "plt.tight_layout()\n",
        "\n",
        "\n"
      ],
      "execution_count": 21,
      "outputs": [
        {
          "output_type": "execute_result",
          "data": {
            "text/plain": [
              "<matplotlib.axes._subplots.AxesSubplot at 0x7f863823bef0>"
            ]
          },
          "metadata": {
            "tags": []
          },
          "execution_count": 21
        },
        {
          "output_type": "execute_result",
          "data": {
            "text/plain": [
              "Text(0.5, 1.0, 'Positive ASD Toddler relatives with Autism distribution for different ethnicities')"
            ]
          },
          "metadata": {
            "tags": []
          },
          "execution_count": 21
        },
        {
          "output_type": "execute_result",
          "data": {
            "text/plain": [
              "Text(0.5, 0, 'Toddler Relatives with ASD')"
            ]
          },
          "metadata": {
            "tags": []
          },
          "execution_count": 21
        },
        {
          "output_type": "display_data",
          "data": {
            "image/png": "[encoded data removed]",
            "text/plain": [
              "<Figure size 864x576 with 1 Axes>"
            ]
          },
          "metadata": {
            "tags": []
          }
        }
      ]
    },
    {
      "cell_type": "markdown",
      "metadata": {
        "id": "hPQ5HEWQz7yq"
      },
      "source": [
        "In general family history shows small effect in autisim.\n",
        "However, we can see that  toddlers of White Europeans Ethnicities have very high chance of being ASD positive if they have it in their genes. Middle eastern and Asians follow the next though with smaller ratios.So We can somewhat conclude  that there is a genetic connect for ASD positive."
      ]
    },
    {
      "cell_type": "code",
      "metadata": {
        "id": "2-79wbExPgRb"
      },
      "source": [
        "# removing 'Qchat-10-Score'\n",
        "df.drop('Qchat-10-Score', axis = 1, inplace = True)"
      ],
      "execution_count": 22,
      "outputs": []
    },
    {
      "cell_type": "markdown",
      "metadata": {
        "id": "aSgEjLb4ZWhP"
      },
      "source": [
        "### Preprocessing features to get them ready for modeling through encoding caterogical features"
      ]
    },
    {
      "cell_type": "code",
      "metadata": {
        "id": "7YeoDxGePxnW",
        "colab": {
          "base_uri": "https://localhost:8080/"
        },
        "outputId": "e749e450-5dcc-4542-e9f8-64a5003fbbcb"
      },
      "source": [
        "le = LabelEncoder()\n",
        "columns = ['Ethnicity', 'Family_mem_with_ASD', 'Class/ASD Traits ', 'Sex', 'Jaundice']\n",
        "for col in columns:\n",
        "    df[col] = le.fit_transform(df[col])\n",
        "df.dtypes\n"
      ],
      "execution_count": 23,
      "outputs": [
        {
          "output_type": "execute_result",
          "data": {
            "text/plain": [
              "A1                     int64\n",
              "A2                     int64\n",
              "A3                     int64\n",
              "A4                     int64\n",
              "A5                     int64\n",
              "A6                     int64\n",
              "A7                     int64\n",
              "A8                     int64\n",
              "A9                     int64\n",
              "A10                    int64\n",
              "Age_Mons               int64\n",
              "Sex                    int64\n",
              "Ethnicity              int64\n",
              "Jaundice               int64\n",
              "Family_mem_with_ASD    int64\n",
              "Class/ASD Traits       int64\n",
              "dtype: object"
            ]
          },
          "metadata": {
            "tags": []
          },
          "execution_count": 23
        }
      ]
    },
    {
      "cell_type": "code",
      "metadata": {
        "id": "uV9wyAjMP_99",
        "colab": {
          "base_uri": "https://localhost:8080/",
          "height": 824
        },
        "outputId": "cf523097-45d6-4fe5-f5fa-72a818e97c33"
      },
      "source": [
        "df.head(25)"
      ],
      "execution_count": 24,
      "outputs": [
        {
          "output_type": "execute_result",
          "data": {
            "text/html": [
              "<div>\n",
              "<style scoped>\n",
              "    .dataframe tbody tr th:only-of-type {\n",
              "        vertical-align: middle;\n",
              "    }\n",
              "\n",
              "    .dataframe tbody tr th {\n",
              "        vertical-align: top;\n",
              "    }\n",
              "\n",
              "    .dataframe thead th {\n",
              "        text-align: right;\n",
              "    }\n",
              "</style>\n",
              "<table border=\"1\" class=\"dataframe\">\n",
              "  <thead>\n",
              "    <tr style=\"text-align: right;\">\n",
              "      <th></th>\n",
              "      <th>A1</th>\n",
              "      <th>A2</th>\n",
              "      <th>A3</th>\n",
              "      <th>A4</th>\n",
              "      <th>A5</th>\n",
              "      <th>A6</th>\n",
              "      <th>A7</th>\n",
              "      <th>A8</th>\n",
              "      <th>A9</th>\n",
              "      <th>A10</th>\n",
              "      <th>Age_Mons</th>\n",
              "      <th>Sex</th>\n",
              "      <th>Ethnicity</th>\n",
              "      <th>Jaundice</th>\n",
              "      <th>Family_mem_with_ASD</th>\n",
              "      <th>Class/ASD Traits</th>\n",
              "    </tr>\n",
              "  </thead>\n",
              "  <tbody>\n",
              "    <tr>\n",
              "      <th>0</th>\n",
              "      <td>0</td>\n",
              "      <td>0</td>\n",
              "      <td>0</td>\n",
              "      <td>0</td>\n",
              "      <td>0</td>\n",
              "      <td>0</td>\n",
              "      <td>1</td>\n",
              "      <td>1</td>\n",
              "      <td>0</td>\n",
              "      <td>1</td>\n",
              "      <td>28</td>\n",
              "      <td>0</td>\n",
              "      <td>8</td>\n",
              "      <td>1</td>\n",
              "      <td>0</td>\n",
              "      <td>0</td>\n",
              "    </tr>\n",
              "    <tr>\n",
              "      <th>1</th>\n",
              "      <td>1</td>\n",
              "      <td>1</td>\n",
              "      <td>0</td>\n",
              "      <td>0</td>\n",
              "      <td>0</td>\n",
              "      <td>1</td>\n",
              "      <td>1</td>\n",
              "      <td>0</td>\n",
              "      <td>0</td>\n",
              "      <td>0</td>\n",
              "      <td>36</td>\n",
              "      <td>1</td>\n",
              "      <td>5</td>\n",
              "      <td>1</td>\n",
              "      <td>0</td>\n",
              "      <td>1</td>\n",
              "    </tr>\n",
              "    <tr>\n",
              "      <th>2</th>\n",
              "      <td>1</td>\n",
              "      <td>0</td>\n",
              "      <td>0</td>\n",
              "      <td>0</td>\n",
              "      <td>0</td>\n",
              "      <td>0</td>\n",
              "      <td>1</td>\n",
              "      <td>1</td>\n",
              "      <td>0</td>\n",
              "      <td>1</td>\n",
              "      <td>36</td>\n",
              "      <td>1</td>\n",
              "      <td>8</td>\n",
              "      <td>1</td>\n",
              "      <td>0</td>\n",
              "      <td>1</td>\n",
              "    </tr>\n",
              "    <tr>\n",
              "      <th>3</th>\n",
              "      <td>1</td>\n",
              "      <td>1</td>\n",
              "      <td>1</td>\n",
              "      <td>1</td>\n",
              "      <td>1</td>\n",
              "      <td>1</td>\n",
              "      <td>1</td>\n",
              "      <td>1</td>\n",
              "      <td>1</td>\n",
              "      <td>1</td>\n",
              "      <td>24</td>\n",
              "      <td>1</td>\n",
              "      <td>0</td>\n",
              "      <td>0</td>\n",
              "      <td>0</td>\n",
              "      <td>1</td>\n",
              "    </tr>\n",
              "    <tr>\n",
              "      <th>4</th>\n",
              "      <td>1</td>\n",
              "      <td>1</td>\n",
              "      <td>0</td>\n",
              "      <td>1</td>\n",
              "      <td>1</td>\n",
              "      <td>1</td>\n",
              "      <td>1</td>\n",
              "      <td>1</td>\n",
              "      <td>1</td>\n",
              "      <td>1</td>\n",
              "      <td>20</td>\n",
              "      <td>0</td>\n",
              "      <td>5</td>\n",
              "      <td>0</td>\n",
              "      <td>1</td>\n",
              "      <td>1</td>\n",
              "    </tr>\n",
              "    <tr>\n",
              "      <th>5</th>\n",
              "      <td>1</td>\n",
              "      <td>1</td>\n",
              "      <td>0</td>\n",
              "      <td>0</td>\n",
              "      <td>1</td>\n",
              "      <td>1</td>\n",
              "      <td>1</td>\n",
              "      <td>1</td>\n",
              "      <td>1</td>\n",
              "      <td>1</td>\n",
              "      <td>21</td>\n",
              "      <td>1</td>\n",
              "      <td>7</td>\n",
              "      <td>0</td>\n",
              "      <td>0</td>\n",
              "      <td>1</td>\n",
              "    </tr>\n",
              "    <tr>\n",
              "      <th>6</th>\n",
              "      <td>1</td>\n",
              "      <td>0</td>\n",
              "      <td>0</td>\n",
              "      <td>1</td>\n",
              "      <td>1</td>\n",
              "      <td>1</td>\n",
              "      <td>0</td>\n",
              "      <td>0</td>\n",
              "      <td>1</td>\n",
              "      <td>0</td>\n",
              "      <td>33</td>\n",
              "      <td>1</td>\n",
              "      <td>6</td>\n",
              "      <td>1</td>\n",
              "      <td>0</td>\n",
              "      <td>1</td>\n",
              "    </tr>\n",
              "    <tr>\n",
              "      <th>7</th>\n",
              "      <td>0</td>\n",
              "      <td>1</td>\n",
              "      <td>0</td>\n",
              "      <td>0</td>\n",
              "      <td>1</td>\n",
              "      <td>0</td>\n",
              "      <td>1</td>\n",
              "      <td>1</td>\n",
              "      <td>1</td>\n",
              "      <td>1</td>\n",
              "      <td>33</td>\n",
              "      <td>1</td>\n",
              "      <td>6</td>\n",
              "      <td>1</td>\n",
              "      <td>0</td>\n",
              "      <td>1</td>\n",
              "    </tr>\n",
              "    <tr>\n",
              "      <th>8</th>\n",
              "      <td>0</td>\n",
              "      <td>0</td>\n",
              "      <td>0</td>\n",
              "      <td>0</td>\n",
              "      <td>0</td>\n",
              "      <td>0</td>\n",
              "      <td>1</td>\n",
              "      <td>0</td>\n",
              "      <td>0</td>\n",
              "      <td>1</td>\n",
              "      <td>36</td>\n",
              "      <td>1</td>\n",
              "      <td>6</td>\n",
              "      <td>0</td>\n",
              "      <td>0</td>\n",
              "      <td>0</td>\n",
              "    </tr>\n",
              "    <tr>\n",
              "      <th>9</th>\n",
              "      <td>1</td>\n",
              "      <td>1</td>\n",
              "      <td>1</td>\n",
              "      <td>0</td>\n",
              "      <td>1</td>\n",
              "      <td>1</td>\n",
              "      <td>0</td>\n",
              "      <td>1</td>\n",
              "      <td>1</td>\n",
              "      <td>1</td>\n",
              "      <td>22</td>\n",
              "      <td>1</td>\n",
              "      <td>10</td>\n",
              "      <td>0</td>\n",
              "      <td>0</td>\n",
              "      <td>1</td>\n",
              "    </tr>\n",
              "    <tr>\n",
              "      <th>10</th>\n",
              "      <td>1</td>\n",
              "      <td>0</td>\n",
              "      <td>0</td>\n",
              "      <td>1</td>\n",
              "      <td>0</td>\n",
              "      <td>1</td>\n",
              "      <td>1</td>\n",
              "      <td>0</td>\n",
              "      <td>1</td>\n",
              "      <td>1</td>\n",
              "      <td>36</td>\n",
              "      <td>1</td>\n",
              "      <td>0</td>\n",
              "      <td>1</td>\n",
              "      <td>1</td>\n",
              "      <td>1</td>\n",
              "    </tr>\n",
              "    <tr>\n",
              "      <th>11</th>\n",
              "      <td>1</td>\n",
              "      <td>1</td>\n",
              "      <td>1</td>\n",
              "      <td>1</td>\n",
              "      <td>0</td>\n",
              "      <td>1</td>\n",
              "      <td>1</td>\n",
              "      <td>1</td>\n",
              "      <td>0</td>\n",
              "      <td>1</td>\n",
              "      <td>17</td>\n",
              "      <td>1</td>\n",
              "      <td>8</td>\n",
              "      <td>1</td>\n",
              "      <td>0</td>\n",
              "      <td>1</td>\n",
              "    </tr>\n",
              "    <tr>\n",
              "      <th>12</th>\n",
              "      <td>0</td>\n",
              "      <td>0</td>\n",
              "      <td>0</td>\n",
              "      <td>0</td>\n",
              "      <td>0</td>\n",
              "      <td>0</td>\n",
              "      <td>0</td>\n",
              "      <td>0</td>\n",
              "      <td>0</td>\n",
              "      <td>0</td>\n",
              "      <td>25</td>\n",
              "      <td>0</td>\n",
              "      <td>8</td>\n",
              "      <td>1</td>\n",
              "      <td>0</td>\n",
              "      <td>0</td>\n",
              "    </tr>\n",
              "    <tr>\n",
              "      <th>13</th>\n",
              "      <td>1</td>\n",
              "      <td>1</td>\n",
              "      <td>1</td>\n",
              "      <td>1</td>\n",
              "      <td>0</td>\n",
              "      <td>0</td>\n",
              "      <td>1</td>\n",
              "      <td>0</td>\n",
              "      <td>1</td>\n",
              "      <td>1</td>\n",
              "      <td>15</td>\n",
              "      <td>0</td>\n",
              "      <td>8</td>\n",
              "      <td>1</td>\n",
              "      <td>0</td>\n",
              "      <td>1</td>\n",
              "    </tr>\n",
              "    <tr>\n",
              "      <th>14</th>\n",
              "      <td>0</td>\n",
              "      <td>0</td>\n",
              "      <td>0</td>\n",
              "      <td>0</td>\n",
              "      <td>0</td>\n",
              "      <td>0</td>\n",
              "      <td>0</td>\n",
              "      <td>0</td>\n",
              "      <td>0</td>\n",
              "      <td>0</td>\n",
              "      <td>18</td>\n",
              "      <td>1</td>\n",
              "      <td>8</td>\n",
              "      <td>0</td>\n",
              "      <td>0</td>\n",
              "      <td>0</td>\n",
              "    </tr>\n",
              "    <tr>\n",
              "      <th>15</th>\n",
              "      <td>1</td>\n",
              "      <td>1</td>\n",
              "      <td>1</td>\n",
              "      <td>0</td>\n",
              "      <td>1</td>\n",
              "      <td>0</td>\n",
              "      <td>1</td>\n",
              "      <td>1</td>\n",
              "      <td>0</td>\n",
              "      <td>1</td>\n",
              "      <td>12</td>\n",
              "      <td>1</td>\n",
              "      <td>7</td>\n",
              "      <td>0</td>\n",
              "      <td>0</td>\n",
              "      <td>1</td>\n",
              "    </tr>\n",
              "    <tr>\n",
              "      <th>16</th>\n",
              "      <td>0</td>\n",
              "      <td>0</td>\n",
              "      <td>0</td>\n",
              "      <td>0</td>\n",
              "      <td>0</td>\n",
              "      <td>0</td>\n",
              "      <td>0</td>\n",
              "      <td>0</td>\n",
              "      <td>0</td>\n",
              "      <td>0</td>\n",
              "      <td>36</td>\n",
              "      <td>1</td>\n",
              "      <td>8</td>\n",
              "      <td>0</td>\n",
              "      <td>1</td>\n",
              "      <td>0</td>\n",
              "    </tr>\n",
              "    <tr>\n",
              "      <th>17</th>\n",
              "      <td>1</td>\n",
              "      <td>1</td>\n",
              "      <td>1</td>\n",
              "      <td>0</td>\n",
              "      <td>1</td>\n",
              "      <td>1</td>\n",
              "      <td>1</td>\n",
              "      <td>1</td>\n",
              "      <td>0</td>\n",
              "      <td>1</td>\n",
              "      <td>12</td>\n",
              "      <td>0</td>\n",
              "      <td>8</td>\n",
              "      <td>1</td>\n",
              "      <td>0</td>\n",
              "      <td>1</td>\n",
              "    </tr>\n",
              "    <tr>\n",
              "      <th>18</th>\n",
              "      <td>1</td>\n",
              "      <td>0</td>\n",
              "      <td>0</td>\n",
              "      <td>0</td>\n",
              "      <td>1</td>\n",
              "      <td>0</td>\n",
              "      <td>0</td>\n",
              "      <td>0</td>\n",
              "      <td>0</td>\n",
              "      <td>1</td>\n",
              "      <td>29</td>\n",
              "      <td>0</td>\n",
              "      <td>8</td>\n",
              "      <td>0</td>\n",
              "      <td>0</td>\n",
              "      <td>0</td>\n",
              "    </tr>\n",
              "    <tr>\n",
              "      <th>19</th>\n",
              "      <td>1</td>\n",
              "      <td>1</td>\n",
              "      <td>1</td>\n",
              "      <td>0</td>\n",
              "      <td>1</td>\n",
              "      <td>0</td>\n",
              "      <td>1</td>\n",
              "      <td>1</td>\n",
              "      <td>0</td>\n",
              "      <td>1</td>\n",
              "      <td>12</td>\n",
              "      <td>0</td>\n",
              "      <td>7</td>\n",
              "      <td>0</td>\n",
              "      <td>0</td>\n",
              "      <td>1</td>\n",
              "    </tr>\n",
              "    <tr>\n",
              "      <th>20</th>\n",
              "      <td>1</td>\n",
              "      <td>0</td>\n",
              "      <td>0</td>\n",
              "      <td>1</td>\n",
              "      <td>1</td>\n",
              "      <td>1</td>\n",
              "      <td>1</td>\n",
              "      <td>1</td>\n",
              "      <td>1</td>\n",
              "      <td>0</td>\n",
              "      <td>36</td>\n",
              "      <td>1</td>\n",
              "      <td>8</td>\n",
              "      <td>0</td>\n",
              "      <td>0</td>\n",
              "      <td>1</td>\n",
              "    </tr>\n",
              "    <tr>\n",
              "      <th>21</th>\n",
              "      <td>1</td>\n",
              "      <td>0</td>\n",
              "      <td>1</td>\n",
              "      <td>1</td>\n",
              "      <td>1</td>\n",
              "      <td>1</td>\n",
              "      <td>1</td>\n",
              "      <td>0</td>\n",
              "      <td>1</td>\n",
              "      <td>0</td>\n",
              "      <td>36</td>\n",
              "      <td>1</td>\n",
              "      <td>8</td>\n",
              "      <td>0</td>\n",
              "      <td>0</td>\n",
              "      <td>1</td>\n",
              "    </tr>\n",
              "    <tr>\n",
              "      <th>22</th>\n",
              "      <td>1</td>\n",
              "      <td>0</td>\n",
              "      <td>1</td>\n",
              "      <td>1</td>\n",
              "      <td>0</td>\n",
              "      <td>1</td>\n",
              "      <td>0</td>\n",
              "      <td>1</td>\n",
              "      <td>1</td>\n",
              "      <td>1</td>\n",
              "      <td>36</td>\n",
              "      <td>1</td>\n",
              "      <td>2</td>\n",
              "      <td>1</td>\n",
              "      <td>1</td>\n",
              "      <td>1</td>\n",
              "    </tr>\n",
              "    <tr>\n",
              "      <th>23</th>\n",
              "      <td>1</td>\n",
              "      <td>1</td>\n",
              "      <td>1</td>\n",
              "      <td>0</td>\n",
              "      <td>1</td>\n",
              "      <td>1</td>\n",
              "      <td>0</td>\n",
              "      <td>1</td>\n",
              "      <td>1</td>\n",
              "      <td>0</td>\n",
              "      <td>36</td>\n",
              "      <td>1</td>\n",
              "      <td>8</td>\n",
              "      <td>1</td>\n",
              "      <td>1</td>\n",
              "      <td>1</td>\n",
              "    </tr>\n",
              "    <tr>\n",
              "      <th>24</th>\n",
              "      <td>1</td>\n",
              "      <td>1</td>\n",
              "      <td>1</td>\n",
              "      <td>1</td>\n",
              "      <td>1</td>\n",
              "      <td>1</td>\n",
              "      <td>1</td>\n",
              "      <td>1</td>\n",
              "      <td>1</td>\n",
              "      <td>0</td>\n",
              "      <td>22</td>\n",
              "      <td>1</td>\n",
              "      <td>5</td>\n",
              "      <td>0</td>\n",
              "      <td>0</td>\n",
              "      <td>1</td>\n",
              "    </tr>\n",
              "  </tbody>\n",
              "</table>\n",
              "</div>"
            ],
            "text/plain": [
              "    A1  A2  A3  A4  ...  Ethnicity  Jaundice  Family_mem_with_ASD  Class/ASD Traits \n",
              "0    0   0   0   0  ...          8         1                    0                  0\n",
              "1    1   1   0   0  ...          5         1                    0                  1\n",
              "2    1   0   0   0  ...          8         1                    0                  1\n",
              "3    1   1   1   1  ...          0         0                    0                  1\n",
              "4    1   1   0   1  ...          5         0                    1                  1\n",
              "5    1   1   0   0  ...          7         0                    0                  1\n",
              "6    1   0   0   1  ...          6         1                    0                  1\n",
              "7    0   1   0   0  ...          6         1                    0                  1\n",
              "8    0   0   0   0  ...          6         0                    0                  0\n",
              "9    1   1   1   0  ...         10         0                    0                  1\n",
              "10   1   0   0   1  ...          0         1                    1                  1\n",
              "11   1   1   1   1  ...          8         1                    0                  1\n",
              "12   0   0   0   0  ...          8         1                    0                  0\n",
              "13   1   1   1   1  ...          8         1                    0                  1\n",
              "14   0   0   0   0  ...          8         0                    0                  0\n",
              "15   1   1   1   0  ...          7         0                    0                  1\n",
              "16   0   0   0   0  ...          8         0                    1                  0\n",
              "17   1   1   1   0  ...          8         1                    0                  1\n",
              "18   1   0   0   0  ...          8         0                    0                  0\n",
              "19   1   1   1   0  ...          7         0                    0                  1\n",
              "20   1   0   0   1  ...          8         0                    0                  1\n",
              "21   1   0   1   1  ...          8         0                    0                  1\n",
              "22   1   0   1   1  ...          2         1                    1                  1\n",
              "23   1   1   1   0  ...          8         1                    1                  1\n",
              "24   1   1   1   1  ...          5         0                    0                  1\n",
              "\n",
              "[25 rows x 16 columns]"
            ]
          },
          "metadata": {
            "tags": []
          },
          "execution_count": 24
        }
      ]
    },
    {
      "cell_type": "markdown",
      "metadata": {
        "id": "fWMFhK_gZnXK"
      },
      "source": [
        "# Define X and y and split the data to training/testing, with test-size=40%"
      ]
    },
    {
      "cell_type": "code",
      "metadata": {
        "id": "mXgnnkB-QcuS",
        "colab": {
          "base_uri": "https://localhost:8080/"
        },
        "outputId": "b5b546fc-4481-4ff3-deb1-8f39376022c4"
      },
      "source": [
        "X = df.drop(['Class/ASD Traits '], axis = 1)\n",
        "y = df['Class/ASD Traits ']\n",
        "X_train, X_test, y_train, y_test = train_test_split(X, y, test_size = 0.40, random_state =42)\n",
        "X.isnull().sum()\n",
        "X.info()"
      ],
      "execution_count": 25,
      "outputs": [
        {
          "output_type": "execute_result",
          "data": {
            "text/plain": [
              "A1                     0\n",
              "A2                     0\n",
              "A3                     0\n",
              "A4                     0\n",
              "A5                     0\n",
              "A6                     0\n",
              "A7                     0\n",
              "A8                     0\n",
              "A9                     0\n",
              "A10                    0\n",
              "Age_Mons               0\n",
              "Sex                    0\n",
              "Ethnicity              0\n",
              "Jaundice               0\n",
              "Family_mem_with_ASD    0\n",
              "dtype: int64"
            ]
          },
          "metadata": {
            "tags": []
          },
          "execution_count": 25
        },
        {
          "output_type": "stream",
          "text": [
            "<class 'pandas.core.frame.DataFrame'>\n",
            "RangeIndex: 1054 entries, 0 to 1053\n",
            "Data columns (total 15 columns):\n",
            " #   Column               Non-Null Count  Dtype\n",
            "---  ------               --------------  -----\n",
            " 0   A1                   1054 non-null   int64\n",
            " 1   A2                   1054 non-null   int64\n",
            " 2   A3                   1054 non-null   int64\n",
            " 3   A4                   1054 non-null   int64\n",
            " 4   A5                   1054 non-null   int64\n",
            " 5   A6                   1054 non-null   int64\n",
            " 6   A7                   1054 non-null   int64\n",
            " 7   A8                   1054 non-null   int64\n",
            " 8   A9                   1054 non-null   int64\n",
            " 9   A10                  1054 non-null   int64\n",
            " 10  Age_Mons             1054 non-null   int64\n",
            " 11  Sex                  1054 non-null   int64\n",
            " 12  Ethnicity            1054 non-null   int64\n",
            " 13  Jaundice             1054 non-null   int64\n",
            " 14  Family_mem_with_ASD  1054 non-null   int64\n",
            "dtypes: int64(15)\n",
            "memory usage: 123.6 KB\n"
          ],
          "name": "stdout"
        }
      ]
    },
    {
      "cell_type": "markdown",
      "metadata": {
        "id": "Rv6ISSCFaCKd"
      },
      "source": [
        "# Modeling, I performed 10 models "
      ]
    },
    {
      "cell_type": "code",
      "metadata": {
        "id": "Lf8rZ2QvRORm",
        "colab": {
          "base_uri": "https://localhost:8080/",
          "height": 1000
        },
        "outputId": "32086217-9a76-4680-c82c-626973d8ea36"
      },
      "source": [
        "from sklearn.metrics import classification_report,confusion_matrix\n",
        "\n",
        "models = []\n",
        "models.append(('LR', LogisticRegression()))\n",
        "models.append(('LDA', LinearDiscriminantAnalysis()))\n",
        "models.append(('KNN', KNeighborsClassifier()))\n",
        "models.append(('CART', DecisionTreeClassifier()))\n",
        "models.append(('NB', GaussianNB()))\n",
        "models.append(('SVM', SVC()))\n",
        "models.append(('RF', RandomForestRegressor()))\n",
        "models.append(('XGB', XGBClassifier()))\n",
        "models.append(('GBR', GradientBoostingRegressor()))\n",
        "models.append(('ABR', AdaBoostRegressor()))\n",
        "\n",
        "for name, model in models:\n",
        "    model.fit(X_train, y_train)\n",
        "    y_hat_test = model.predict(X_test).astype(int)\n",
        "    y_hat_train = model.predict(X_train).astype(int)\n",
        "    print(name, 'Accuracy Score is : ', accuracy_score(y_test, y_hat_test))\n",
        "\n",
        "    metrics(name, y_train, y_test, y_hat_train, y_hat_test)\n",
        "\n",
        "\n",
        "    \n",
        "    "
      ],
      "execution_count": 26,
      "outputs": [
        {
          "output_type": "execute_result",
          "data": {
            "text/plain": [
              "LogisticRegression(C=1.0, class_weight=None, dual=False, fit_intercept=True,\n",
              "                   intercept_scaling=1, l1_ratio=None, max_iter=100,\n",
              "                   multi_class='auto', n_jobs=None, penalty='l2',\n",
              "                   random_state=None, solver='lbfgs', tol=0.0001, verbose=0,\n",
              "                   warm_start=False)"
            ]
          },
          "metadata": {
            "tags": []
          },
          "execution_count": 26
        },
        {
          "output_type": "stream",
          "text": [
            "LR Accuracy Score is :  1.0\n",
            "Model: LR\n",
            "------------------------------------------------------------\n"
          ],
          "name": "stdout"
        },
        {
          "output_type": "display_data",
          "data": {
            "image/png": "[encoded data removed]",
            "text/plain": [
              "<Figure size 432x288 with 2 Axes>"
            ]
          },
          "metadata": {
            "tags": []
          }
        },
        {
          "output_type": "stream",
          "text": [
            "test accuracy: 1.0\n",
            "train accuracy: 1.0\n",
            "------------------------------------------------------------\n",
            "------------------------------------------------------------\n",
            "Confusion Matrix:\n",
            " Predicted    0    1  All\n",
            "Actual                  \n",
            "0          129    0  129\n",
            "1            0  293  293\n",
            "All        129  293  422\n",
            "\n",
            "test report:\n",
            "              precision    recall  f1-score   support\n",
            "\n",
            "           0       1.00      1.00      1.00       129\n",
            "           1       1.00      1.00      1.00       293\n",
            "\n",
            "    accuracy                           1.00       422\n",
            "   macro avg       1.00      1.00      1.00       422\n",
            "weighted avg       1.00      1.00      1.00       422\n",
            "\n",
            "~~~~~~~~~~~~~~~~~~~~~~~~~~~~~~~~~~~~~~~~~~~~~~~~~~~~~~~~~~~~\n",
            "\n",
            "train report:\n",
            "              precision    recall  f1-score   support\n",
            "\n",
            "           0       1.00      1.00      1.00       197\n",
            "           1       1.00      1.00      1.00       435\n",
            "\n",
            "    accuracy                           1.00       632\n",
            "   macro avg       1.00      1.00      1.00       632\n",
            "weighted avg       1.00      1.00      1.00       632\n",
            "\n",
            "------------------------------------------------------------\n"
          ],
          "name": "stdout"
        },
        {
          "output_type": "execute_result",
          "data": {
            "text/plain": [
              "LinearDiscriminantAnalysis(n_components=None, priors=None, shrinkage=None,\n",
              "                           solver='svd', store_covariance=False, tol=0.0001)"
            ]
          },
          "metadata": {
            "tags": []
          },
          "execution_count": 26
        },
        {
          "output_type": "stream",
          "text": [
            "LDA Accuracy Score is :  0.9597156398104265\n",
            "Model: LDA\n",
            "------------------------------------------------------------\n"
          ],
          "name": "stdout"
        },
        {
          "output_type": "display_data",
          "data": {
            "image/png": "[encoded data removed]",
            "text/plain": [
              "<Figure size 432x288 with 2 Axes>"
            ]
          },
          "metadata": {
            "tags": []
          }
        },
        {
          "output_type": "stream",
          "text": [
            "test accuracy: 0.96\n",
            "train accuracy: 0.96\n",
            "------------------------------------------------------------\n",
            "------------------------------------------------------------\n",
            "Confusion Matrix:\n",
            " Predicted    0    1  All\n",
            "Actual                  \n",
            "0          124    5  129\n",
            "1           12  281  293\n",
            "All        136  286  422\n",
            "\n",
            "test report:\n",
            "              precision    recall  f1-score   support\n",
            "\n",
            "           0       0.91      0.96      0.94       129\n",
            "           1       0.98      0.96      0.97       293\n",
            "\n",
            "    accuracy                           0.96       422\n",
            "   macro avg       0.95      0.96      0.95       422\n",
            "weighted avg       0.96      0.96      0.96       422\n",
            "\n",
            "~~~~~~~~~~~~~~~~~~~~~~~~~~~~~~~~~~~~~~~~~~~~~~~~~~~~~~~~~~~~\n",
            "\n",
            "train report:\n",
            "              precision    recall  f1-score   support\n",
            "\n",
            "           0       0.89      0.98      0.93       197\n",
            "           1       0.99      0.95      0.97       435\n",
            "\n",
            "    accuracy                           0.96       632\n",
            "   macro avg       0.94      0.96      0.95       632\n",
            "weighted avg       0.96      0.96      0.96       632\n",
            "\n",
            "------------------------------------------------------------\n"
          ],
          "name": "stdout"
        },
        {
          "output_type": "execute_result",
          "data": {
            "text/plain": [
              "KNeighborsClassifier(algorithm='auto', leaf_size=30, metric='minkowski',\n",
              "                     metric_params=None, n_jobs=None, n_neighbors=5, p=2,\n",
              "                     weights='uniform')"
            ]
          },
          "metadata": {
            "tags": []
          },
          "execution_count": 26
        },
        {
          "output_type": "stream",
          "text": [
            "KNN Accuracy Score is :  0.9146919431279621\n",
            "Model: KNN\n",
            "------------------------------------------------------------\n"
          ],
          "name": "stdout"
        },
        {
          "output_type": "display_data",
          "data": {
            "image/png": "[encoded data removed]",
            "text/plain": [
              "<Figure size 432x288 with 2 Axes>"
            ]
          },
          "metadata": {
            "tags": []
          }
        },
        {
          "output_type": "stream",
          "text": [
            "test accuracy: 0.91\n",
            "train accuracy: 0.95\n",
            "------------------------------------------------------------\n",
            "------------------------------------------------------------\n",
            "Confusion Matrix:\n",
            " Predicted    0    1  All\n",
            "Actual                  \n",
            "0          114   15  129\n",
            "1           21  272  293\n",
            "All        135  287  422\n",
            "\n",
            "test report:\n",
            "              precision    recall  f1-score   support\n",
            "\n",
            "           0       0.84      0.88      0.86       129\n",
            "           1       0.95      0.93      0.94       293\n",
            "\n",
            "    accuracy                           0.91       422\n",
            "   macro avg       0.90      0.91      0.90       422\n",
            "weighted avg       0.92      0.91      0.92       422\n",
            "\n",
            "~~~~~~~~~~~~~~~~~~~~~~~~~~~~~~~~~~~~~~~~~~~~~~~~~~~~~~~~~~~~\n",
            "\n",
            "train report:\n",
            "              precision    recall  f1-score   support\n",
            "\n",
            "           0       0.90      0.93      0.92       197\n",
            "           1       0.97      0.95      0.96       435\n",
            "\n",
            "    accuracy                           0.95       632\n",
            "   macro avg       0.93      0.94      0.94       632\n",
            "weighted avg       0.95      0.95      0.95       632\n",
            "\n",
            "------------------------------------------------------------\n"
          ],
          "name": "stdout"
        },
        {
          "output_type": "execute_result",
          "data": {
            "text/plain": [
              "DecisionTreeClassifier(ccp_alpha=0.0, class_weight=None, criterion='gini',\n",
              "                       max_depth=None, max_features=None, max_leaf_nodes=None,\n",
              "                       min_impurity_decrease=0.0, min_impurity_split=None,\n",
              "                       min_samples_leaf=1, min_samples_split=2,\n",
              "                       min_weight_fraction_leaf=0.0, presort='deprecated',\n",
              "                       random_state=None, splitter='best')"
            ]
          },
          "metadata": {
            "tags": []
          },
          "execution_count": 26
        },
        {
          "output_type": "stream",
          "text": [
            "CART Accuracy Score is :  0.9146919431279621\n",
            "Model: CART\n",
            "------------------------------------------------------------\n"
          ],
          "name": "stdout"
        },
        {
          "output_type": "display_data",
          "data": {
            "image/png": "[encoded data removed]",
            "text/plain": [
              "<Figure size 432x288 with 2 Axes>"
            ]
          },
          "metadata": {
            "tags": []
          }
        },
        {
          "output_type": "stream",
          "text": [
            "test accuracy: 0.91\n",
            "train accuracy: 1.0\n",
            "------------------------------------------------------------\n",
            "------------------------------------------------------------\n",
            "Confusion Matrix:\n",
            " Predicted    0    1  All\n",
            "Actual                  \n",
            "0          112   17  129\n",
            "1           19  274  293\n",
            "All        131  291  422\n",
            "\n",
            "test report:\n",
            "              precision    recall  f1-score   support\n",
            "\n",
            "           0       0.85      0.87      0.86       129\n",
            "           1       0.94      0.94      0.94       293\n",
            "\n",
            "    accuracy                           0.91       422\n",
            "   macro avg       0.90      0.90      0.90       422\n",
            "weighted avg       0.92      0.91      0.91       422\n",
            "\n",
            "~~~~~~~~~~~~~~~~~~~~~~~~~~~~~~~~~~~~~~~~~~~~~~~~~~~~~~~~~~~~\n",
            "\n",
            "train report:\n",
            "              precision    recall  f1-score   support\n",
            "\n",
            "           0       1.00      1.00      1.00       197\n",
            "           1       1.00      1.00      1.00       435\n",
            "\n",
            "    accuracy                           1.00       632\n",
            "   macro avg       1.00      1.00      1.00       632\n",
            "weighted avg       1.00      1.00      1.00       632\n",
            "\n",
            "------------------------------------------------------------\n"
          ],
          "name": "stdout"
        },
        {
          "output_type": "execute_result",
          "data": {
            "text/plain": [
              "GaussianNB(priors=None, var_smoothing=1e-09)"
            ]
          },
          "metadata": {
            "tags": []
          },
          "execution_count": 26
        },
        {
          "output_type": "stream",
          "text": [
            "NB Accuracy Score is :  0.9407582938388626\n",
            "Model: NB\n",
            "------------------------------------------------------------\n"
          ],
          "name": "stdout"
        },
        {
          "output_type": "display_data",
          "data": {
            "image/png": "[encoded data removed]",
            "text/plain": [
              "<Figure size 432x288 with 2 Axes>"
            ]
          },
          "metadata": {
            "tags": []
          }
        },
        {
          "output_type": "stream",
          "text": [
            "test accuracy: 0.94\n",
            "train accuracy: 0.95\n",
            "------------------------------------------------------------\n",
            "------------------------------------------------------------\n",
            "Confusion Matrix:\n",
            " Predicted    0    1  All\n",
            "Actual                  \n",
            "0          116   13  129\n",
            "1           12  281  293\n",
            "All        128  294  422\n",
            "\n",
            "test report:\n",
            "              precision    recall  f1-score   support\n",
            "\n",
            "           0       0.91      0.90      0.90       129\n",
            "           1       0.96      0.96      0.96       293\n",
            "\n",
            "    accuracy                           0.94       422\n",
            "   macro avg       0.93      0.93      0.93       422\n",
            "weighted avg       0.94      0.94      0.94       422\n",
            "\n",
            "~~~~~~~~~~~~~~~~~~~~~~~~~~~~~~~~~~~~~~~~~~~~~~~~~~~~~~~~~~~~\n",
            "\n",
            "train report:\n",
            "              precision    recall  f1-score   support\n",
            "\n",
            "           0       0.92      0.93      0.93       197\n",
            "           1       0.97      0.97      0.97       435\n",
            "\n",
            "    accuracy                           0.95       632\n",
            "   macro avg       0.95      0.95      0.95       632\n",
            "weighted avg       0.95      0.95      0.95       632\n",
            "\n",
            "------------------------------------------------------------\n"
          ],
          "name": "stdout"
        },
        {
          "output_type": "execute_result",
          "data": {
            "text/plain": [
              "SVC(C=1.0, break_ties=False, cache_size=200, class_weight=None, coef0=0.0,\n",
              "    decision_function_shape='ovr', degree=3, gamma='scale', kernel='rbf',\n",
              "    max_iter=-1, probability=False, random_state=None, shrinking=True,\n",
              "    tol=0.001, verbose=False)"
            ]
          },
          "metadata": {
            "tags": []
          },
          "execution_count": 26
        },
        {
          "output_type": "stream",
          "text": [
            "SVM Accuracy Score is :  0.7796208530805687\n",
            "Model: SVM\n",
            "------------------------------------------------------------\n"
          ],
          "name": "stdout"
        },
        {
          "output_type": "display_data",
          "data": {
            "image/png": "[encoded data removed]",
            "text/plain": [
              "<Figure size 432x288 with 2 Axes>"
            ]
          },
          "metadata": {
            "tags": []
          }
        },
        {
          "output_type": "stream",
          "text": [
            "test accuracy: 0.78\n",
            "train accuracy: 0.78\n",
            "------------------------------------------------------------\n",
            "------------------------------------------------------------\n",
            "Confusion Matrix:\n",
            " Predicted   0    1  All\n",
            "Actual                 \n",
            "0          36   93  129\n",
            "1           0  293  293\n",
            "All        36  386  422\n",
            "\n",
            "test report:\n",
            "              precision    recall  f1-score   support\n",
            "\n",
            "           0       1.00      0.28      0.44       129\n",
            "           1       0.76      1.00      0.86       293\n",
            "\n",
            "    accuracy                           0.78       422\n",
            "   macro avg       0.88      0.64      0.65       422\n",
            "weighted avg       0.83      0.78      0.73       422\n",
            "\n",
            "~~~~~~~~~~~~~~~~~~~~~~~~~~~~~~~~~~~~~~~~~~~~~~~~~~~~~~~~~~~~\n",
            "\n",
            "train report:\n",
            "              precision    recall  f1-score   support\n",
            "\n",
            "           0       1.00      0.29      0.45       197\n",
            "           1       0.76      1.00      0.86       435\n",
            "\n",
            "    accuracy                           0.78       632\n",
            "   macro avg       0.88      0.65      0.66       632\n",
            "weighted avg       0.83      0.78      0.74       632\n",
            "\n",
            "------------------------------------------------------------\n"
          ],
          "name": "stdout"
        },
        {
          "output_type": "execute_result",
          "data": {
            "text/plain": [
              "RandomForestRegressor(bootstrap=True, ccp_alpha=0.0, criterion='mse',\n",
              "                      max_depth=None, max_features='auto', max_leaf_nodes=None,\n",
              "                      max_samples=None, min_impurity_decrease=0.0,\n",
              "                      min_impurity_split=None, min_samples_leaf=1,\n",
              "                      min_samples_split=2, min_weight_fraction_leaf=0.0,\n",
              "                      n_estimators=100, n_jobs=None, oob_score=False,\n",
              "                      random_state=None, verbose=0, warm_start=False)"
            ]
          },
          "metadata": {
            "tags": []
          },
          "execution_count": 26
        },
        {
          "output_type": "stream",
          "text": [
            "RF Accuracy Score is :  0.6421800947867299\n",
            "Model: RF\n",
            "------------------------------------------------------------\n"
          ],
          "name": "stdout"
        },
        {
          "output_type": "display_data",
          "data": {
            "image/png": "[encoded data removed]",
            "text/plain": [
              "<Figure size 432x288 with 2 Axes>"
            ]
          },
          "metadata": {
            "tags": []
          }
        },
        {
          "output_type": "stream",
          "text": [
            "test accuracy: 0.64\n",
            "train accuracy: 0.72\n",
            "------------------------------------------------------------\n",
            "------------------------------------------------------------\n",
            "Confusion Matrix:\n",
            " Predicted    0    1  All\n",
            "Actual                  \n",
            "0          129    0  129\n",
            "1          151  142  293\n",
            "All        280  142  422\n",
            "\n",
            "test report:\n",
            "              precision    recall  f1-score   support\n",
            "\n",
            "           0       0.46      1.00      0.63       129\n",
            "           1       1.00      0.48      0.65       293\n",
            "\n",
            "    accuracy                           0.64       422\n",
            "   macro avg       0.73      0.74      0.64       422\n",
            "weighted avg       0.84      0.64      0.65       422\n",
            "\n",
            "~~~~~~~~~~~~~~~~~~~~~~~~~~~~~~~~~~~~~~~~~~~~~~~~~~~~~~~~~~~~\n",
            "\n",
            "train report:\n",
            "              precision    recall  f1-score   support\n",
            "\n",
            "           0       0.52      1.00      0.69       197\n",
            "           1       1.00      0.59      0.74       435\n",
            "\n",
            "    accuracy                           0.72       632\n",
            "   macro avg       0.76      0.79      0.71       632\n",
            "weighted avg       0.85      0.72      0.72       632\n",
            "\n",
            "------------------------------------------------------------\n"
          ],
          "name": "stdout"
        },
        {
          "output_type": "execute_result",
          "data": {
            "text/plain": [
              "XGBClassifier(base_score=0.5, booster='gbtree', colsample_bylevel=1,\n",
              "              colsample_bynode=1, colsample_bytree=1, gamma=0,\n",
              "              learning_rate=0.1, max_delta_step=0, max_depth=3,\n",
              "              min_child_weight=1, missing=None, n_estimators=100, n_jobs=1,\n",
              "              nthread=None, objective='binary:logistic', random_state=0,\n",
              "              reg_alpha=0, reg_lambda=1, scale_pos_weight=1, seed=None,\n",
              "              silent=None, subsample=1, verbosity=1)"
            ]
          },
          "metadata": {
            "tags": []
          },
          "execution_count": 26
        },
        {
          "output_type": "stream",
          "text": [
            "XGB Accuracy Score is :  0.9881516587677726\n",
            "Model: XGB\n",
            "------------------------------------------------------------\n"
          ],
          "name": "stdout"
        },
        {
          "output_type": "display_data",
          "data": {
            "image/png": "[encoded data removed]",
            "text/plain": [
              "<Figure size 432x288 with 2 Axes>"
            ]
          },
          "metadata": {
            "tags": []
          }
        },
        {
          "output_type": "stream",
          "text": [
            "test accuracy: 0.99\n",
            "train accuracy: 1.0\n",
            "------------------------------------------------------------\n",
            "------------------------------------------------------------\n",
            "Confusion Matrix:\n",
            " Predicted    0    1  All\n",
            "Actual                  \n",
            "0          126    3  129\n",
            "1            2  291  293\n",
            "All        128  294  422\n",
            "\n",
            "test report:\n",
            "              precision    recall  f1-score   support\n",
            "\n",
            "           0       0.98      0.98      0.98       129\n",
            "           1       0.99      0.99      0.99       293\n",
            "\n",
            "    accuracy                           0.99       422\n",
            "   macro avg       0.99      0.98      0.99       422\n",
            "weighted avg       0.99      0.99      0.99       422\n",
            "\n",
            "~~~~~~~~~~~~~~~~~~~~~~~~~~~~~~~~~~~~~~~~~~~~~~~~~~~~~~~~~~~~\n",
            "\n",
            "train report:\n",
            "              precision    recall  f1-score   support\n",
            "\n",
            "           0       1.00      1.00      1.00       197\n",
            "           1       1.00      1.00      1.00       435\n",
            "\n",
            "    accuracy                           1.00       632\n",
            "   macro avg       1.00      1.00      1.00       632\n",
            "weighted avg       1.00      1.00      1.00       632\n",
            "\n",
            "------------------------------------------------------------\n"
          ],
          "name": "stdout"
        },
        {
          "output_type": "execute_result",
          "data": {
            "text/plain": [
              "GradientBoostingRegressor(alpha=0.9, ccp_alpha=0.0, criterion='friedman_mse',\n",
              "                          init=None, learning_rate=0.1, loss='ls', max_depth=3,\n",
              "                          max_features=None, max_leaf_nodes=None,\n",
              "                          min_impurity_decrease=0.0, min_impurity_split=None,\n",
              "                          min_samples_leaf=1, min_samples_split=2,\n",
              "                          min_weight_fraction_leaf=0.0, n_estimators=100,\n",
              "                          n_iter_no_change=None, presort='deprecated',\n",
              "                          random_state=None, subsample=1.0, tol=0.0001,\n",
              "                          validation_fraction=0.1, verbose=0, warm_start=False)"
            ]
          },
          "metadata": {
            "tags": []
          },
          "execution_count": 26
        },
        {
          "output_type": "stream",
          "text": [
            "GBR Accuracy Score is :  0.6374407582938388\n",
            "Model: GBR\n",
            "------------------------------------------------------------\n"
          ],
          "name": "stdout"
        },
        {
          "output_type": "display_data",
          "data": {
            "image/png": "[encoded data removed]",
            "text/plain": [
              "<Figure size 432x288 with 2 Axes>"
            ]
          },
          "metadata": {
            "tags": []
          }
        },
        {
          "output_type": "stream",
          "text": [
            "test accuracy: 0.64\n",
            "train accuracy: 0.63\n",
            "------------------------------------------------------------\n",
            "------------------------------------------------------------\n",
            "Confusion Matrix:\n",
            " Predicted    0    1  All\n",
            "Actual                  \n",
            "0          129    0  129\n",
            "1          153  140  293\n",
            "All        282  140  422\n",
            "\n",
            "test report:\n",
            "              precision    recall  f1-score   support\n",
            "\n",
            "           0       0.46      1.00      0.63       129\n",
            "           1       1.00      0.48      0.65       293\n",
            "\n",
            "    accuracy                           0.64       422\n",
            "   macro avg       0.73      0.74      0.64       422\n",
            "weighted avg       0.83      0.64      0.64       422\n",
            "\n",
            "~~~~~~~~~~~~~~~~~~~~~~~~~~~~~~~~~~~~~~~~~~~~~~~~~~~~~~~~~~~~\n",
            "\n",
            "train report:\n",
            "              precision    recall  f1-score   support\n",
            "\n",
            "           0       0.46      1.00      0.63       197\n",
            "           1       1.00      0.47      0.64       435\n",
            "\n",
            "    accuracy                           0.63       632\n",
            "   macro avg       0.73      0.73      0.63       632\n",
            "weighted avg       0.83      0.63      0.63       632\n",
            "\n",
            "------------------------------------------------------------\n"
          ],
          "name": "stdout"
        },
        {
          "output_type": "execute_result",
          "data": {
            "text/plain": [
              "AdaBoostRegressor(base_estimator=None, learning_rate=1.0, loss='linear',\n",
              "                  n_estimators=50, random_state=None)"
            ]
          },
          "metadata": {
            "tags": []
          },
          "execution_count": 26
        },
        {
          "output_type": "stream",
          "text": [
            "ABR Accuracy Score is :  0.42890995260663506\n",
            "Model: ABR\n",
            "------------------------------------------------------------\n"
          ],
          "name": "stdout"
        },
        {
          "output_type": "display_data",
          "data": {
            "image/png": "[encoded data removed]",
            "text/plain": [
              "<Figure size 432x288 with 2 Axes>"
            ]
          },
          "metadata": {
            "tags": []
          }
        },
        {
          "output_type": "stream",
          "text": [
            "test accuracy: 0.43\n",
            "train accuracy: 0.44\n",
            "------------------------------------------------------------\n",
            "------------------------------------------------------------\n",
            "Confusion Matrix:\n",
            " Predicted    0   1  All\n",
            "Actual                 \n",
            "0          129   0  129\n",
            "1          241  52  293\n",
            "All        370  52  422\n",
            "\n",
            "test report:\n",
            "              precision    recall  f1-score   support\n",
            "\n",
            "           0       0.35      1.00      0.52       129\n",
            "           1       1.00      0.18      0.30       293\n",
            "\n",
            "    accuracy                           0.43       422\n",
            "   macro avg       0.67      0.59      0.41       422\n",
            "weighted avg       0.80      0.43      0.37       422\n",
            "\n",
            "~~~~~~~~~~~~~~~~~~~~~~~~~~~~~~~~~~~~~~~~~~~~~~~~~~~~~~~~~~~~\n",
            "\n",
            "train report:\n",
            "              precision    recall  f1-score   support\n",
            "\n",
            "           0       0.36      1.00      0.53       197\n",
            "           1       1.00      0.18      0.31       435\n",
            "\n",
            "    accuracy                           0.44       632\n",
            "   macro avg       0.68      0.59      0.42       632\n",
            "weighted avg       0.80      0.44      0.38       632\n",
            "\n",
            "------------------------------------------------------------\n"
          ],
          "name": "stdout"
        }
      ]
    },
    {
      "cell_type": "markdown",
      "metadata": {
        "id": "hZShmJhkaOIA"
      },
      "source": [
        "## Colecting the accuracy of every model"
      ]
    },
    {
      "cell_type": "code",
      "metadata": {
        "id": "UgJiAGE3IReH",
        "colab": {
          "base_uri": "https://localhost:8080/"
        },
        "outputId": "a847b760-5913-49f8-99b6-09614e23d033"
      },
      "source": [
        "for name, model in models:\n",
        "    \n",
        "    y_hat_test = model.predict(X_test).astype(int)\n",
        "    y_hat_train = model.predict(X_train).astype(int)\n",
        "    print(name, 'Accuracy Score is : ',round( accuracy_score(y_test, y_hat_test),2))"
      ],
      "execution_count": 27,
      "outputs": [
        {
          "output_type": "stream",
          "text": [
            "LR Accuracy Score is :  1.0\n",
            "LDA Accuracy Score is :  0.96\n",
            "KNN Accuracy Score is :  0.91\n",
            "CART Accuracy Score is :  0.91\n",
            "NB Accuracy Score is :  0.94\n",
            "SVM Accuracy Score is :  0.78\n",
            "RF Accuracy Score is :  0.64\n",
            "XGB Accuracy Score is :  0.99\n",
            "GBR Accuracy Score is :  0.64\n",
            "ABR Accuracy Score is :  0.43\n"
          ],
          "name": "stdout"
        }
      ]
    },
    {
      "cell_type": "markdown",
      "metadata": {
        "id": "g2sNRWXWll2S"
      },
      "source": [
        "# Interpreting the Results:\n",
        "Logistic Regression model training and testing accuracy are 100%, Recall, Precision, F1score are 100% for both yes autism and no autism patients, FP, and False negative= Zero. Logistic Regression with default parameters is an ideal model.\n",
        "\n",
        "LinearDiscriminantAnalysis has training and testing and Recall accuracy= 96% So LinearDiscriminantAnalysis is also a very good model.\n",
        "\n",
        "KNN model has test accuracy: 0.91,train accuracy: 0.95, and weight average Recall = 91%.\n",
        "so KNN is a good model.\n",
        "\n",
        "The decision tree model has test accuracy: 0.91 and train accuracy: 1.0. This model has to be hyper tuned to adjust the overfitting, so it is not accepted.\n",
        "NaieveBays model has test accuracy: 0.94, train accuracy: 0.95, and Weighted average Recall 94%, so naieve bayes is a good model.\n",
        "\n",
        "The support vector machine and random forest have a low accuracy score before hyper tuned, so they are rejected.\n",
        "\n",
        "XG Boosting has test accuracy: 0.99, train accuracy: 1.0, and Weighted average Recall for positive cases =99%, So XG Boosting is an ideal model ranked number#2 after Logistic Regression.\n",
        "\n",
        "GradientBoosting and ADA Boosting have low accuracy, so they are rejected.\n",
        "In summary, out of these 10 models, I will choose Logist Regression, and XG Boosting.\n",
        "\n",
        "Now, We will try to hyper tune support vector machine using grid search without pipeline, then we will hyper tune random forest using grid-search with the pipeline,\n",
        "additionally, we will model with a neural network through sikit learn, and Keras library."
      ]
    },
    {
      "cell_type": "markdown",
      "metadata": {
        "id": "-bcQ-iu-TjYX"
      },
      "source": [
        "# Tuning hyperparametres for SVC"
      ]
    },
    {
      "cell_type": "code",
      "metadata": {
        "id": "j4dtvIDnTkuu",
        "colab": {
          "base_uri": "https://localhost:8080/"
        },
        "outputId": "515f9fad-0430-4e6b-9b6c-94d0a727c08c"
      },
      "source": [
        "svc = SVC()\n",
        "\n",
        "params = {\n",
        "    'C': [0.1,0.8,0.9,1,1.1,1.2,1.3,1.4],\n",
        "    'kernel':['linear', 'rbf'],\n",
        "    'gamma' :[0.1,0.8,0.9,1,1.1,1.2,1.3,1.4]\n",
        "}\n",
        "\n",
        "clf = GridSearchCV(svc, param_grid = params, scoring = 'accuracy', cv = 10, verbose = 2)\n",
        "\n",
        "clf.fit(X_train, y_train)\n",
        "clf.best_params_"
      ],
      "execution_count": 28,
      "outputs": [
        {
          "output_type": "stream",
          "text": [
            "Fitting 10 folds for each of 128 candidates, totalling 1280 fits\n",
            "[CV] C=0.1, gamma=0.1, kernel=linear .................................\n",
            "[CV] .................. C=0.1, gamma=0.1, kernel=linear, total=   0.0s\n",
            "[CV] C=0.1, gamma=0.1, kernel=linear .................................\n",
            "[CV] .................. C=0.1, gamma=0.1, kernel=linear, total=   0.0s\n",
            "[CV] C=0.1, gamma=0.1, kernel=linear .................................\n",
            "[CV] .................. C=0.1, gamma=0.1, kernel=linear, total=   0.0s\n",
            "[CV] C=0.1, gamma=0.1, kernel=linear .................................\n",
            "[CV] .................. C=0.1, gamma=0.1, kernel=linear, total=   0.0s\n",
            "[CV] C=0.1, gamma=0.1, kernel=linear .................................\n",
            "[CV] .................. C=0.1, gamma=0.1, kernel=linear, total=   0.0s\n",
            "[CV] C=0.1, gamma=0.1, kernel=linear .................................\n",
            "[CV] .................. C=0.1, gamma=0.1, kernel=linear, total=   0.0s\n",
            "[CV] C=0.1, gamma=0.1, kernel=linear .................................\n",
            "[CV] .................. C=0.1, gamma=0.1, kernel=linear, total=   0.0s\n",
            "[CV] C=0.1, gamma=0.1, kernel=linear .................................\n",
            "[CV] .................. C=0.1, gamma=0.1, kernel=linear, total=   0.0s\n",
            "[CV] C=0.1, gamma=0.1, kernel=linear .................................\n",
            "[CV] .................. C=0.1, gamma=0.1, kernel=linear, total=   0.0s\n",
            "[CV] C=0.1, gamma=0.1, kernel=linear .................................\n",
            "[CV] .................. C=0.1, gamma=0.1, kernel=linear, total=   0.0s\n",
            "[CV] C=0.1, gamma=0.1, kernel=rbf ....................................\n",
            "[CV] ..................... C=0.1, gamma=0.1, kernel=rbf, total=   0.0s\n",
            "[CV] C=0.1, gamma=0.1, kernel=rbf ....................................\n",
            "[CV] ..................... C=0.1, gamma=0.1, kernel=rbf, total=   0.0s\n",
            "[CV] C=0.1, gamma=0.1, kernel=rbf ....................................\n",
            "[CV] ..................... C=0.1, gamma=0.1, kernel=rbf, total=   0.0s\n",
            "[CV] C=0.1, gamma=0.1, kernel=rbf ....................................\n",
            "[CV] ..................... C=0.1, gamma=0.1, kernel=rbf, total=   0.0s\n",
            "[CV] C=0.1, gamma=0.1, kernel=rbf ....................................\n",
            "[CV] ..................... C=0.1, gamma=0.1, kernel=rbf, total=   0.0s\n",
            "[CV] C=0.1, gamma=0.1, kernel=rbf ....................................\n",
            "[CV] ..................... C=0.1, gamma=0.1, kernel=rbf, total=   0.0s\n",
            "[CV] C=0.1, gamma=0.1, kernel=rbf ....................................\n",
            "[CV] ..................... C=0.1, gamma=0.1, kernel=rbf, total=   0.0s\n",
            "[CV] C=0.1, gamma=0.1, kernel=rbf ....................................\n"
          ],
          "name": "stdout"
        },
        {
          "output_type": "stream",
          "text": [
            "[Parallel(n_jobs=1)]: Using backend SequentialBackend with 1 concurrent workers.\n",
            "[Parallel(n_jobs=1)]: Done   1 out of   1 | elapsed:    0.0s remaining:    0.0s\n"
          ],
          "name": "stderr"
        },
        {
          "output_type": "stream",
          "text": [
            "[CV] ..................... C=0.1, gamma=0.1, kernel=rbf, total=   0.0s\n",
            "[CV] C=0.1, gamma=0.1, kernel=rbf ....................................\n",
            "[CV] ..................... C=0.1, gamma=0.1, kernel=rbf, total=   0.0s\n",
            "[CV] C=0.1, gamma=0.1, kernel=rbf ....................................\n",
            "[CV] ..................... C=0.1, gamma=0.1, kernel=rbf, total=   0.0s\n",
            "[CV] C=0.1, gamma=0.8, kernel=linear .................................\n",
            "[CV] .................. C=0.1, gamma=0.8, kernel=linear, total=   0.0s\n",
            "[CV] C=0.1, gamma=0.8, kernel=linear .................................\n",
            "[CV] .................. C=0.1, gamma=0.8, kernel=linear, total=   0.0s\n",
            "[CV] C=0.1, gamma=0.8, kernel=linear .................................\n",
            "[CV] .................. C=0.1, gamma=0.8, kernel=linear, total=   0.0s\n",
            "[CV] C=0.1, gamma=0.8, kernel=linear .................................\n",
            "[CV] .................. C=0.1, gamma=0.8, kernel=linear, total=   0.0s\n",
            "[CV] C=0.1, gamma=0.8, kernel=linear .................................\n",
            "[CV] .................. C=0.1, gamma=0.8, kernel=linear, total=   0.0s\n",
            "[CV] C=0.1, gamma=0.8, kernel=linear .................................\n",
            "[CV] .................. C=0.1, gamma=0.8, kernel=linear, total=   0.0s\n",
            "[CV] C=0.1, gamma=0.8, kernel=linear .................................\n",
            "[CV] .................. C=0.1, gamma=0.8, kernel=linear, total=   0.0s\n",
            "[CV] C=0.1, gamma=0.8, kernel=linear .................................\n",
            "[CV] .................. C=0.1, gamma=0.8, kernel=linear, total=   0.0s\n",
            "[CV] C=0.1, gamma=0.8, kernel=linear .................................\n",
            "[CV] .................. C=0.1, gamma=0.8, kernel=linear, total=   0.0s\n",
            "[CV] C=0.1, gamma=0.8, kernel=linear .................................\n",
            "[CV] .................. C=0.1, gamma=0.8, kernel=linear, total=   0.0s\n",
            "[CV] C=0.1, gamma=0.8, kernel=rbf ....................................\n",
            "[CV] ..................... C=0.1, gamma=0.8, kernel=rbf, total=   0.0s\n",
            "[CV] C=0.1, gamma=0.8, kernel=rbf ....................................\n",
            "[CV] ..................... C=0.1, gamma=0.8, kernel=rbf, total=   0.0s\n",
            "[CV] C=0.1, gamma=0.8, kernel=rbf ....................................\n",
            "[CV] ..................... C=0.1, gamma=0.8, kernel=rbf, total=   0.0s\n",
            "[CV] C=0.1, gamma=0.8, kernel=rbf ....................................\n",
            "[CV] ..................... C=0.1, gamma=0.8, kernel=rbf, total=   0.0s\n",
            "[CV] C=0.1, gamma=0.8, kernel=rbf ....................................\n",
            "[CV] ..................... C=0.1, gamma=0.8, kernel=rbf, total=   0.0s\n",
            "[CV] C=0.1, gamma=0.8, kernel=rbf ....................................\n",
            "[CV] ..................... C=0.1, gamma=0.8, kernel=rbf, total=   0.0s\n",
            "[CV] C=0.1, gamma=0.8, kernel=rbf ....................................\n",
            "[CV] ..................... C=0.1, gamma=0.8, kernel=rbf, total=   0.0s\n",
            "[CV] C=0.1, gamma=0.8, kernel=rbf ....................................\n",
            "[CV] ..................... C=0.1, gamma=0.8, kernel=rbf, total=   0.0s\n",
            "[CV] C=0.1, gamma=0.8, kernel=rbf ....................................\n",
            "[CV] ..................... C=0.1, gamma=0.8, kernel=rbf, total=   0.0s\n",
            "[CV] C=0.1, gamma=0.8, kernel=rbf ....................................\n",
            "[CV] ..................... C=0.1, gamma=0.8, kernel=rbf, total=   0.0s\n",
            "[CV] C=0.1, gamma=0.9, kernel=linear .................................\n",
            "[CV] .................. C=0.1, gamma=0.9, kernel=linear, total=   0.0s\n",
            "[CV] C=0.1, gamma=0.9, kernel=linear .................................\n",
            "[CV] .................. C=0.1, gamma=0.9, kernel=linear, total=   0.0s\n",
            "[CV] C=0.1, gamma=0.9, kernel=linear .................................\n",
            "[CV] .................. C=0.1, gamma=0.9, kernel=linear, total=   0.0s\n",
            "[CV] C=0.1, gamma=0.9, kernel=linear .................................\n",
            "[CV] .................. C=0.1, gamma=0.9, kernel=linear, total=   0.0s\n",
            "[CV] C=0.1, gamma=0.9, kernel=linear .................................\n",
            "[CV] .................. C=0.1, gamma=0.9, kernel=linear, total=   0.0s\n",
            "[CV] C=0.1, gamma=0.9, kernel=linear .................................\n",
            "[CV] .................. C=0.1, gamma=0.9, kernel=linear, total=   0.0s\n",
            "[CV] C=0.1, gamma=0.9, kernel=linear .................................\n",
            "[CV] .................. C=0.1, gamma=0.9, kernel=linear, total=   0.0s\n",
            "[CV] C=0.1, gamma=0.9, kernel=linear .................................\n",
            "[CV] .................. C=0.1, gamma=0.9, kernel=linear, total=   0.0s\n",
            "[CV] C=0.1, gamma=0.9, kernel=linear .................................\n",
            "[CV] .................. C=0.1, gamma=0.9, kernel=linear, total=   0.0s\n",
            "[CV] C=0.1, gamma=0.9, kernel=linear .................................\n",
            "[CV] .................. C=0.1, gamma=0.9, kernel=linear, total=   0.0s\n",
            "[CV] C=0.1, gamma=0.9, kernel=rbf ....................................\n",
            "[CV] ..................... C=0.1, gamma=0.9, kernel=rbf, total=   0.0s\n",
            "[CV] C=0.1, gamma=0.9, kernel=rbf ....................................\n",
            "[CV] ..................... C=0.1, gamma=0.9, kernel=rbf, total=   0.0s\n",
            "[CV] C=0.1, gamma=0.9, kernel=rbf ....................................\n",
            "[CV] ..................... C=0.1, gamma=0.9, kernel=rbf, total=   0.0s\n",
            "[CV] C=0.1, gamma=0.9, kernel=rbf ....................................\n",
            "[CV] ..................... C=0.1, gamma=0.9, kernel=rbf, total=   0.0s\n",
            "[CV] C=0.1, gamma=0.9, kernel=rbf ....................................\n",
            "[CV] ..................... C=0.1, gamma=0.9, kernel=rbf, total=   0.0s\n",
            "[CV] C=0.1, gamma=0.9, kernel=rbf ....................................\n",
            "[CV] ..................... C=0.1, gamma=0.9, kernel=rbf, total=   0.0s\n",
            "[CV] C=0.1, gamma=0.9, kernel=rbf ....................................\n",
            "[CV] ..................... C=0.1, gamma=0.9, kernel=rbf, total=   0.0s\n",
            "[CV] C=0.1, gamma=0.9, kernel=rbf ....................................\n",
            "[CV] ..................... C=0.1, gamma=0.9, kernel=rbf, total=   0.0s\n",
            "[CV] C=0.1, gamma=0.9, kernel=rbf ....................................\n",
            "[CV] ..................... C=0.1, gamma=0.9, kernel=rbf, total=   0.0s\n",
            "[CV] C=0.1, gamma=0.9, kernel=rbf ....................................\n",
            "[CV] ..................... C=0.1, gamma=0.9, kernel=rbf, total=   0.0s\n",
            "[CV] C=0.1, gamma=1, kernel=linear ...................................\n",
            "[CV] .................... C=0.1, gamma=1, kernel=linear, total=   0.0s\n",
            "[CV] C=0.1, gamma=1, kernel=linear ...................................\n",
            "[CV] .................... C=0.1, gamma=1, kernel=linear, total=   0.0s\n",
            "[CV] C=0.1, gamma=1, kernel=linear ...................................\n",
            "[CV] .................... C=0.1, gamma=1, kernel=linear, total=   0.0s\n",
            "[CV] C=0.1, gamma=1, kernel=linear ...................................\n",
            "[CV] .................... C=0.1, gamma=1, kernel=linear, total=   0.0s\n",
            "[CV] C=0.1, gamma=1, kernel=linear ...................................\n",
            "[CV] .................... C=0.1, gamma=1, kernel=linear, total=   0.0s\n",
            "[CV] C=0.1, gamma=1, kernel=linear ...................................\n",
            "[CV] .................... C=0.1, gamma=1, kernel=linear, total=   0.0s\n",
            "[CV] C=0.1, gamma=1, kernel=linear ...................................\n",
            "[CV] .................... C=0.1, gamma=1, kernel=linear, total=   0.0s\n",
            "[CV] C=0.1, gamma=1, kernel=linear ...................................\n",
            "[CV] .................... C=0.1, gamma=1, kernel=linear, total=   0.0s\n",
            "[CV] C=0.1, gamma=1, kernel=linear ...................................\n",
            "[CV] .................... C=0.1, gamma=1, kernel=linear, total=   0.0s\n",
            "[CV] C=0.1, gamma=1, kernel=linear ...................................\n",
            "[CV] .................... C=0.1, gamma=1, kernel=linear, total=   0.0s\n",
            "[CV] C=0.1, gamma=1, kernel=rbf ......................................\n",
            "[CV] ....................... C=0.1, gamma=1, kernel=rbf, total=   0.0s\n",
            "[CV] C=0.1, gamma=1, kernel=rbf ......................................\n",
            "[CV] ....................... C=0.1, gamma=1, kernel=rbf, total=   0.0s\n",
            "[CV] C=0.1, gamma=1, kernel=rbf ......................................\n",
            "[CV] ....................... C=0.1, gamma=1, kernel=rbf, total=   0.0s\n",
            "[CV] C=0.1, gamma=1, kernel=rbf ......................................\n",
            "[CV] ....................... C=0.1, gamma=1, kernel=rbf, total=   0.0s\n",
            "[CV] C=0.1, gamma=1, kernel=rbf ......................................\n",
            "[CV] ....................... C=0.1, gamma=1, kernel=rbf, total=   0.0s\n",
            "[CV] C=0.1, gamma=1, kernel=rbf ......................................\n",
            "[CV] ....................... C=0.1, gamma=1, kernel=rbf, total=   0.0s\n",
            "[CV] C=0.1, gamma=1, kernel=rbf ......................................\n",
            "[CV] ....................... C=0.1, gamma=1, kernel=rbf, total=   0.0s\n",
            "[CV] C=0.1, gamma=1, kernel=rbf ......................................\n",
            "[CV] ....................... C=0.1, gamma=1, kernel=rbf, total=   0.0s\n",
            "[CV] C=0.1, gamma=1, kernel=rbf ......................................\n",
            "[CV] ....................... C=0.1, gamma=1, kernel=rbf, total=   0.0s\n",
            "[CV] C=0.1, gamma=1, kernel=rbf ......................................\n",
            "[CV] ....................... C=0.1, gamma=1, kernel=rbf, total=   0.0s\n",
            "[CV] C=0.1, gamma=1.1, kernel=linear .................................\n",
            "[CV] .................. C=0.1, gamma=1.1, kernel=linear, total=   0.0s\n",
            "[CV] C=0.1, gamma=1.1, kernel=linear .................................\n",
            "[CV] .................. C=0.1, gamma=1.1, kernel=linear, total=   0.0s\n",
            "[CV] C=0.1, gamma=1.1, kernel=linear .................................\n",
            "[CV] .................. C=0.1, gamma=1.1, kernel=linear, total=   0.0s\n",
            "[CV] C=0.1, gamma=1.1, kernel=linear .................................\n",
            "[CV] .................. C=0.1, gamma=1.1, kernel=linear, total=   0.0s\n",
            "[CV] C=0.1, gamma=1.1, kernel=linear .................................\n",
            "[CV] .................. C=0.1, gamma=1.1, kernel=linear, total=   0.0s\n",
            "[CV] C=0.1, gamma=1.1, kernel=linear .................................\n",
            "[CV] .................. C=0.1, gamma=1.1, kernel=linear, total=   0.0s\n",
            "[CV] C=0.1, gamma=1.1, kernel=linear .................................\n",
            "[CV] .................. C=0.1, gamma=1.1, kernel=linear, total=   0.0s\n",
            "[CV] C=0.1, gamma=1.1, kernel=linear .................................\n",
            "[CV] .................. C=0.1, gamma=1.1, kernel=linear, total=   0.0s\n",
            "[CV] C=0.1, gamma=1.1, kernel=linear .................................\n",
            "[CV] .................. C=0.1, gamma=1.1, kernel=linear, total=   0.0s\n",
            "[CV] C=0.1, gamma=1.1, kernel=linear .................................\n",
            "[CV] .................. C=0.1, gamma=1.1, kernel=linear, total=   0.0s\n",
            "[CV] C=0.1, gamma=1.1, kernel=rbf ....................................\n",
            "[CV] ..................... C=0.1, gamma=1.1, kernel=rbf, total=   0.0s\n",
            "[CV] C=0.1, gamma=1.1, kernel=rbf ....................................\n",
            "[CV] ..................... C=0.1, gamma=1.1, kernel=rbf, total=   0.0s\n",
            "[CV] C=0.1, gamma=1.1, kernel=rbf ....................................\n",
            "[CV] ..................... C=0.1, gamma=1.1, kernel=rbf, total=   0.0s\n",
            "[CV] C=0.1, gamma=1.1, kernel=rbf ....................................\n",
            "[CV] ..................... C=0.1, gamma=1.1, kernel=rbf, total=   0.0s\n",
            "[CV] C=0.1, gamma=1.1, kernel=rbf ....................................\n",
            "[CV] ..................... C=0.1, gamma=1.1, kernel=rbf, total=   0.0s\n",
            "[CV] C=0.1, gamma=1.1, kernel=rbf ....................................\n",
            "[CV] ..................... C=0.1, gamma=1.1, kernel=rbf, total=   0.0s\n",
            "[CV] C=0.1, gamma=1.1, kernel=rbf ....................................\n",
            "[CV] ..................... C=0.1, gamma=1.1, kernel=rbf, total=   0.0s\n",
            "[CV] C=0.1, gamma=1.1, kernel=rbf ....................................\n",
            "[CV] ..................... C=0.1, gamma=1.1, kernel=rbf, total=   0.0s\n",
            "[CV] C=0.1, gamma=1.1, kernel=rbf ....................................\n",
            "[CV] ..................... C=0.1, gamma=1.1, kernel=rbf, total=   0.0s\n",
            "[CV] C=0.1, gamma=1.1, kernel=rbf ....................................\n",
            "[CV] ..................... C=0.1, gamma=1.1, kernel=rbf, total=   0.0s\n",
            "[CV] C=0.1, gamma=1.2, kernel=linear .................................\n",
            "[CV] .................. C=0.1, gamma=1.2, kernel=linear, total=   0.0s\n",
            "[CV] C=0.1, gamma=1.2, kernel=linear .................................\n",
            "[CV] .................. C=0.1, gamma=1.2, kernel=linear, total=   0.0s\n",
            "[CV] C=0.1, gamma=1.2, kernel=linear .................................\n",
            "[CV] .................. C=0.1, gamma=1.2, kernel=linear, total=   0.0s\n",
            "[CV] C=0.1, gamma=1.2, kernel=linear .................................\n",
            "[CV] .................. C=0.1, gamma=1.2, kernel=linear, total=   0.0s\n",
            "[CV] C=0.1, gamma=1.2, kernel=linear .................................\n",
            "[CV] .................. C=0.1, gamma=1.2, kernel=linear, total=   0.0s\n",
            "[CV] C=0.1, gamma=1.2, kernel=linear .................................\n",
            "[CV] .................. C=0.1, gamma=1.2, kernel=linear, total=   0.0s\n",
            "[CV] C=0.1, gamma=1.2, kernel=linear .................................\n",
            "[CV] .................. C=0.1, gamma=1.2, kernel=linear, total=   0.0s\n",
            "[CV] C=0.1, gamma=1.2, kernel=linear .................................\n",
            "[CV] .................. C=0.1, gamma=1.2, kernel=linear, total=   0.0s\n",
            "[CV] C=0.1, gamma=1.2, kernel=linear .................................\n",
            "[CV] .................. C=0.1, gamma=1.2, kernel=linear, total=   0.0s\n",
            "[CV] C=0.1, gamma=1.2, kernel=linear .................................\n",
            "[CV] .................. C=0.1, gamma=1.2, kernel=linear, total=   0.0s\n",
            "[CV] C=0.1, gamma=1.2, kernel=rbf ....................................\n",
            "[CV] ..................... C=0.1, gamma=1.2, kernel=rbf, total=   0.0s\n",
            "[CV] C=0.1, gamma=1.2, kernel=rbf ....................................\n",
            "[CV] ..................... C=0.1, gamma=1.2, kernel=rbf, total=   0.0s\n",
            "[CV] C=0.1, gamma=1.2, kernel=rbf ....................................\n",
            "[CV] ..................... C=0.1, gamma=1.2, kernel=rbf, total=   0.0s\n",
            "[CV] C=0.1, gamma=1.2, kernel=rbf ....................................\n",
            "[CV] ..................... C=0.1, gamma=1.2, kernel=rbf, total=   0.0s\n",
            "[CV] C=0.1, gamma=1.2, kernel=rbf ....................................\n",
            "[CV] ..................... C=0.1, gamma=1.2, kernel=rbf, total=   0.0s\n",
            "[CV] C=0.1, gamma=1.2, kernel=rbf ....................................\n",
            "[CV] ..................... C=0.1, gamma=1.2, kernel=rbf, total=   0.0s\n",
            "[CV] C=0.1, gamma=1.2, kernel=rbf ....................................\n",
            "[CV] ..................... C=0.1, gamma=1.2, kernel=rbf, total=   0.0s\n",
            "[CV] C=0.1, gamma=1.2, kernel=rbf ....................................\n",
            "[CV] ..................... C=0.1, gamma=1.2, kernel=rbf, total=   0.0s\n",
            "[CV] C=0.1, gamma=1.2, kernel=rbf ....................................\n",
            "[CV] ..................... C=0.1, gamma=1.2, kernel=rbf, total=   0.0s\n",
            "[CV] C=0.1, gamma=1.2, kernel=rbf ....................................\n",
            "[CV] ..................... C=0.1, gamma=1.2, kernel=rbf, total=   0.0s\n",
            "[CV] C=0.1, gamma=1.3, kernel=linear .................................\n",
            "[CV] .................. C=0.1, gamma=1.3, kernel=linear, total=   0.0s\n",
            "[CV] C=0.1, gamma=1.3, kernel=linear .................................\n",
            "[CV] .................. C=0.1, gamma=1.3, kernel=linear, total=   0.0s\n",
            "[CV] C=0.1, gamma=1.3, kernel=linear .................................\n",
            "[CV] .................. C=0.1, gamma=1.3, kernel=linear, total=   0.0s\n",
            "[CV] C=0.1, gamma=1.3, kernel=linear .................................\n",
            "[CV] .................. C=0.1, gamma=1.3, kernel=linear, total=   0.0s\n",
            "[CV] C=0.1, gamma=1.3, kernel=linear .................................\n",
            "[CV] .................. C=0.1, gamma=1.3, kernel=linear, total=   0.0s\n",
            "[CV] C=0.1, gamma=1.3, kernel=linear .................................\n",
            "[CV] .................. C=0.1, gamma=1.3, kernel=linear, total=   0.0s\n",
            "[CV] C=0.1, gamma=1.3, kernel=linear .................................\n",
            "[CV] .................. C=0.1, gamma=1.3, kernel=linear, total=   0.0s\n",
            "[CV] C=0.1, gamma=1.3, kernel=linear .................................\n",
            "[CV] .................. C=0.1, gamma=1.3, kernel=linear, total=   0.0s\n",
            "[CV] C=0.1, gamma=1.3, kernel=linear .................................\n",
            "[CV] .................. C=0.1, gamma=1.3, kernel=linear, total=   0.0s\n",
            "[CV] C=0.1, gamma=1.3, kernel=linear .................................\n",
            "[CV] .................. C=0.1, gamma=1.3, kernel=linear, total=   0.0s\n",
            "[CV] C=0.1, gamma=1.3, kernel=rbf ....................................\n",
            "[CV] ..................... C=0.1, gamma=1.3, kernel=rbf, total=   0.0s\n",
            "[CV] C=0.1, gamma=1.3, kernel=rbf ....................................\n",
            "[CV] ..................... C=0.1, gamma=1.3, kernel=rbf, total=   0.0s\n",
            "[CV] C=0.1, gamma=1.3, kernel=rbf ....................................\n",
            "[CV] ..................... C=0.1, gamma=1.3, kernel=rbf, total=   0.0s\n",
            "[CV] C=0.1, gamma=1.3, kernel=rbf ....................................\n",
            "[CV] ..................... C=0.1, gamma=1.3, kernel=rbf, total=   0.0s\n",
            "[CV] C=0.1, gamma=1.3, kernel=rbf ....................................\n",
            "[CV] ..................... C=0.1, gamma=1.3, kernel=rbf, total=   0.0s\n",
            "[CV] C=0.1, gamma=1.3, kernel=rbf ....................................\n",
            "[CV] ..................... C=0.1, gamma=1.3, kernel=rbf, total=   0.0s\n",
            "[CV] C=0.1, gamma=1.3, kernel=rbf ....................................\n",
            "[CV] ..................... C=0.1, gamma=1.3, kernel=rbf, total=   0.0s\n",
            "[CV] C=0.1, gamma=1.3, kernel=rbf ....................................\n",
            "[CV] ..................... C=0.1, gamma=1.3, kernel=rbf, total=   0.0s\n",
            "[CV] C=0.1, gamma=1.3, kernel=rbf ....................................\n",
            "[CV] ..................... C=0.1, gamma=1.3, kernel=rbf, total=   0.0s\n",
            "[CV] C=0.1, gamma=1.3, kernel=rbf ....................................\n",
            "[CV] ..................... C=0.1, gamma=1.3, kernel=rbf, total=   0.0s\n",
            "[CV] C=0.1, gamma=1.4, kernel=linear .................................\n",
            "[CV] .................. C=0.1, gamma=1.4, kernel=linear, total=   0.0s\n",
            "[CV] C=0.1, gamma=1.4, kernel=linear .................................\n",
            "[CV] .................. C=0.1, gamma=1.4, kernel=linear, total=   0.0s\n",
            "[CV] C=0.1, gamma=1.4, kernel=linear .................................\n",
            "[CV] .................. C=0.1, gamma=1.4, kernel=linear, total=   0.0s\n",
            "[CV] C=0.1, gamma=1.4, kernel=linear .................................\n",
            "[CV] .................. C=0.1, gamma=1.4, kernel=linear, total=   0.0s\n",
            "[CV] C=0.1, gamma=1.4, kernel=linear .................................\n",
            "[CV] .................. C=0.1, gamma=1.4, kernel=linear, total=   0.0s\n",
            "[CV] C=0.1, gamma=1.4, kernel=linear .................................\n",
            "[CV] .................. C=0.1, gamma=1.4, kernel=linear, total=   0.0s\n",
            "[CV] C=0.1, gamma=1.4, kernel=linear .................................\n",
            "[CV] .................. C=0.1, gamma=1.4, kernel=linear, total=   0.0s\n",
            "[CV] C=0.1, gamma=1.4, kernel=linear .................................\n",
            "[CV] .................. C=0.1, gamma=1.4, kernel=linear, total=   0.0s\n",
            "[CV] C=0.1, gamma=1.4, kernel=linear .................................\n",
            "[CV] .................. C=0.1, gamma=1.4, kernel=linear, total=   0.0s\n",
            "[CV] C=0.1, gamma=1.4, kernel=linear .................................\n",
            "[CV] .................. C=0.1, gamma=1.4, kernel=linear, total=   0.0s\n",
            "[CV] C=0.1, gamma=1.4, kernel=rbf ....................................\n",
            "[CV] ..................... C=0.1, gamma=1.4, kernel=rbf, total=   0.0s\n",
            "[CV] C=0.1, gamma=1.4, kernel=rbf ....................................\n",
            "[CV] ..................... C=0.1, gamma=1.4, kernel=rbf, total=   0.0s\n",
            "[CV] C=0.1, gamma=1.4, kernel=rbf ....................................\n",
            "[CV] ..................... C=0.1, gamma=1.4, kernel=rbf, total=   0.0s\n",
            "[CV] C=0.1, gamma=1.4, kernel=rbf ....................................\n",
            "[CV] ..................... C=0.1, gamma=1.4, kernel=rbf, total=   0.0s\n",
            "[CV] C=0.1, gamma=1.4, kernel=rbf ....................................\n",
            "[CV] ..................... C=0.1, gamma=1.4, kernel=rbf, total=   0.0s\n",
            "[CV] C=0.1, gamma=1.4, kernel=rbf ....................................\n",
            "[CV] ..................... C=0.1, gamma=1.4, kernel=rbf, total=   0.0s\n",
            "[CV] C=0.1, gamma=1.4, kernel=rbf ....................................\n",
            "[CV] ..................... C=0.1, gamma=1.4, kernel=rbf, total=   0.0s\n",
            "[CV] C=0.1, gamma=1.4, kernel=rbf ....................................\n",
            "[CV] ..................... C=0.1, gamma=1.4, kernel=rbf, total=   0.0s\n",
            "[CV] C=0.1, gamma=1.4, kernel=rbf ....................................\n",
            "[CV] ..................... C=0.1, gamma=1.4, kernel=rbf, total=   0.0s\n",
            "[CV] C=0.1, gamma=1.4, kernel=rbf ....................................\n",
            "[CV] ..................... C=0.1, gamma=1.4, kernel=rbf, total=   0.0s\n",
            "[CV] C=0.8, gamma=0.1, kernel=linear .................................\n",
            "[CV] .................. C=0.8, gamma=0.1, kernel=linear, total=   0.0s\n",
            "[CV] C=0.8, gamma=0.1, kernel=linear .................................\n",
            "[CV] .................. C=0.8, gamma=0.1, kernel=linear, total=   0.0s\n",
            "[CV] C=0.8, gamma=0.1, kernel=linear .................................\n",
            "[CV] .................. C=0.8, gamma=0.1, kernel=linear, total=   0.0s\n",
            "[CV] C=0.8, gamma=0.1, kernel=linear .................................\n",
            "[CV] .................. C=0.8, gamma=0.1, kernel=linear, total=   0.0s\n",
            "[CV] C=0.8, gamma=0.1, kernel=linear .................................\n",
            "[CV] .................. C=0.8, gamma=0.1, kernel=linear, total=   0.0s\n",
            "[CV] C=0.8, gamma=0.1, kernel=linear .................................\n",
            "[CV] .................. C=0.8, gamma=0.1, kernel=linear, total=   0.0s\n",
            "[CV] C=0.8, gamma=0.1, kernel=linear .................................\n",
            "[CV] .................. C=0.8, gamma=0.1, kernel=linear, total=   0.0s\n",
            "[CV] C=0.8, gamma=0.1, kernel=linear .................................\n",
            "[CV] .................. C=0.8, gamma=0.1, kernel=linear, total=   0.0s\n",
            "[CV] C=0.8, gamma=0.1, kernel=linear .................................\n",
            "[CV] .................. C=0.8, gamma=0.1, kernel=linear, total=   0.0s\n",
            "[CV] C=0.8, gamma=0.1, kernel=linear .................................\n",
            "[CV] .................. C=0.8, gamma=0.1, kernel=linear, total=   0.0s\n",
            "[CV] C=0.8, gamma=0.1, kernel=rbf ....................................\n",
            "[CV] ..................... C=0.8, gamma=0.1, kernel=rbf, total=   0.0s\n",
            "[CV] C=0.8, gamma=0.1, kernel=rbf ....................................\n",
            "[CV] ..................... C=0.8, gamma=0.1, kernel=rbf, total=   0.0s\n",
            "[CV] C=0.8, gamma=0.1, kernel=rbf ....................................\n",
            "[CV] ..................... C=0.8, gamma=0.1, kernel=rbf, total=   0.0s\n",
            "[CV] C=0.8, gamma=0.1, kernel=rbf ....................................\n",
            "[CV] ..................... C=0.8, gamma=0.1, kernel=rbf, total=   0.0s\n",
            "[CV] C=0.8, gamma=0.1, kernel=rbf ....................................\n",
            "[CV] ..................... C=0.8, gamma=0.1, kernel=rbf, total=   0.0s\n",
            "[CV] C=0.8, gamma=0.1, kernel=rbf ....................................\n",
            "[CV] ..................... C=0.8, gamma=0.1, kernel=rbf, total=   0.0s\n",
            "[CV] C=0.8, gamma=0.1, kernel=rbf ....................................\n",
            "[CV] ..................... C=0.8, gamma=0.1, kernel=rbf, total=   0.0s\n",
            "[CV] C=0.8, gamma=0.1, kernel=rbf ....................................\n",
            "[CV] ..................... C=0.8, gamma=0.1, kernel=rbf, total=   0.0s\n",
            "[CV] C=0.8, gamma=0.1, kernel=rbf ....................................\n",
            "[CV] ..................... C=0.8, gamma=0.1, kernel=rbf, total=   0.0s\n",
            "[CV] C=0.8, gamma=0.1, kernel=rbf ....................................\n",
            "[CV] ..................... C=0.8, gamma=0.1, kernel=rbf, total=   0.0s\n",
            "[CV] C=0.8, gamma=0.8, kernel=linear .................................\n",
            "[CV] .................. C=0.8, gamma=0.8, kernel=linear, total=   0.0s\n",
            "[CV] C=0.8, gamma=0.8, kernel=linear .................................\n",
            "[CV] .................. C=0.8, gamma=0.8, kernel=linear, total=   0.0s\n",
            "[CV] C=0.8, gamma=0.8, kernel=linear .................................\n",
            "[CV] .................. C=0.8, gamma=0.8, kernel=linear, total=   0.0s\n",
            "[CV] C=0.8, gamma=0.8, kernel=linear .................................\n",
            "[CV] .................. C=0.8, gamma=0.8, kernel=linear, total=   0.0s\n",
            "[CV] C=0.8, gamma=0.8, kernel=linear .................................\n",
            "[CV] .................. C=0.8, gamma=0.8, kernel=linear, total=   0.0s\n",
            "[CV] C=0.8, gamma=0.8, kernel=linear .................................\n",
            "[CV] .................. C=0.8, gamma=0.8, kernel=linear, total=   0.0s\n",
            "[CV] C=0.8, gamma=0.8, kernel=linear .................................\n",
            "[CV] .................. C=0.8, gamma=0.8, kernel=linear, total=   0.0s\n",
            "[CV] C=0.8, gamma=0.8, kernel=linear .................................\n",
            "[CV] .................. C=0.8, gamma=0.8, kernel=linear, total=   0.0s\n",
            "[CV] C=0.8, gamma=0.8, kernel=linear .................................\n",
            "[CV] .................. C=0.8, gamma=0.8, kernel=linear, total=   0.0s\n",
            "[CV] C=0.8, gamma=0.8, kernel=linear .................................\n",
            "[CV] .................. C=0.8, gamma=0.8, kernel=linear, total=   0.0s\n",
            "[CV] C=0.8, gamma=0.8, kernel=rbf ....................................\n",
            "[CV] ..................... C=0.8, gamma=0.8, kernel=rbf, total=   0.0s\n",
            "[CV] C=0.8, gamma=0.8, kernel=rbf ....................................\n",
            "[CV] ..................... C=0.8, gamma=0.8, kernel=rbf, total=   0.0s\n",
            "[CV] C=0.8, gamma=0.8, kernel=rbf ....................................\n",
            "[CV] ..................... C=0.8, gamma=0.8, kernel=rbf, total=   0.0s\n",
            "[CV] C=0.8, gamma=0.8, kernel=rbf ....................................\n",
            "[CV] ..................... C=0.8, gamma=0.8, kernel=rbf, total=   0.0s\n",
            "[CV] C=0.8, gamma=0.8, kernel=rbf ....................................\n",
            "[CV] ..................... C=0.8, gamma=0.8, kernel=rbf, total=   0.0s\n",
            "[CV] C=0.8, gamma=0.8, kernel=rbf ....................................\n",
            "[CV] ..................... C=0.8, gamma=0.8, kernel=rbf, total=   0.0s\n",
            "[CV] C=0.8, gamma=0.8, kernel=rbf ....................................\n",
            "[CV] ..................... C=0.8, gamma=0.8, kernel=rbf, total=   0.0s\n",
            "[CV] C=0.8, gamma=0.8, kernel=rbf ....................................\n",
            "[CV] ..................... C=0.8, gamma=0.8, kernel=rbf, total=   0.0s\n",
            "[CV] C=0.8, gamma=0.8, kernel=rbf ....................................\n",
            "[CV] ..................... C=0.8, gamma=0.8, kernel=rbf, total=   0.0s\n",
            "[CV] C=0.8, gamma=0.8, kernel=rbf ....................................\n",
            "[CV] ..................... C=0.8, gamma=0.8, kernel=rbf, total=   0.0s\n",
            "[CV] C=0.8, gamma=0.9, kernel=linear .................................\n",
            "[CV] .................. C=0.8, gamma=0.9, kernel=linear, total=   0.0s\n",
            "[CV] C=0.8, gamma=0.9, kernel=linear .................................\n",
            "[CV] .................. C=0.8, gamma=0.9, kernel=linear, total=   0.0s\n",
            "[CV] C=0.8, gamma=0.9, kernel=linear .................................\n",
            "[CV] .................. C=0.8, gamma=0.9, kernel=linear, total=   0.0s\n",
            "[CV] C=0.8, gamma=0.9, kernel=linear .................................\n",
            "[CV] .................. C=0.8, gamma=0.9, kernel=linear, total=   0.0s\n",
            "[CV] C=0.8, gamma=0.9, kernel=linear .................................\n",
            "[CV] .................. C=0.8, gamma=0.9, kernel=linear, total=   0.0s\n",
            "[CV] C=0.8, gamma=0.9, kernel=linear .................................\n",
            "[CV] .................. C=0.8, gamma=0.9, kernel=linear, total=   0.0s\n",
            "[CV] C=0.8, gamma=0.9, kernel=linear .................................\n",
            "[CV] .................. C=0.8, gamma=0.9, kernel=linear, total=   0.0s\n",
            "[CV] C=0.8, gamma=0.9, kernel=linear .................................\n",
            "[CV] .................. C=0.8, gamma=0.9, kernel=linear, total=   0.0s\n",
            "[CV] C=0.8, gamma=0.9, kernel=linear .................................\n",
            "[CV] .................. C=0.8, gamma=0.9, kernel=linear, total=   0.0s\n",
            "[CV] C=0.8, gamma=0.9, kernel=linear .................................\n",
            "[CV] .................. C=0.8, gamma=0.9, kernel=linear, total=   0.0s\n",
            "[CV] C=0.8, gamma=0.9, kernel=rbf ....................................\n",
            "[CV] ..................... C=0.8, gamma=0.9, kernel=rbf, total=   0.0s\n",
            "[CV] C=0.8, gamma=0.9, kernel=rbf ....................................\n",
            "[CV] ..................... C=0.8, gamma=0.9, kernel=rbf, total=   0.0s\n",
            "[CV] C=0.8, gamma=0.9, kernel=rbf ....................................\n",
            "[CV] ..................... C=0.8, gamma=0.9, kernel=rbf, total=   0.0s\n",
            "[CV] C=0.8, gamma=0.9, kernel=rbf ....................................\n",
            "[CV] ..................... C=0.8, gamma=0.9, kernel=rbf, total=   0.0s\n",
            "[CV] C=0.8, gamma=0.9, kernel=rbf ....................................\n",
            "[CV] ..................... C=0.8, gamma=0.9, kernel=rbf, total=   0.0s\n",
            "[CV] C=0.8, gamma=0.9, kernel=rbf ....................................\n",
            "[CV] ..................... C=0.8, gamma=0.9, kernel=rbf, total=   0.0s\n",
            "[CV] C=0.8, gamma=0.9, kernel=rbf ....................................\n",
            "[CV] ..................... C=0.8, gamma=0.9, kernel=rbf, total=   0.0s\n",
            "[CV] C=0.8, gamma=0.9, kernel=rbf ....................................\n",
            "[CV] ..................... C=0.8, gamma=0.9, kernel=rbf, total=   0.0s\n",
            "[CV] C=0.8, gamma=0.9, kernel=rbf ....................................\n",
            "[CV] ..................... C=0.8, gamma=0.9, kernel=rbf, total=   0.0s\n",
            "[CV] C=0.8, gamma=0.9, kernel=rbf ....................................\n",
            "[CV] ..................... C=0.8, gamma=0.9, kernel=rbf, total=   0.0s\n",
            "[CV] C=0.8, gamma=1, kernel=linear ...................................\n",
            "[CV] .................... C=0.8, gamma=1, kernel=linear, total=   0.0s\n",
            "[CV] C=0.8, gamma=1, kernel=linear ...................................\n",
            "[CV] .................... C=0.8, gamma=1, kernel=linear, total=   0.0s\n",
            "[CV] C=0.8, gamma=1, kernel=linear ...................................\n",
            "[CV] .................... C=0.8, gamma=1, kernel=linear, total=   0.0s\n",
            "[CV] C=0.8, gamma=1, kernel=linear ...................................\n",
            "[CV] .................... C=0.8, gamma=1, kernel=linear, total=   0.0s\n",
            "[CV] C=0.8, gamma=1, kernel=linear ...................................\n",
            "[CV] .................... C=0.8, gamma=1, kernel=linear, total=   0.0s\n",
            "[CV] C=0.8, gamma=1, kernel=linear ...................................\n",
            "[CV] .................... C=0.8, gamma=1, kernel=linear, total=   0.0s\n",
            "[CV] C=0.8, gamma=1, kernel=linear ...................................\n",
            "[CV] .................... C=0.8, gamma=1, kernel=linear, total=   0.0s\n",
            "[CV] C=0.8, gamma=1, kernel=linear ...................................\n",
            "[CV] .................... C=0.8, gamma=1, kernel=linear, total=   0.0s\n",
            "[CV] C=0.8, gamma=1, kernel=linear ...................................\n",
            "[CV] .................... C=0.8, gamma=1, kernel=linear, total=   0.0s\n",
            "[CV] C=0.8, gamma=1, kernel=linear ...................................\n",
            "[CV] .................... C=0.8, gamma=1, kernel=linear, total=   0.0s\n",
            "[CV] C=0.8, gamma=1, kernel=rbf ......................................\n",
            "[CV] ....................... C=0.8, gamma=1, kernel=rbf, total=   0.0s\n",
            "[CV] C=0.8, gamma=1, kernel=rbf ......................................\n",
            "[CV] ....................... C=0.8, gamma=1, kernel=rbf, total=   0.0s\n",
            "[CV] C=0.8, gamma=1, kernel=rbf ......................................\n",
            "[CV] ....................... C=0.8, gamma=1, kernel=rbf, total=   0.0s\n",
            "[CV] C=0.8, gamma=1, kernel=rbf ......................................\n",
            "[CV] ....................... C=0.8, gamma=1, kernel=rbf, total=   0.0s\n",
            "[CV] C=0.8, gamma=1, kernel=rbf ......................................\n",
            "[CV] ....................... C=0.8, gamma=1, kernel=rbf, total=   0.0s\n",
            "[CV] C=0.8, gamma=1, kernel=rbf ......................................\n",
            "[CV] ....................... C=0.8, gamma=1, kernel=rbf, total=   0.0s\n",
            "[CV] C=0.8, gamma=1, kernel=rbf ......................................\n",
            "[CV] ....................... C=0.8, gamma=1, kernel=rbf, total=   0.0s\n",
            "[CV] C=0.8, gamma=1, kernel=rbf ......................................\n",
            "[CV] ....................... C=0.8, gamma=1, kernel=rbf, total=   0.0s\n",
            "[CV] C=0.8, gamma=1, kernel=rbf ......................................\n",
            "[CV] ....................... C=0.8, gamma=1, kernel=rbf, total=   0.0s\n",
            "[CV] C=0.8, gamma=1, kernel=rbf ......................................\n",
            "[CV] ....................... C=0.8, gamma=1, kernel=rbf, total=   0.0s\n",
            "[CV] C=0.8, gamma=1.1, kernel=linear .................................\n",
            "[CV] .................. C=0.8, gamma=1.1, kernel=linear, total=   0.0s\n",
            "[CV] C=0.8, gamma=1.1, kernel=linear .................................\n",
            "[CV] .................. C=0.8, gamma=1.1, kernel=linear, total=   0.0s\n",
            "[CV] C=0.8, gamma=1.1, kernel=linear .................................\n",
            "[CV] .................. C=0.8, gamma=1.1, kernel=linear, total=   0.0s\n",
            "[CV] C=0.8, gamma=1.1, kernel=linear .................................\n",
            "[CV] .................. C=0.8, gamma=1.1, kernel=linear, total=   0.0s\n",
            "[CV] C=0.8, gamma=1.1, kernel=linear .................................\n",
            "[CV] .................. C=0.8, gamma=1.1, kernel=linear, total=   0.0s\n",
            "[CV] C=0.8, gamma=1.1, kernel=linear .................................\n",
            "[CV] .................. C=0.8, gamma=1.1, kernel=linear, total=   0.0s\n",
            "[CV] C=0.8, gamma=1.1, kernel=linear .................................\n",
            "[CV] .................. C=0.8, gamma=1.1, kernel=linear, total=   0.0s\n",
            "[CV] C=0.8, gamma=1.1, kernel=linear .................................\n",
            "[CV] .................. C=0.8, gamma=1.1, kernel=linear, total=   0.0s\n",
            "[CV] C=0.8, gamma=1.1, kernel=linear .................................\n",
            "[CV] .................. C=0.8, gamma=1.1, kernel=linear, total=   0.0s\n",
            "[CV] C=0.8, gamma=1.1, kernel=linear .................................\n",
            "[CV] .................. C=0.8, gamma=1.1, kernel=linear, total=   0.0s\n",
            "[CV] C=0.8, gamma=1.1, kernel=rbf ....................................\n",
            "[CV] ..................... C=0.8, gamma=1.1, kernel=rbf, total=   0.0s\n",
            "[CV] C=0.8, gamma=1.1, kernel=rbf ....................................\n",
            "[CV] ..................... C=0.8, gamma=1.1, kernel=rbf, total=   0.0s\n",
            "[CV] C=0.8, gamma=1.1, kernel=rbf ....................................\n",
            "[CV] ..................... C=0.8, gamma=1.1, kernel=rbf, total=   0.0s\n",
            "[CV] C=0.8, gamma=1.1, kernel=rbf ....................................\n",
            "[CV] ..................... C=0.8, gamma=1.1, kernel=rbf, total=   0.0s\n",
            "[CV] C=0.8, gamma=1.1, kernel=rbf ....................................\n",
            "[CV] ..................... C=0.8, gamma=1.1, kernel=rbf, total=   0.0s\n",
            "[CV] C=0.8, gamma=1.1, kernel=rbf ....................................\n",
            "[CV] ..................... C=0.8, gamma=1.1, kernel=rbf, total=   0.0s\n",
            "[CV] C=0.8, gamma=1.1, kernel=rbf ....................................\n",
            "[CV] ..................... C=0.8, gamma=1.1, kernel=rbf, total=   0.0s\n",
            "[CV] C=0.8, gamma=1.1, kernel=rbf ....................................\n",
            "[CV] ..................... C=0.8, gamma=1.1, kernel=rbf, total=   0.0s\n",
            "[CV] C=0.8, gamma=1.1, kernel=rbf ....................................\n",
            "[CV] ..................... C=0.8, gamma=1.1, kernel=rbf, total=   0.0s\n",
            "[CV] C=0.8, gamma=1.1, kernel=rbf ....................................\n",
            "[CV] ..................... C=0.8, gamma=1.1, kernel=rbf, total=   0.0s\n",
            "[CV] C=0.8, gamma=1.2, kernel=linear .................................\n",
            "[CV] .................. C=0.8, gamma=1.2, kernel=linear, total=   0.0s\n",
            "[CV] C=0.8, gamma=1.2, kernel=linear .................................\n",
            "[CV] .................. C=0.8, gamma=1.2, kernel=linear, total=   0.0s\n",
            "[CV] C=0.8, gamma=1.2, kernel=linear .................................\n",
            "[CV] .................. C=0.8, gamma=1.2, kernel=linear, total=   0.0s\n",
            "[CV] C=0.8, gamma=1.2, kernel=linear .................................\n",
            "[CV] .................. C=0.8, gamma=1.2, kernel=linear, total=   0.0s\n",
            "[CV] C=0.8, gamma=1.2, kernel=linear .................................\n",
            "[CV] .................. C=0.8, gamma=1.2, kernel=linear, total=   0.0s\n",
            "[CV] C=0.8, gamma=1.2, kernel=linear .................................\n",
            "[CV] .................. C=0.8, gamma=1.2, kernel=linear, total=   0.0s\n",
            "[CV] C=0.8, gamma=1.2, kernel=linear .................................\n",
            "[CV] .................. C=0.8, gamma=1.2, kernel=linear, total=   0.0s\n",
            "[CV] C=0.8, gamma=1.2, kernel=linear .................................\n",
            "[CV] .................. C=0.8, gamma=1.2, kernel=linear, total=   0.0s\n",
            "[CV] C=0.8, gamma=1.2, kernel=linear .................................\n",
            "[CV] .................. C=0.8, gamma=1.2, kernel=linear, total=   0.0s\n",
            "[CV] C=0.8, gamma=1.2, kernel=linear .................................\n",
            "[CV] .................. C=0.8, gamma=1.2, kernel=linear, total=   0.0s\n",
            "[CV] C=0.8, gamma=1.2, kernel=rbf ....................................\n",
            "[CV] ..................... C=0.8, gamma=1.2, kernel=rbf, total=   0.0s\n",
            "[CV] C=0.8, gamma=1.2, kernel=rbf ....................................\n",
            "[CV] ..................... C=0.8, gamma=1.2, kernel=rbf, total=   0.0s\n",
            "[CV] C=0.8, gamma=1.2, kernel=rbf ....................................\n",
            "[CV] ..................... C=0.8, gamma=1.2, kernel=rbf, total=   0.0s\n",
            "[CV] C=0.8, gamma=1.2, kernel=rbf ....................................\n",
            "[CV] ..................... C=0.8, gamma=1.2, kernel=rbf, total=   0.0s\n",
            "[CV] C=0.8, gamma=1.2, kernel=rbf ....................................\n",
            "[CV] ..................... C=0.8, gamma=1.2, kernel=rbf, total=   0.0s\n",
            "[CV] C=0.8, gamma=1.2, kernel=rbf ....................................\n",
            "[CV] ..................... C=0.8, gamma=1.2, kernel=rbf, total=   0.0s\n",
            "[CV] C=0.8, gamma=1.2, kernel=rbf ....................................\n",
            "[CV] ..................... C=0.8, gamma=1.2, kernel=rbf, total=   0.0s\n",
            "[CV] C=0.8, gamma=1.2, kernel=rbf ....................................\n",
            "[CV] ..................... C=0.8, gamma=1.2, kernel=rbf, total=   0.0s\n",
            "[CV] C=0.8, gamma=1.2, kernel=rbf ....................................\n",
            "[CV] ..................... C=0.8, gamma=1.2, kernel=rbf, total=   0.0s\n",
            "[CV] C=0.8, gamma=1.2, kernel=rbf ....................................\n",
            "[CV] ..................... C=0.8, gamma=1.2, kernel=rbf, total=   0.0s\n",
            "[CV] C=0.8, gamma=1.3, kernel=linear .................................\n",
            "[CV] .................. C=0.8, gamma=1.3, kernel=linear, total=   0.0s\n",
            "[CV] C=0.8, gamma=1.3, kernel=linear .................................\n",
            "[CV] .................. C=0.8, gamma=1.3, kernel=linear, total=   0.0s\n",
            "[CV] C=0.8, gamma=1.3, kernel=linear .................................\n",
            "[CV] .................. C=0.8, gamma=1.3, kernel=linear, total=   0.0s\n",
            "[CV] C=0.8, gamma=1.3, kernel=linear .................................\n",
            "[CV] .................. C=0.8, gamma=1.3, kernel=linear, total=   0.0s\n",
            "[CV] C=0.8, gamma=1.3, kernel=linear .................................\n",
            "[CV] .................. C=0.8, gamma=1.3, kernel=linear, total=   0.0s\n",
            "[CV] C=0.8, gamma=1.3, kernel=linear .................................\n",
            "[CV] .................. C=0.8, gamma=1.3, kernel=linear, total=   0.0s\n",
            "[CV] C=0.8, gamma=1.3, kernel=linear .................................\n",
            "[CV] .................. C=0.8, gamma=1.3, kernel=linear, total=   0.0s\n",
            "[CV] C=0.8, gamma=1.3, kernel=linear .................................\n",
            "[CV] .................. C=0.8, gamma=1.3, kernel=linear, total=   0.0s\n",
            "[CV] C=0.8, gamma=1.3, kernel=linear .................................\n",
            "[CV] .................. C=0.8, gamma=1.3, kernel=linear, total=   0.0s\n",
            "[CV] C=0.8, gamma=1.3, kernel=linear .................................\n",
            "[CV] .................. C=0.8, gamma=1.3, kernel=linear, total=   0.0s\n",
            "[CV] C=0.8, gamma=1.3, kernel=rbf ....................................\n",
            "[CV] ..................... C=0.8, gamma=1.3, kernel=rbf, total=   0.0s\n",
            "[CV] C=0.8, gamma=1.3, kernel=rbf ....................................\n",
            "[CV] ..................... C=0.8, gamma=1.3, kernel=rbf, total=   0.0s\n",
            "[CV] C=0.8, gamma=1.3, kernel=rbf ....................................\n",
            "[CV] ..................... C=0.8, gamma=1.3, kernel=rbf, total=   0.0s\n",
            "[CV] C=0.8, gamma=1.3, kernel=rbf ....................................\n",
            "[CV] ..................... C=0.8, gamma=1.3, kernel=rbf, total=   0.0s\n",
            "[CV] C=0.8, gamma=1.3, kernel=rbf ....................................\n",
            "[CV] ..................... C=0.8, gamma=1.3, kernel=rbf, total=   0.0s\n",
            "[CV] C=0.8, gamma=1.3, kernel=rbf ....................................\n",
            "[CV] ..................... C=0.8, gamma=1.3, kernel=rbf, total=   0.0s\n",
            "[CV] C=0.8, gamma=1.3, kernel=rbf ....................................\n",
            "[CV] ..................... C=0.8, gamma=1.3, kernel=rbf, total=   0.0s\n",
            "[CV] C=0.8, gamma=1.3, kernel=rbf ....................................\n",
            "[CV] ..................... C=0.8, gamma=1.3, kernel=rbf, total=   0.0s\n",
            "[CV] C=0.8, gamma=1.3, kernel=rbf ....................................\n",
            "[CV] ..................... C=0.8, gamma=1.3, kernel=rbf, total=   0.0s\n",
            "[CV] C=0.8, gamma=1.3, kernel=rbf ....................................\n",
            "[CV] ..................... C=0.8, gamma=1.3, kernel=rbf, total=   0.0s\n",
            "[CV] C=0.8, gamma=1.4, kernel=linear .................................\n",
            "[CV] .................. C=0.8, gamma=1.4, kernel=linear, total=   0.0s\n",
            "[CV] C=0.8, gamma=1.4, kernel=linear .................................\n",
            "[CV] .................. C=0.8, gamma=1.4, kernel=linear, total=   0.0s\n",
            "[CV] C=0.8, gamma=1.4, kernel=linear .................................\n",
            "[CV] .................. C=0.8, gamma=1.4, kernel=linear, total=   0.0s\n",
            "[CV] C=0.8, gamma=1.4, kernel=linear .................................\n",
            "[CV] .................. C=0.8, gamma=1.4, kernel=linear, total=   0.0s\n",
            "[CV] C=0.8, gamma=1.4, kernel=linear .................................\n",
            "[CV] .................. C=0.8, gamma=1.4, kernel=linear, total=   0.0s\n",
            "[CV] C=0.8, gamma=1.4, kernel=linear .................................\n",
            "[CV] .................. C=0.8, gamma=1.4, kernel=linear, total=   0.0s\n",
            "[CV] C=0.8, gamma=1.4, kernel=linear .................................\n",
            "[CV] .................. C=0.8, gamma=1.4, kernel=linear, total=   0.0s\n",
            "[CV] C=0.8, gamma=1.4, kernel=linear .................................\n",
            "[CV] .................. C=0.8, gamma=1.4, kernel=linear, total=   0.0s\n",
            "[CV] C=0.8, gamma=1.4, kernel=linear .................................\n",
            "[CV] .................. C=0.8, gamma=1.4, kernel=linear, total=   0.0s\n",
            "[CV] C=0.8, gamma=1.4, kernel=linear .................................\n",
            "[CV] .................. C=0.8, gamma=1.4, kernel=linear, total=   0.0s\n",
            "[CV] C=0.8, gamma=1.4, kernel=rbf ....................................\n",
            "[CV] ..................... C=0.8, gamma=1.4, kernel=rbf, total=   0.0s\n",
            "[CV] C=0.8, gamma=1.4, kernel=rbf ....................................\n",
            "[CV] ..................... C=0.8, gamma=1.4, kernel=rbf, total=   0.0s\n",
            "[CV] C=0.8, gamma=1.4, kernel=rbf ....................................\n",
            "[CV] ..................... C=0.8, gamma=1.4, kernel=rbf, total=   0.0s\n",
            "[CV] C=0.8, gamma=1.4, kernel=rbf ....................................\n",
            "[CV] ..................... C=0.8, gamma=1.4, kernel=rbf, total=   0.0s\n",
            "[CV] C=0.8, gamma=1.4, kernel=rbf ....................................\n",
            "[CV] ..................... C=0.8, gamma=1.4, kernel=rbf, total=   0.0s\n",
            "[CV] C=0.8, gamma=1.4, kernel=rbf ....................................\n",
            "[CV] ..................... C=0.8, gamma=1.4, kernel=rbf, total=   0.0s\n",
            "[CV] C=0.8, gamma=1.4, kernel=rbf ....................................\n",
            "[CV] ..................... C=0.8, gamma=1.4, kernel=rbf, total=   0.0s\n",
            "[CV] C=0.8, gamma=1.4, kernel=rbf ....................................\n",
            "[CV] ..................... C=0.8, gamma=1.4, kernel=rbf, total=   0.0s\n",
            "[CV] C=0.8, gamma=1.4, kernel=rbf ....................................\n",
            "[CV] ..................... C=0.8, gamma=1.4, kernel=rbf, total=   0.0s\n",
            "[CV] C=0.8, gamma=1.4, kernel=rbf ....................................\n",
            "[CV] ..................... C=0.8, gamma=1.4, kernel=rbf, total=   0.0s\n",
            "[CV] C=0.9, gamma=0.1, kernel=linear .................................\n",
            "[CV] .................. C=0.9, gamma=0.1, kernel=linear, total=   0.0s\n",
            "[CV] C=0.9, gamma=0.1, kernel=linear .................................\n",
            "[CV] .................. C=0.9, gamma=0.1, kernel=linear, total=   0.0s\n",
            "[CV] C=0.9, gamma=0.1, kernel=linear .................................\n",
            "[CV] .................. C=0.9, gamma=0.1, kernel=linear, total=   0.0s\n",
            "[CV] C=0.9, gamma=0.1, kernel=linear .................................\n",
            "[CV] .................. C=0.9, gamma=0.1, kernel=linear, total=   0.0s\n",
            "[CV] C=0.9, gamma=0.1, kernel=linear .................................\n",
            "[CV] .................. C=0.9, gamma=0.1, kernel=linear, total=   0.0s\n",
            "[CV] C=0.9, gamma=0.1, kernel=linear .................................\n",
            "[CV] .................. C=0.9, gamma=0.1, kernel=linear, total=   0.0s\n",
            "[CV] C=0.9, gamma=0.1, kernel=linear .................................\n",
            "[CV] .................. C=0.9, gamma=0.1, kernel=linear, total=   0.0s\n",
            "[CV] C=0.9, gamma=0.1, kernel=linear .................................\n",
            "[CV] .................. C=0.9, gamma=0.1, kernel=linear, total=   0.0s\n",
            "[CV] C=0.9, gamma=0.1, kernel=linear .................................\n",
            "[CV] .................. C=0.9, gamma=0.1, kernel=linear, total=   0.0s\n",
            "[CV] C=0.9, gamma=0.1, kernel=linear .................................\n",
            "[CV] .................. C=0.9, gamma=0.1, kernel=linear, total=   0.0s\n",
            "[CV] C=0.9, gamma=0.1, kernel=rbf ....................................\n",
            "[CV] ..................... C=0.9, gamma=0.1, kernel=rbf, total=   0.0s\n",
            "[CV] C=0.9, gamma=0.1, kernel=rbf ....................................\n",
            "[CV] ..................... C=0.9, gamma=0.1, kernel=rbf, total=   0.0s\n",
            "[CV] C=0.9, gamma=0.1, kernel=rbf ....................................\n",
            "[CV] ..................... C=0.9, gamma=0.1, kernel=rbf, total=   0.0s\n",
            "[CV] C=0.9, gamma=0.1, kernel=rbf ....................................\n",
            "[CV] ..................... C=0.9, gamma=0.1, kernel=rbf, total=   0.0s\n",
            "[CV] C=0.9, gamma=0.1, kernel=rbf ....................................\n",
            "[CV] ..................... C=0.9, gamma=0.1, kernel=rbf, total=   0.0s\n",
            "[CV] C=0.9, gamma=0.1, kernel=rbf ....................................\n",
            "[CV] ..................... C=0.9, gamma=0.1, kernel=rbf, total=   0.0s\n",
            "[CV] C=0.9, gamma=0.1, kernel=rbf ....................................\n",
            "[CV] ..................... C=0.9, gamma=0.1, kernel=rbf, total=   0.0s\n",
            "[CV] C=0.9, gamma=0.1, kernel=rbf ....................................\n",
            "[CV] ..................... C=0.9, gamma=0.1, kernel=rbf, total=   0.0s\n",
            "[CV] C=0.9, gamma=0.1, kernel=rbf ....................................\n",
            "[CV] ..................... C=0.9, gamma=0.1, kernel=rbf, total=   0.0s\n",
            "[CV] C=0.9, gamma=0.1, kernel=rbf ....................................\n",
            "[CV] ..................... C=0.9, gamma=0.1, kernel=rbf, total=   0.0s\n",
            "[CV] C=0.9, gamma=0.8, kernel=linear .................................\n",
            "[CV] .................. C=0.9, gamma=0.8, kernel=linear, total=   0.0s\n",
            "[CV] C=0.9, gamma=0.8, kernel=linear .................................\n",
            "[CV] .................. C=0.9, gamma=0.8, kernel=linear, total=   0.0s\n",
            "[CV] C=0.9, gamma=0.8, kernel=linear .................................\n",
            "[CV] .................. C=0.9, gamma=0.8, kernel=linear, total=   0.0s\n",
            "[CV] C=0.9, gamma=0.8, kernel=linear .................................\n",
            "[CV] .................. C=0.9, gamma=0.8, kernel=linear, total=   0.0s\n",
            "[CV] C=0.9, gamma=0.8, kernel=linear .................................\n",
            "[CV] .................. C=0.9, gamma=0.8, kernel=linear, total=   0.0s\n",
            "[CV] C=0.9, gamma=0.8, kernel=linear .................................\n",
            "[CV] .................. C=0.9, gamma=0.8, kernel=linear, total=   0.0s\n",
            "[CV] C=0.9, gamma=0.8, kernel=linear .................................\n",
            "[CV] .................. C=0.9, gamma=0.8, kernel=linear, total=   0.0s\n",
            "[CV] C=0.9, gamma=0.8, kernel=linear .................................\n",
            "[CV] .................. C=0.9, gamma=0.8, kernel=linear, total=   0.0s\n",
            "[CV] C=0.9, gamma=0.8, kernel=linear .................................\n",
            "[CV] .................. C=0.9, gamma=0.8, kernel=linear, total=   0.0s\n",
            "[CV] C=0.9, gamma=0.8, kernel=linear .................................\n",
            "[CV] .................. C=0.9, gamma=0.8, kernel=linear, total=   0.0s\n",
            "[CV] C=0.9, gamma=0.8, kernel=rbf ....................................\n",
            "[CV] ..................... C=0.9, gamma=0.8, kernel=rbf, total=   0.0s\n",
            "[CV] C=0.9, gamma=0.8, kernel=rbf ....................................\n",
            "[CV] ..................... C=0.9, gamma=0.8, kernel=rbf, total=   0.0s\n",
            "[CV] C=0.9, gamma=0.8, kernel=rbf ....................................\n",
            "[CV] ..................... C=0.9, gamma=0.8, kernel=rbf, total=   0.0s\n",
            "[CV] C=0.9, gamma=0.8, kernel=rbf ....................................\n",
            "[CV] ..................... C=0.9, gamma=0.8, kernel=rbf, total=   0.0s\n",
            "[CV] C=0.9, gamma=0.8, kernel=rbf ....................................\n",
            "[CV] ..................... C=0.9, gamma=0.8, kernel=rbf, total=   0.0s\n",
            "[CV] C=0.9, gamma=0.8, kernel=rbf ....................................\n",
            "[CV] ..................... C=0.9, gamma=0.8, kernel=rbf, total=   0.0s\n",
            "[CV] C=0.9, gamma=0.8, kernel=rbf ....................................\n",
            "[CV] ..................... C=0.9, gamma=0.8, kernel=rbf, total=   0.0s\n",
            "[CV] C=0.9, gamma=0.8, kernel=rbf ....................................\n",
            "[CV] ..................... C=0.9, gamma=0.8, kernel=rbf, total=   0.0s\n",
            "[CV] C=0.9, gamma=0.8, kernel=rbf ....................................\n",
            "[CV] ..................... C=0.9, gamma=0.8, kernel=rbf, total=   0.0s\n",
            "[CV] C=0.9, gamma=0.8, kernel=rbf ....................................\n",
            "[CV] ..................... C=0.9, gamma=0.8, kernel=rbf, total=   0.0s\n",
            "[CV] C=0.9, gamma=0.9, kernel=linear .................................\n",
            "[CV] .................. C=0.9, gamma=0.9, kernel=linear, total=   0.0s\n",
            "[CV] C=0.9, gamma=0.9, kernel=linear .................................\n",
            "[CV] .................. C=0.9, gamma=0.9, kernel=linear, total=   0.0s\n",
            "[CV] C=0.9, gamma=0.9, kernel=linear .................................\n",
            "[CV] .................. C=0.9, gamma=0.9, kernel=linear, total=   0.0s\n",
            "[CV] C=0.9, gamma=0.9, kernel=linear .................................\n",
            "[CV] .................. C=0.9, gamma=0.9, kernel=linear, total=   0.0s\n",
            "[CV] C=0.9, gamma=0.9, kernel=linear .................................\n",
            "[CV] .................. C=0.9, gamma=0.9, kernel=linear, total=   0.0s\n",
            "[CV] C=0.9, gamma=0.9, kernel=linear .................................\n",
            "[CV] .................. C=0.9, gamma=0.9, kernel=linear, total=   0.0s\n",
            "[CV] C=0.9, gamma=0.9, kernel=linear .................................\n",
            "[CV] .................. C=0.9, gamma=0.9, kernel=linear, total=   0.0s\n",
            "[CV] C=0.9, gamma=0.9, kernel=linear .................................\n",
            "[CV] .................. C=0.9, gamma=0.9, kernel=linear, total=   0.0s\n",
            "[CV] C=0.9, gamma=0.9, kernel=linear .................................\n",
            "[CV] .................. C=0.9, gamma=0.9, kernel=linear, total=   0.0s\n",
            "[CV] C=0.9, gamma=0.9, kernel=linear .................................\n",
            "[CV] .................. C=0.9, gamma=0.9, kernel=linear, total=   0.0s\n",
            "[CV] C=0.9, gamma=0.9, kernel=rbf ....................................\n",
            "[CV] ..................... C=0.9, gamma=0.9, kernel=rbf, total=   0.0s\n",
            "[CV] C=0.9, gamma=0.9, kernel=rbf ....................................\n",
            "[CV] ..................... C=0.9, gamma=0.9, kernel=rbf, total=   0.0s\n",
            "[CV] C=0.9, gamma=0.9, kernel=rbf ....................................\n",
            "[CV] ..................... C=0.9, gamma=0.9, kernel=rbf, total=   0.0s\n",
            "[CV] C=0.9, gamma=0.9, kernel=rbf ....................................\n",
            "[CV] ..................... C=0.9, gamma=0.9, kernel=rbf, total=   0.0s\n",
            "[CV] C=0.9, gamma=0.9, kernel=rbf ....................................\n",
            "[CV] ..................... C=0.9, gamma=0.9, kernel=rbf, total=   0.0s\n",
            "[CV] C=0.9, gamma=0.9, kernel=rbf ....................................\n",
            "[CV] ..................... C=0.9, gamma=0.9, kernel=rbf, total=   0.0s\n",
            "[CV] C=0.9, gamma=0.9, kernel=rbf ....................................\n",
            "[CV] ..................... C=0.9, gamma=0.9, kernel=rbf, total=   0.0s\n",
            "[CV] C=0.9, gamma=0.9, kernel=rbf ....................................\n",
            "[CV] ..................... C=0.9, gamma=0.9, kernel=rbf, total=   0.0s\n",
            "[CV] C=0.9, gamma=0.9, kernel=rbf ....................................\n",
            "[CV] ..................... C=0.9, gamma=0.9, kernel=rbf, total=   0.0s\n",
            "[CV] C=0.9, gamma=0.9, kernel=rbf ....................................\n",
            "[CV] ..................... C=0.9, gamma=0.9, kernel=rbf, total=   0.0s\n",
            "[CV] C=0.9, gamma=1, kernel=linear ...................................\n",
            "[CV] .................... C=0.9, gamma=1, kernel=linear, total=   0.0s\n",
            "[CV] C=0.9, gamma=1, kernel=linear ...................................\n",
            "[CV] .................... C=0.9, gamma=1, kernel=linear, total=   0.0s\n",
            "[CV] C=0.9, gamma=1, kernel=linear ...................................\n",
            "[CV] .................... C=0.9, gamma=1, kernel=linear, total=   0.0s\n",
            "[CV] C=0.9, gamma=1, kernel=linear ...................................\n",
            "[CV] .................... C=0.9, gamma=1, kernel=linear, total=   0.0s\n",
            "[CV] C=0.9, gamma=1, kernel=linear ...................................\n",
            "[CV] .................... C=0.9, gamma=1, kernel=linear, total=   0.0s\n",
            "[CV] C=0.9, gamma=1, kernel=linear ...................................\n",
            "[CV] .................... C=0.9, gamma=1, kernel=linear, total=   0.0s\n",
            "[CV] C=0.9, gamma=1, kernel=linear ...................................\n",
            "[CV] .................... C=0.9, gamma=1, kernel=linear, total=   0.0s\n",
            "[CV] C=0.9, gamma=1, kernel=linear ...................................\n",
            "[CV] .................... C=0.9, gamma=1, kernel=linear, total=   0.0s\n",
            "[CV] C=0.9, gamma=1, kernel=linear ...................................\n",
            "[CV] .................... C=0.9, gamma=1, kernel=linear, total=   0.0s\n",
            "[CV] C=0.9, gamma=1, kernel=linear ...................................\n",
            "[CV] .................... C=0.9, gamma=1, kernel=linear, total=   0.0s\n",
            "[CV] C=0.9, gamma=1, kernel=rbf ......................................\n",
            "[CV] ....................... C=0.9, gamma=1, kernel=rbf, total=   0.0s\n",
            "[CV] C=0.9, gamma=1, kernel=rbf ......................................\n",
            "[CV] ....................... C=0.9, gamma=1, kernel=rbf, total=   0.0s\n",
            "[CV] C=0.9, gamma=1, kernel=rbf ......................................\n",
            "[CV] ....................... C=0.9, gamma=1, kernel=rbf, total=   0.0s\n",
            "[CV] C=0.9, gamma=1, kernel=rbf ......................................\n",
            "[CV] ....................... C=0.9, gamma=1, kernel=rbf, total=   0.0s\n",
            "[CV] C=0.9, gamma=1, kernel=rbf ......................................\n",
            "[CV] ....................... C=0.9, gamma=1, kernel=rbf, total=   0.0s\n",
            "[CV] C=0.9, gamma=1, kernel=rbf ......................................\n",
            "[CV] ....................... C=0.9, gamma=1, kernel=rbf, total=   0.0s\n",
            "[CV] C=0.9, gamma=1, kernel=rbf ......................................\n",
            "[CV] ....................... C=0.9, gamma=1, kernel=rbf, total=   0.0s\n",
            "[CV] C=0.9, gamma=1, kernel=rbf ......................................\n",
            "[CV] ....................... C=0.9, gamma=1, kernel=rbf, total=   0.0s\n",
            "[CV] C=0.9, gamma=1, kernel=rbf ......................................\n",
            "[CV] ....................... C=0.9, gamma=1, kernel=rbf, total=   0.0s\n",
            "[CV] C=0.9, gamma=1, kernel=rbf ......................................\n",
            "[CV] ....................... C=0.9, gamma=1, kernel=rbf, total=   0.0s\n",
            "[CV] C=0.9, gamma=1.1, kernel=linear .................................\n",
            "[CV] .................. C=0.9, gamma=1.1, kernel=linear, total=   0.0s\n",
            "[CV] C=0.9, gamma=1.1, kernel=linear .................................\n",
            "[CV] .................. C=0.9, gamma=1.1, kernel=linear, total=   0.0s\n",
            "[CV] C=0.9, gamma=1.1, kernel=linear .................................\n",
            "[CV] .................. C=0.9, gamma=1.1, kernel=linear, total=   0.0s\n",
            "[CV] C=0.9, gamma=1.1, kernel=linear .................................\n",
            "[CV] .................. C=0.9, gamma=1.1, kernel=linear, total=   0.0s\n",
            "[CV] C=0.9, gamma=1.1, kernel=linear .................................\n",
            "[CV] .................. C=0.9, gamma=1.1, kernel=linear, total=   0.0s\n",
            "[CV] C=0.9, gamma=1.1, kernel=linear .................................\n",
            "[CV] .................. C=0.9, gamma=1.1, kernel=linear, total=   0.0s\n",
            "[CV] C=0.9, gamma=1.1, kernel=linear .................................\n",
            "[CV] .................. C=0.9, gamma=1.1, kernel=linear, total=   0.0s\n",
            "[CV] C=0.9, gamma=1.1, kernel=linear .................................\n",
            "[CV] .................. C=0.9, gamma=1.1, kernel=linear, total=   0.0s\n",
            "[CV] C=0.9, gamma=1.1, kernel=linear .................................\n",
            "[CV] .................. C=0.9, gamma=1.1, kernel=linear, total=   0.0s\n",
            "[CV] C=0.9, gamma=1.1, kernel=linear .................................\n",
            "[CV] .................. C=0.9, gamma=1.1, kernel=linear, total=   0.0s\n",
            "[CV] C=0.9, gamma=1.1, kernel=rbf ....................................\n",
            "[CV] ..................... C=0.9, gamma=1.1, kernel=rbf, total=   0.0s\n",
            "[CV] C=0.9, gamma=1.1, kernel=rbf ....................................\n",
            "[CV] ..................... C=0.9, gamma=1.1, kernel=rbf, total=   0.0s\n",
            "[CV] C=0.9, gamma=1.1, kernel=rbf ....................................\n",
            "[CV] ..................... C=0.9, gamma=1.1, kernel=rbf, total=   0.0s\n",
            "[CV] C=0.9, gamma=1.1, kernel=rbf ....................................\n",
            "[CV] ..................... C=0.9, gamma=1.1, kernel=rbf, total=   0.0s\n",
            "[CV] C=0.9, gamma=1.1, kernel=rbf ....................................\n",
            "[CV] ..................... C=0.9, gamma=1.1, kernel=rbf, total=   0.0s\n",
            "[CV] C=0.9, gamma=1.1, kernel=rbf ....................................\n",
            "[CV] ..................... C=0.9, gamma=1.1, kernel=rbf, total=   0.0s\n",
            "[CV] C=0.9, gamma=1.1, kernel=rbf ....................................\n",
            "[CV] ..................... C=0.9, gamma=1.1, kernel=rbf, total=   0.0s\n",
            "[CV] C=0.9, gamma=1.1, kernel=rbf ....................................\n",
            "[CV] ..................... C=0.9, gamma=1.1, kernel=rbf, total=   0.0s\n",
            "[CV] C=0.9, gamma=1.1, kernel=rbf ....................................\n",
            "[CV] ..................... C=0.9, gamma=1.1, kernel=rbf, total=   0.0s\n",
            "[CV] C=0.9, gamma=1.1, kernel=rbf ....................................\n",
            "[CV] ..................... C=0.9, gamma=1.1, kernel=rbf, total=   0.0s\n",
            "[CV] C=0.9, gamma=1.2, kernel=linear .................................\n",
            "[CV] .................. C=0.9, gamma=1.2, kernel=linear, total=   0.0s\n",
            "[CV] C=0.9, gamma=1.2, kernel=linear .................................\n",
            "[CV] .................. C=0.9, gamma=1.2, kernel=linear, total=   0.0s\n",
            "[CV] C=0.9, gamma=1.2, kernel=linear .................................\n",
            "[CV] .................. C=0.9, gamma=1.2, kernel=linear, total=   0.0s\n",
            "[CV] C=0.9, gamma=1.2, kernel=linear .................................\n",
            "[CV] .................. C=0.9, gamma=1.2, kernel=linear, total=   0.0s\n",
            "[CV] C=0.9, gamma=1.2, kernel=linear .................................\n",
            "[CV] .................. C=0.9, gamma=1.2, kernel=linear, total=   0.0s\n",
            "[CV] C=0.9, gamma=1.2, kernel=linear .................................\n",
            "[CV] .................. C=0.9, gamma=1.2, kernel=linear, total=   0.0s\n",
            "[CV] C=0.9, gamma=1.2, kernel=linear .................................\n",
            "[CV] .................. C=0.9, gamma=1.2, kernel=linear, total=   0.0s\n",
            "[CV] C=0.9, gamma=1.2, kernel=linear .................................\n",
            "[CV] .................. C=0.9, gamma=1.2, kernel=linear, total=   0.0s\n",
            "[CV] C=0.9, gamma=1.2, kernel=linear .................................\n",
            "[CV] .................. C=0.9, gamma=1.2, kernel=linear, total=   0.0s\n",
            "[CV] C=0.9, gamma=1.2, kernel=linear .................................\n",
            "[CV] .................. C=0.9, gamma=1.2, kernel=linear, total=   0.0s\n",
            "[CV] C=0.9, gamma=1.2, kernel=rbf ....................................\n",
            "[CV] ..................... C=0.9, gamma=1.2, kernel=rbf, total=   0.0s\n",
            "[CV] C=0.9, gamma=1.2, kernel=rbf ....................................\n",
            "[CV] ..................... C=0.9, gamma=1.2, kernel=rbf, total=   0.0s\n",
            "[CV] C=0.9, gamma=1.2, kernel=rbf ....................................\n",
            "[CV] ..................... C=0.9, gamma=1.2, kernel=rbf, total=   0.0s\n",
            "[CV] C=0.9, gamma=1.2, kernel=rbf ....................................\n",
            "[CV] ..................... C=0.9, gamma=1.2, kernel=rbf, total=   0.0s\n",
            "[CV] C=0.9, gamma=1.2, kernel=rbf ....................................\n",
            "[CV] ..................... C=0.9, gamma=1.2, kernel=rbf, total=   0.0s\n",
            "[CV] C=0.9, gamma=1.2, kernel=rbf ....................................\n",
            "[CV] ..................... C=0.9, gamma=1.2, kernel=rbf, total=   0.0s\n",
            "[CV] C=0.9, gamma=1.2, kernel=rbf ....................................\n",
            "[CV] ..................... C=0.9, gamma=1.2, kernel=rbf, total=   0.0s\n",
            "[CV] C=0.9, gamma=1.2, kernel=rbf ....................................\n",
            "[CV] ..................... C=0.9, gamma=1.2, kernel=rbf, total=   0.0s\n",
            "[CV] C=0.9, gamma=1.2, kernel=rbf ....................................\n",
            "[CV] ..................... C=0.9, gamma=1.2, kernel=rbf, total=   0.0s\n",
            "[CV] C=0.9, gamma=1.2, kernel=rbf ....................................\n",
            "[CV] ..................... C=0.9, gamma=1.2, kernel=rbf, total=   0.0s\n",
            "[CV] C=0.9, gamma=1.3, kernel=linear .................................\n",
            "[CV] .................. C=0.9, gamma=1.3, kernel=linear, total=   0.0s\n",
            "[CV] C=0.9, gamma=1.3, kernel=linear .................................\n",
            "[CV] .................. C=0.9, gamma=1.3, kernel=linear, total=   0.0s\n",
            "[CV] C=0.9, gamma=1.3, kernel=linear .................................\n",
            "[CV] .................. C=0.9, gamma=1.3, kernel=linear, total=   0.0s\n",
            "[CV] C=0.9, gamma=1.3, kernel=linear .................................\n",
            "[CV] .................. C=0.9, gamma=1.3, kernel=linear, total=   0.0s\n",
            "[CV] C=0.9, gamma=1.3, kernel=linear .................................\n",
            "[CV] .................. C=0.9, gamma=1.3, kernel=linear, total=   0.0s\n",
            "[CV] C=0.9, gamma=1.3, kernel=linear .................................\n",
            "[CV] .................. C=0.9, gamma=1.3, kernel=linear, total=   0.0s\n",
            "[CV] C=0.9, gamma=1.3, kernel=linear .................................\n",
            "[CV] .................. C=0.9, gamma=1.3, kernel=linear, total=   0.0s\n",
            "[CV] C=0.9, gamma=1.3, kernel=linear .................................\n",
            "[CV] .................. C=0.9, gamma=1.3, kernel=linear, total=   0.0s\n",
            "[CV] C=0.9, gamma=1.3, kernel=linear .................................\n",
            "[CV] .................. C=0.9, gamma=1.3, kernel=linear, total=   0.0s\n",
            "[CV] C=0.9, gamma=1.3, kernel=linear .................................\n",
            "[CV] .................. C=0.9, gamma=1.3, kernel=linear, total=   0.0s\n",
            "[CV] C=0.9, gamma=1.3, kernel=rbf ....................................\n",
            "[CV] ..................... C=0.9, gamma=1.3, kernel=rbf, total=   0.0s\n",
            "[CV] C=0.9, gamma=1.3, kernel=rbf ....................................\n",
            "[CV] ..................... C=0.9, gamma=1.3, kernel=rbf, total=   0.0s\n",
            "[CV] C=0.9, gamma=1.3, kernel=rbf ....................................\n",
            "[CV] ..................... C=0.9, gamma=1.3, kernel=rbf, total=   0.0s\n",
            "[CV] C=0.9, gamma=1.3, kernel=rbf ....................................\n",
            "[CV] ..................... C=0.9, gamma=1.3, kernel=rbf, total=   0.0s\n",
            "[CV] C=0.9, gamma=1.3, kernel=rbf ....................................\n",
            "[CV] ..................... C=0.9, gamma=1.3, kernel=rbf, total=   0.0s\n",
            "[CV] C=0.9, gamma=1.3, kernel=rbf ....................................\n",
            "[CV] ..................... C=0.9, gamma=1.3, kernel=rbf, total=   0.0s\n",
            "[CV] C=0.9, gamma=1.3, kernel=rbf ....................................\n",
            "[CV] ..................... C=0.9, gamma=1.3, kernel=rbf, total=   0.0s\n",
            "[CV] C=0.9, gamma=1.3, kernel=rbf ....................................\n",
            "[CV] ..................... C=0.9, gamma=1.3, kernel=rbf, total=   0.0s\n",
            "[CV] C=0.9, gamma=1.3, kernel=rbf ....................................\n",
            "[CV] ..................... C=0.9, gamma=1.3, kernel=rbf, total=   0.0s\n",
            "[CV] C=0.9, gamma=1.3, kernel=rbf ....................................\n",
            "[CV] ..................... C=0.9, gamma=1.3, kernel=rbf, total=   0.0s\n",
            "[CV] C=0.9, gamma=1.4, kernel=linear .................................\n",
            "[CV] .................. C=0.9, gamma=1.4, kernel=linear, total=   0.0s\n",
            "[CV] C=0.9, gamma=1.4, kernel=linear .................................\n",
            "[CV] .................. C=0.9, gamma=1.4, kernel=linear, total=   0.0s\n",
            "[CV] C=0.9, gamma=1.4, kernel=linear .................................\n",
            "[CV] .................. C=0.9, gamma=1.4, kernel=linear, total=   0.0s\n",
            "[CV] C=0.9, gamma=1.4, kernel=linear .................................\n",
            "[CV] .................. C=0.9, gamma=1.4, kernel=linear, total=   0.0s\n",
            "[CV] C=0.9, gamma=1.4, kernel=linear .................................\n",
            "[CV] .................. C=0.9, gamma=1.4, kernel=linear, total=   0.0s\n",
            "[CV] C=0.9, gamma=1.4, kernel=linear .................................\n",
            "[CV] .................. C=0.9, gamma=1.4, kernel=linear, total=   0.0s\n",
            "[CV] C=0.9, gamma=1.4, kernel=linear .................................\n",
            "[CV] .................. C=0.9, gamma=1.4, kernel=linear, total=   0.0s\n",
            "[CV] C=0.9, gamma=1.4, kernel=linear .................................\n",
            "[CV] .................. C=0.9, gamma=1.4, kernel=linear, total=   0.0s\n",
            "[CV] C=0.9, gamma=1.4, kernel=linear .................................\n",
            "[CV] .................. C=0.9, gamma=1.4, kernel=linear, total=   0.0s\n",
            "[CV] C=0.9, gamma=1.4, kernel=linear .................................\n",
            "[CV] .................. C=0.9, gamma=1.4, kernel=linear, total=   0.0s\n",
            "[CV] C=0.9, gamma=1.4, kernel=rbf ....................................\n",
            "[CV] ..................... C=0.9, gamma=1.4, kernel=rbf, total=   0.0s\n",
            "[CV] C=0.9, gamma=1.4, kernel=rbf ....................................\n",
            "[CV] ..................... C=0.9, gamma=1.4, kernel=rbf, total=   0.0s\n",
            "[CV] C=0.9, gamma=1.4, kernel=rbf ....................................\n",
            "[CV] ..................... C=0.9, gamma=1.4, kernel=rbf, total=   0.0s\n",
            "[CV] C=0.9, gamma=1.4, kernel=rbf ....................................\n",
            "[CV] ..................... C=0.9, gamma=1.4, kernel=rbf, total=   0.0s\n",
            "[CV] C=0.9, gamma=1.4, kernel=rbf ....................................\n",
            "[CV] ..................... C=0.9, gamma=1.4, kernel=rbf, total=   0.0s\n",
            "[CV] C=0.9, gamma=1.4, kernel=rbf ....................................\n",
            "[CV] ..................... C=0.9, gamma=1.4, kernel=rbf, total=   0.0s\n",
            "[CV] C=0.9, gamma=1.4, kernel=rbf ....................................\n",
            "[CV] ..................... C=0.9, gamma=1.4, kernel=rbf, total=   0.0s\n",
            "[CV] C=0.9, gamma=1.4, kernel=rbf ....................................\n",
            "[CV] ..................... C=0.9, gamma=1.4, kernel=rbf, total=   0.0s\n",
            "[CV] C=0.9, gamma=1.4, kernel=rbf ....................................\n",
            "[CV] ..................... C=0.9, gamma=1.4, kernel=rbf, total=   0.0s\n",
            "[CV] C=0.9, gamma=1.4, kernel=rbf ....................................\n",
            "[CV] ..................... C=0.9, gamma=1.4, kernel=rbf, total=   0.0s\n",
            "[CV] C=1, gamma=0.1, kernel=linear ...................................\n",
            "[CV] .................... C=1, gamma=0.1, kernel=linear, total=   0.0s\n",
            "[CV] C=1, gamma=0.1, kernel=linear ...................................\n",
            "[CV] .................... C=1, gamma=0.1, kernel=linear, total=   0.0s\n",
            "[CV] C=1, gamma=0.1, kernel=linear ...................................\n",
            "[CV] .................... C=1, gamma=0.1, kernel=linear, total=   0.0s\n",
            "[CV] C=1, gamma=0.1, kernel=linear ...................................\n",
            "[CV] .................... C=1, gamma=0.1, kernel=linear, total=   0.0s\n",
            "[CV] C=1, gamma=0.1, kernel=linear ...................................\n",
            "[CV] .................... C=1, gamma=0.1, kernel=linear, total=   0.0s\n",
            "[CV] C=1, gamma=0.1, kernel=linear ...................................\n",
            "[CV] .................... C=1, gamma=0.1, kernel=linear, total=   0.0s\n",
            "[CV] C=1, gamma=0.1, kernel=linear ...................................\n",
            "[CV] .................... C=1, gamma=0.1, kernel=linear, total=   0.0s\n",
            "[CV] C=1, gamma=0.1, kernel=linear ...................................\n",
            "[CV] .................... C=1, gamma=0.1, kernel=linear, total=   0.0s\n",
            "[CV] C=1, gamma=0.1, kernel=linear ...................................\n",
            "[CV] .................... C=1, gamma=0.1, kernel=linear, total=   0.0s\n",
            "[CV] C=1, gamma=0.1, kernel=linear ...................................\n",
            "[CV] .................... C=1, gamma=0.1, kernel=linear, total=   0.0s\n",
            "[CV] C=1, gamma=0.1, kernel=rbf ......................................\n",
            "[CV] ....................... C=1, gamma=0.1, kernel=rbf, total=   0.0s\n",
            "[CV] C=1, gamma=0.1, kernel=rbf ......................................\n",
            "[CV] ....................... C=1, gamma=0.1, kernel=rbf, total=   0.0s\n",
            "[CV] C=1, gamma=0.1, kernel=rbf ......................................\n",
            "[CV] ....................... C=1, gamma=0.1, kernel=rbf, total=   0.0s\n",
            "[CV] C=1, gamma=0.1, kernel=rbf ......................................\n",
            "[CV] ....................... C=1, gamma=0.1, kernel=rbf, total=   0.0s\n",
            "[CV] C=1, gamma=0.1, kernel=rbf ......................................\n",
            "[CV] ....................... C=1, gamma=0.1, kernel=rbf, total=   0.0s\n",
            "[CV] C=1, gamma=0.1, kernel=rbf ......................................\n",
            "[CV] ....................... C=1, gamma=0.1, kernel=rbf, total=   0.0s\n",
            "[CV] C=1, gamma=0.1, kernel=rbf ......................................\n",
            "[CV] ....................... C=1, gamma=0.1, kernel=rbf, total=   0.0s\n",
            "[CV] C=1, gamma=0.1, kernel=rbf ......................................\n",
            "[CV] ....................... C=1, gamma=0.1, kernel=rbf, total=   0.0s\n",
            "[CV] C=1, gamma=0.1, kernel=rbf ......................................\n",
            "[CV] ....................... C=1, gamma=0.1, kernel=rbf, total=   0.0s\n",
            "[CV] C=1, gamma=0.1, kernel=rbf ......................................\n",
            "[CV] ....................... C=1, gamma=0.1, kernel=rbf, total=   0.0s\n",
            "[CV] C=1, gamma=0.8, kernel=linear ...................................\n",
            "[CV] .................... C=1, gamma=0.8, kernel=linear, total=   0.0s\n",
            "[CV] C=1, gamma=0.8, kernel=linear ...................................\n",
            "[CV] .................... C=1, gamma=0.8, kernel=linear, total=   0.0s\n",
            "[CV] C=1, gamma=0.8, kernel=linear ...................................\n",
            "[CV] .................... C=1, gamma=0.8, kernel=linear, total=   0.0s\n",
            "[CV] C=1, gamma=0.8, kernel=linear ...................................\n",
            "[CV] .................... C=1, gamma=0.8, kernel=linear, total=   0.0s\n",
            "[CV] C=1, gamma=0.8, kernel=linear ...................................\n",
            "[CV] .................... C=1, gamma=0.8, kernel=linear, total=   0.0s\n",
            "[CV] C=1, gamma=0.8, kernel=linear ...................................\n",
            "[CV] .................... C=1, gamma=0.8, kernel=linear, total=   0.0s\n",
            "[CV] C=1, gamma=0.8, kernel=linear ...................................\n",
            "[CV] .................... C=1, gamma=0.8, kernel=linear, total=   0.0s\n",
            "[CV] C=1, gamma=0.8, kernel=linear ...................................\n",
            "[CV] .................... C=1, gamma=0.8, kernel=linear, total=   0.0s\n",
            "[CV] C=1, gamma=0.8, kernel=linear ...................................\n",
            "[CV] .................... C=1, gamma=0.8, kernel=linear, total=   0.0s\n",
            "[CV] C=1, gamma=0.8, kernel=linear ...................................\n",
            "[CV] .................... C=1, gamma=0.8, kernel=linear, total=   0.0s\n",
            "[CV] C=1, gamma=0.8, kernel=rbf ......................................\n",
            "[CV] ....................... C=1, gamma=0.8, kernel=rbf, total=   0.0s\n",
            "[CV] C=1, gamma=0.8, kernel=rbf ......................................\n",
            "[CV] ....................... C=1, gamma=0.8, kernel=rbf, total=   0.0s\n",
            "[CV] C=1, gamma=0.8, kernel=rbf ......................................\n",
            "[CV] ....................... C=1, gamma=0.8, kernel=rbf, total=   0.0s\n",
            "[CV] C=1, gamma=0.8, kernel=rbf ......................................\n",
            "[CV] ....................... C=1, gamma=0.8, kernel=rbf, total=   0.0s\n",
            "[CV] C=1, gamma=0.8, kernel=rbf ......................................\n",
            "[CV] ....................... C=1, gamma=0.8, kernel=rbf, total=   0.0s\n",
            "[CV] C=1, gamma=0.8, kernel=rbf ......................................\n",
            "[CV] ....................... C=1, gamma=0.8, kernel=rbf, total=   0.0s\n",
            "[CV] C=1, gamma=0.8, kernel=rbf ......................................\n",
            "[CV] ....................... C=1, gamma=0.8, kernel=rbf, total=   0.0s\n",
            "[CV] C=1, gamma=0.8, kernel=rbf ......................................\n",
            "[CV] ....................... C=1, gamma=0.8, kernel=rbf, total=   0.0s\n",
            "[CV] C=1, gamma=0.8, kernel=rbf ......................................\n",
            "[CV] ....................... C=1, gamma=0.8, kernel=rbf, total=   0.0s\n",
            "[CV] C=1, gamma=0.8, kernel=rbf ......................................\n",
            "[CV] ....................... C=1, gamma=0.8, kernel=rbf, total=   0.0s\n",
            "[CV] C=1, gamma=0.9, kernel=linear ...................................\n",
            "[CV] .................... C=1, gamma=0.9, kernel=linear, total=   0.0s\n",
            "[CV] C=1, gamma=0.9, kernel=linear ...................................\n",
            "[CV] .................... C=1, gamma=0.9, kernel=linear, total=   0.0s\n",
            "[CV] C=1, gamma=0.9, kernel=linear ...................................\n",
            "[CV] .................... C=1, gamma=0.9, kernel=linear, total=   0.0s\n",
            "[CV] C=1, gamma=0.9, kernel=linear ...................................\n",
            "[CV] .................... C=1, gamma=0.9, kernel=linear, total=   0.0s\n",
            "[CV] C=1, gamma=0.9, kernel=linear ...................................\n",
            "[CV] .................... C=1, gamma=0.9, kernel=linear, total=   0.0s\n",
            "[CV] C=1, gamma=0.9, kernel=linear ...................................\n",
            "[CV] .................... C=1, gamma=0.9, kernel=linear, total=   0.0s\n",
            "[CV] C=1, gamma=0.9, kernel=linear ...................................\n",
            "[CV] .................... C=1, gamma=0.9, kernel=linear, total=   0.0s\n",
            "[CV] C=1, gamma=0.9, kernel=linear ...................................\n",
            "[CV] .................... C=1, gamma=0.9, kernel=linear, total=   0.0s\n",
            "[CV] C=1, gamma=0.9, kernel=linear ...................................\n",
            "[CV] .................... C=1, gamma=0.9, kernel=linear, total=   0.0s\n",
            "[CV] C=1, gamma=0.9, kernel=linear ...................................\n",
            "[CV] .................... C=1, gamma=0.9, kernel=linear, total=   0.0s\n",
            "[CV] C=1, gamma=0.9, kernel=rbf ......................................\n",
            "[CV] ....................... C=1, gamma=0.9, kernel=rbf, total=   0.0s\n",
            "[CV] C=1, gamma=0.9, kernel=rbf ......................................\n",
            "[CV] ....................... C=1, gamma=0.9, kernel=rbf, total=   0.0s\n",
            "[CV] C=1, gamma=0.9, kernel=rbf ......................................\n",
            "[CV] ....................... C=1, gamma=0.9, kernel=rbf, total=   0.0s\n",
            "[CV] C=1, gamma=0.9, kernel=rbf ......................................\n",
            "[CV] ....................... C=1, gamma=0.9, kernel=rbf, total=   0.0s\n",
            "[CV] C=1, gamma=0.9, kernel=rbf ......................................\n",
            "[CV] ....................... C=1, gamma=0.9, kernel=rbf, total=   0.0s\n",
            "[CV] C=1, gamma=0.9, kernel=rbf ......................................\n",
            "[CV] ....................... C=1, gamma=0.9, kernel=rbf, total=   0.0s\n",
            "[CV] C=1, gamma=0.9, kernel=rbf ......................................\n",
            "[CV] ....................... C=1, gamma=0.9, kernel=rbf, total=   0.0s\n",
            "[CV] C=1, gamma=0.9, kernel=rbf ......................................\n",
            "[CV] ....................... C=1, gamma=0.9, kernel=rbf, total=   0.0s\n",
            "[CV] C=1, gamma=0.9, kernel=rbf ......................................\n",
            "[CV] ....................... C=1, gamma=0.9, kernel=rbf, total=   0.0s\n",
            "[CV] C=1, gamma=0.9, kernel=rbf ......................................\n",
            "[CV] ....................... C=1, gamma=0.9, kernel=rbf, total=   0.0s\n",
            "[CV] C=1, gamma=1, kernel=linear .....................................\n",
            "[CV] ...................... C=1, gamma=1, kernel=linear, total=   0.0s\n",
            "[CV] C=1, gamma=1, kernel=linear .....................................\n",
            "[CV] ...................... C=1, gamma=1, kernel=linear, total=   0.0s\n",
            "[CV] C=1, gamma=1, kernel=linear .....................................\n",
            "[CV] ...................... C=1, gamma=1, kernel=linear, total=   0.0s\n",
            "[CV] C=1, gamma=1, kernel=linear .....................................\n",
            "[CV] ...................... C=1, gamma=1, kernel=linear, total=   0.0s\n",
            "[CV] C=1, gamma=1, kernel=linear .....................................\n",
            "[CV] ...................... C=1, gamma=1, kernel=linear, total=   0.0s\n",
            "[CV] C=1, gamma=1, kernel=linear .....................................\n",
            "[CV] ...................... C=1, gamma=1, kernel=linear, total=   0.0s\n",
            "[CV] C=1, gamma=1, kernel=linear .....................................\n",
            "[CV] ...................... C=1, gamma=1, kernel=linear, total=   0.0s\n",
            "[CV] C=1, gamma=1, kernel=linear .....................................\n",
            "[CV] ...................... C=1, gamma=1, kernel=linear, total=   0.0s\n",
            "[CV] C=1, gamma=1, kernel=linear .....................................\n",
            "[CV] ...................... C=1, gamma=1, kernel=linear, total=   0.0s\n",
            "[CV] C=1, gamma=1, kernel=linear .....................................\n",
            "[CV] ...................... C=1, gamma=1, kernel=linear, total=   0.0s\n",
            "[CV] C=1, gamma=1, kernel=rbf ........................................\n",
            "[CV] ......................... C=1, gamma=1, kernel=rbf, total=   0.0s\n",
            "[CV] C=1, gamma=1, kernel=rbf ........................................\n",
            "[CV] ......................... C=1, gamma=1, kernel=rbf, total=   0.0s\n",
            "[CV] C=1, gamma=1, kernel=rbf ........................................\n",
            "[CV] ......................... C=1, gamma=1, kernel=rbf, total=   0.0s\n",
            "[CV] C=1, gamma=1, kernel=rbf ........................................\n",
            "[CV] ......................... C=1, gamma=1, kernel=rbf, total=   0.0s\n",
            "[CV] C=1, gamma=1, kernel=rbf ........................................\n",
            "[CV] ......................... C=1, gamma=1, kernel=rbf, total=   0.0s\n",
            "[CV] C=1, gamma=1, kernel=rbf ........................................\n",
            "[CV] ......................... C=1, gamma=1, kernel=rbf, total=   0.0s\n",
            "[CV] C=1, gamma=1, kernel=rbf ........................................\n",
            "[CV] ......................... C=1, gamma=1, kernel=rbf, total=   0.0s\n",
            "[CV] C=1, gamma=1, kernel=rbf ........................................\n",
            "[CV] ......................... C=1, gamma=1, kernel=rbf, total=   0.0s\n",
            "[CV] C=1, gamma=1, kernel=rbf ........................................\n",
            "[CV] ......................... C=1, gamma=1, kernel=rbf, total=   0.0s\n",
            "[CV] C=1, gamma=1, kernel=rbf ........................................\n",
            "[CV] ......................... C=1, gamma=1, kernel=rbf, total=   0.0s\n",
            "[CV] C=1, gamma=1.1, kernel=linear ...................................\n",
            "[CV] .................... C=1, gamma=1.1, kernel=linear, total=   0.0s\n",
            "[CV] C=1, gamma=1.1, kernel=linear ...................................\n",
            "[CV] .................... C=1, gamma=1.1, kernel=linear, total=   0.0s\n",
            "[CV] C=1, gamma=1.1, kernel=linear ...................................\n",
            "[CV] .................... C=1, gamma=1.1, kernel=linear, total=   0.0s\n",
            "[CV] C=1, gamma=1.1, kernel=linear ...................................\n",
            "[CV] .................... C=1, gamma=1.1, kernel=linear, total=   0.0s\n",
            "[CV] C=1, gamma=1.1, kernel=linear ...................................\n",
            "[CV] .................... C=1, gamma=1.1, kernel=linear, total=   0.0s\n",
            "[CV] C=1, gamma=1.1, kernel=linear ...................................\n",
            "[CV] .................... C=1, gamma=1.1, kernel=linear, total=   0.0s\n",
            "[CV] C=1, gamma=1.1, kernel=linear ...................................\n",
            "[CV] .................... C=1, gamma=1.1, kernel=linear, total=   0.0s\n",
            "[CV] C=1, gamma=1.1, kernel=linear ...................................\n",
            "[CV] .................... C=1, gamma=1.1, kernel=linear, total=   0.0s\n",
            "[CV] C=1, gamma=1.1, kernel=linear ...................................\n",
            "[CV] .................... C=1, gamma=1.1, kernel=linear, total=   0.0s\n",
            "[CV] C=1, gamma=1.1, kernel=linear ...................................\n",
            "[CV] .................... C=1, gamma=1.1, kernel=linear, total=   0.0s\n",
            "[CV] C=1, gamma=1.1, kernel=rbf ......................................\n",
            "[CV] ....................... C=1, gamma=1.1, kernel=rbf, total=   0.0s\n",
            "[CV] C=1, gamma=1.1, kernel=rbf ......................................\n",
            "[CV] ....................... C=1, gamma=1.1, kernel=rbf, total=   0.0s\n",
            "[CV] C=1, gamma=1.1, kernel=rbf ......................................\n",
            "[CV] ....................... C=1, gamma=1.1, kernel=rbf, total=   0.0s\n",
            "[CV] C=1, gamma=1.1, kernel=rbf ......................................\n",
            "[CV] ....................... C=1, gamma=1.1, kernel=rbf, total=   0.0s\n",
            "[CV] C=1, gamma=1.1, kernel=rbf ......................................\n",
            "[CV] ....................... C=1, gamma=1.1, kernel=rbf, total=   0.0s\n",
            "[CV] C=1, gamma=1.1, kernel=rbf ......................................\n",
            "[CV] ....................... C=1, gamma=1.1, kernel=rbf, total=   0.0s\n",
            "[CV] C=1, gamma=1.1, kernel=rbf ......................................\n",
            "[CV] ....................... C=1, gamma=1.1, kernel=rbf, total=   0.0s\n",
            "[CV] C=1, gamma=1.1, kernel=rbf ......................................\n",
            "[CV] ....................... C=1, gamma=1.1, kernel=rbf, total=   0.0s\n",
            "[CV] C=1, gamma=1.1, kernel=rbf ......................................\n",
            "[CV] ....................... C=1, gamma=1.1, kernel=rbf, total=   0.0s\n",
            "[CV] C=1, gamma=1.1, kernel=rbf ......................................\n",
            "[CV] ....................... C=1, gamma=1.1, kernel=rbf, total=   0.0s\n",
            "[CV] C=1, gamma=1.2, kernel=linear ...................................\n",
            "[CV] .................... C=1, gamma=1.2, kernel=linear, total=   0.0s\n",
            "[CV] C=1, gamma=1.2, kernel=linear ...................................\n",
            "[CV] .................... C=1, gamma=1.2, kernel=linear, total=   0.0s\n",
            "[CV] C=1, gamma=1.2, kernel=linear ...................................\n",
            "[CV] .................... C=1, gamma=1.2, kernel=linear, total=   0.0s\n",
            "[CV] C=1, gamma=1.2, kernel=linear ...................................\n",
            "[CV] .................... C=1, gamma=1.2, kernel=linear, total=   0.0s\n",
            "[CV] C=1, gamma=1.2, kernel=linear ...................................\n",
            "[CV] .................... C=1, gamma=1.2, kernel=linear, total=   0.0s\n",
            "[CV] C=1, gamma=1.2, kernel=linear ...................................\n",
            "[CV] .................... C=1, gamma=1.2, kernel=linear, total=   0.0s\n",
            "[CV] C=1, gamma=1.2, kernel=linear ...................................\n",
            "[CV] .................... C=1, gamma=1.2, kernel=linear, total=   0.0s\n",
            "[CV] C=1, gamma=1.2, kernel=linear ...................................\n",
            "[CV] .................... C=1, gamma=1.2, kernel=linear, total=   0.0s\n",
            "[CV] C=1, gamma=1.2, kernel=linear ...................................\n",
            "[CV] .................... C=1, gamma=1.2, kernel=linear, total=   0.0s\n",
            "[CV] C=1, gamma=1.2, kernel=linear ...................................\n",
            "[CV] .................... C=1, gamma=1.2, kernel=linear, total=   0.0s\n",
            "[CV] C=1, gamma=1.2, kernel=rbf ......................................\n",
            "[CV] ....................... C=1, gamma=1.2, kernel=rbf, total=   0.0s\n",
            "[CV] C=1, gamma=1.2, kernel=rbf ......................................\n",
            "[CV] ....................... C=1, gamma=1.2, kernel=rbf, total=   0.0s\n",
            "[CV] C=1, gamma=1.2, kernel=rbf ......................................\n",
            "[CV] ....................... C=1, gamma=1.2, kernel=rbf, total=   0.0s\n",
            "[CV] C=1, gamma=1.2, kernel=rbf ......................................\n",
            "[CV] ....................... C=1, gamma=1.2, kernel=rbf, total=   0.0s\n",
            "[CV] C=1, gamma=1.2, kernel=rbf ......................................\n",
            "[CV] ....................... C=1, gamma=1.2, kernel=rbf, total=   0.0s\n",
            "[CV] C=1, gamma=1.2, kernel=rbf ......................................\n",
            "[CV] ....................... C=1, gamma=1.2, kernel=rbf, total=   0.0s\n",
            "[CV] C=1, gamma=1.2, kernel=rbf ......................................\n",
            "[CV] ....................... C=1, gamma=1.2, kernel=rbf, total=   0.0s\n",
            "[CV] C=1, gamma=1.2, kernel=rbf ......................................\n",
            "[CV] ....................... C=1, gamma=1.2, kernel=rbf, total=   0.0s\n",
            "[CV] C=1, gamma=1.2, kernel=rbf ......................................\n",
            "[CV] ....................... C=1, gamma=1.2, kernel=rbf, total=   0.0s\n",
            "[CV] C=1, gamma=1.2, kernel=rbf ......................................\n",
            "[CV] ....................... C=1, gamma=1.2, kernel=rbf, total=   0.0s\n",
            "[CV] C=1, gamma=1.3, kernel=linear ...................................\n",
            "[CV] .................... C=1, gamma=1.3, kernel=linear, total=   0.0s\n",
            "[CV] C=1, gamma=1.3, kernel=linear ...................................\n",
            "[CV] .................... C=1, gamma=1.3, kernel=linear, total=   0.0s\n",
            "[CV] C=1, gamma=1.3, kernel=linear ...................................\n",
            "[CV] .................... C=1, gamma=1.3, kernel=linear, total=   0.0s\n",
            "[CV] C=1, gamma=1.3, kernel=linear ...................................\n",
            "[CV] .................... C=1, gamma=1.3, kernel=linear, total=   0.0s\n",
            "[CV] C=1, gamma=1.3, kernel=linear ...................................\n",
            "[CV] .................... C=1, gamma=1.3, kernel=linear, total=   0.0s\n",
            "[CV] C=1, gamma=1.3, kernel=linear ...................................\n",
            "[CV] .................... C=1, gamma=1.3, kernel=linear, total=   0.0s\n",
            "[CV] C=1, gamma=1.3, kernel=linear ...................................\n",
            "[CV] .................... C=1, gamma=1.3, kernel=linear, total=   0.0s\n",
            "[CV] C=1, gamma=1.3, kernel=linear ...................................\n",
            "[CV] .................... C=1, gamma=1.3, kernel=linear, total=   0.0s\n",
            "[CV] C=1, gamma=1.3, kernel=linear ...................................\n",
            "[CV] .................... C=1, gamma=1.3, kernel=linear, total=   0.0s\n",
            "[CV] C=1, gamma=1.3, kernel=linear ...................................\n",
            "[CV] .................... C=1, gamma=1.3, kernel=linear, total=   0.0s\n",
            "[CV] C=1, gamma=1.3, kernel=rbf ......................................\n",
            "[CV] ....................... C=1, gamma=1.3, kernel=rbf, total=   0.0s\n",
            "[CV] C=1, gamma=1.3, kernel=rbf ......................................\n",
            "[CV] ....................... C=1, gamma=1.3, kernel=rbf, total=   0.0s\n",
            "[CV] C=1, gamma=1.3, kernel=rbf ......................................\n",
            "[CV] ....................... C=1, gamma=1.3, kernel=rbf, total=   0.0s\n",
            "[CV] C=1, gamma=1.3, kernel=rbf ......................................\n",
            "[CV] ....................... C=1, gamma=1.3, kernel=rbf, total=   0.0s\n",
            "[CV] C=1, gamma=1.3, kernel=rbf ......................................\n",
            "[CV] ....................... C=1, gamma=1.3, kernel=rbf, total=   0.0s\n",
            "[CV] C=1, gamma=1.3, kernel=rbf ......................................\n",
            "[CV] ....................... C=1, gamma=1.3, kernel=rbf, total=   0.0s\n",
            "[CV] C=1, gamma=1.3, kernel=rbf ......................................\n",
            "[CV] ....................... C=1, gamma=1.3, kernel=rbf, total=   0.0s\n",
            "[CV] C=1, gamma=1.3, kernel=rbf ......................................\n",
            "[CV] ....................... C=1, gamma=1.3, kernel=rbf, total=   0.0s\n",
            "[CV] C=1, gamma=1.3, kernel=rbf ......................................\n",
            "[CV] ....................... C=1, gamma=1.3, kernel=rbf, total=   0.0s\n",
            "[CV] C=1, gamma=1.3, kernel=rbf ......................................\n",
            "[CV] ....................... C=1, gamma=1.3, kernel=rbf, total=   0.0s\n",
            "[CV] C=1, gamma=1.4, kernel=linear ...................................\n",
            "[CV] .................... C=1, gamma=1.4, kernel=linear, total=   0.0s\n",
            "[CV] C=1, gamma=1.4, kernel=linear ...................................\n",
            "[CV] .................... C=1, gamma=1.4, kernel=linear, total=   0.0s\n",
            "[CV] C=1, gamma=1.4, kernel=linear ...................................\n",
            "[CV] .................... C=1, gamma=1.4, kernel=linear, total=   0.0s\n",
            "[CV] C=1, gamma=1.4, kernel=linear ...................................\n",
            "[CV] .................... C=1, gamma=1.4, kernel=linear, total=   0.0s\n",
            "[CV] C=1, gamma=1.4, kernel=linear ...................................\n",
            "[CV] .................... C=1, gamma=1.4, kernel=linear, total=   0.0s\n",
            "[CV] C=1, gamma=1.4, kernel=linear ...................................\n",
            "[CV] .................... C=1, gamma=1.4, kernel=linear, total=   0.0s\n",
            "[CV] C=1, gamma=1.4, kernel=linear ...................................\n",
            "[CV] .................... C=1, gamma=1.4, kernel=linear, total=   0.0s\n",
            "[CV] C=1, gamma=1.4, kernel=linear ...................................\n",
            "[CV] .................... C=1, gamma=1.4, kernel=linear, total=   0.0s\n",
            "[CV] C=1, gamma=1.4, kernel=linear ...................................\n",
            "[CV] .................... C=1, gamma=1.4, kernel=linear, total=   0.0s\n",
            "[CV] C=1, gamma=1.4, kernel=linear ...................................\n",
            "[CV] .................... C=1, gamma=1.4, kernel=linear, total=   0.0s\n",
            "[CV] C=1, gamma=1.4, kernel=rbf ......................................\n",
            "[CV] ....................... C=1, gamma=1.4, kernel=rbf, total=   0.0s\n",
            "[CV] C=1, gamma=1.4, kernel=rbf ......................................\n",
            "[CV] ....................... C=1, gamma=1.4, kernel=rbf, total=   0.0s\n",
            "[CV] C=1, gamma=1.4, kernel=rbf ......................................\n",
            "[CV] ....................... C=1, gamma=1.4, kernel=rbf, total=   0.0s\n",
            "[CV] C=1, gamma=1.4, kernel=rbf ......................................\n",
            "[CV] ....................... C=1, gamma=1.4, kernel=rbf, total=   0.0s\n",
            "[CV] C=1, gamma=1.4, kernel=rbf ......................................\n",
            "[CV] ....................... C=1, gamma=1.4, kernel=rbf, total=   0.0s\n",
            "[CV] C=1, gamma=1.4, kernel=rbf ......................................\n",
            "[CV] ....................... C=1, gamma=1.4, kernel=rbf, total=   0.0s\n",
            "[CV] C=1, gamma=1.4, kernel=rbf ......................................\n",
            "[CV] ....................... C=1, gamma=1.4, kernel=rbf, total=   0.0s\n",
            "[CV] C=1, gamma=1.4, kernel=rbf ......................................\n",
            "[CV] ....................... C=1, gamma=1.4, kernel=rbf, total=   0.0s\n",
            "[CV] C=1, gamma=1.4, kernel=rbf ......................................\n",
            "[CV] ....................... C=1, gamma=1.4, kernel=rbf, total=   0.0s\n",
            "[CV] C=1, gamma=1.4, kernel=rbf ......................................\n",
            "[CV] ....................... C=1, gamma=1.4, kernel=rbf, total=   0.0s\n",
            "[CV] C=1.1, gamma=0.1, kernel=linear .................................\n",
            "[CV] .................. C=1.1, gamma=0.1, kernel=linear, total=   0.0s\n",
            "[CV] C=1.1, gamma=0.1, kernel=linear .................................\n",
            "[CV] .................. C=1.1, gamma=0.1, kernel=linear, total=   0.0s\n",
            "[CV] C=1.1, gamma=0.1, kernel=linear .................................\n",
            "[CV] .................. C=1.1, gamma=0.1, kernel=linear, total=   0.0s\n",
            "[CV] C=1.1, gamma=0.1, kernel=linear .................................\n",
            "[CV] .................. C=1.1, gamma=0.1, kernel=linear, total=   0.0s\n",
            "[CV] C=1.1, gamma=0.1, kernel=linear .................................\n",
            "[CV] .................. C=1.1, gamma=0.1, kernel=linear, total=   0.0s\n",
            "[CV] C=1.1, gamma=0.1, kernel=linear .................................\n",
            "[CV] .................. C=1.1, gamma=0.1, kernel=linear, total=   0.0s\n",
            "[CV] C=1.1, gamma=0.1, kernel=linear .................................\n",
            "[CV] .................. C=1.1, gamma=0.1, kernel=linear, total=   0.0s\n",
            "[CV] C=1.1, gamma=0.1, kernel=linear .................................\n",
            "[CV] .................. C=1.1, gamma=0.1, kernel=linear, total=   0.0s\n",
            "[CV] C=1.1, gamma=0.1, kernel=linear .................................\n",
            "[CV] .................. C=1.1, gamma=0.1, kernel=linear, total=   0.0s\n",
            "[CV] C=1.1, gamma=0.1, kernel=linear .................................\n",
            "[CV] .................. C=1.1, gamma=0.1, kernel=linear, total=   0.0s\n",
            "[CV] C=1.1, gamma=0.1, kernel=rbf ....................................\n",
            "[CV] ..................... C=1.1, gamma=0.1, kernel=rbf, total=   0.0s\n",
            "[CV] C=1.1, gamma=0.1, kernel=rbf ....................................\n",
            "[CV] ..................... C=1.1, gamma=0.1, kernel=rbf, total=   0.0s\n",
            "[CV] C=1.1, gamma=0.1, kernel=rbf ....................................\n",
            "[CV] ..................... C=1.1, gamma=0.1, kernel=rbf, total=   0.0s\n",
            "[CV] C=1.1, gamma=0.1, kernel=rbf ....................................\n",
            "[CV] ..................... C=1.1, gamma=0.1, kernel=rbf, total=   0.0s\n",
            "[CV] C=1.1, gamma=0.1, kernel=rbf ....................................\n",
            "[CV] ..................... C=1.1, gamma=0.1, kernel=rbf, total=   0.0s\n",
            "[CV] C=1.1, gamma=0.1, kernel=rbf ....................................\n",
            "[CV] ..................... C=1.1, gamma=0.1, kernel=rbf, total=   0.0s\n",
            "[CV] C=1.1, gamma=0.1, kernel=rbf ....................................\n",
            "[CV] ..................... C=1.1, gamma=0.1, kernel=rbf, total=   0.0s\n",
            "[CV] C=1.1, gamma=0.1, kernel=rbf ....................................\n",
            "[CV] ..................... C=1.1, gamma=0.1, kernel=rbf, total=   0.0s\n",
            "[CV] C=1.1, gamma=0.1, kernel=rbf ....................................\n",
            "[CV] ..................... C=1.1, gamma=0.1, kernel=rbf, total=   0.0s\n",
            "[CV] C=1.1, gamma=0.1, kernel=rbf ....................................\n",
            "[CV] ..................... C=1.1, gamma=0.1, kernel=rbf, total=   0.0s\n",
            "[CV] C=1.1, gamma=0.8, kernel=linear .................................\n",
            "[CV] .................. C=1.1, gamma=0.8, kernel=linear, total=   0.0s\n",
            "[CV] C=1.1, gamma=0.8, kernel=linear .................................\n",
            "[CV] .................. C=1.1, gamma=0.8, kernel=linear, total=   0.0s\n",
            "[CV] C=1.1, gamma=0.8, kernel=linear .................................\n",
            "[CV] .................. C=1.1, gamma=0.8, kernel=linear, total=   0.0s\n",
            "[CV] C=1.1, gamma=0.8, kernel=linear .................................\n",
            "[CV] .................. C=1.1, gamma=0.8, kernel=linear, total=   0.0s\n",
            "[CV] C=1.1, gamma=0.8, kernel=linear .................................\n",
            "[CV] .................. C=1.1, gamma=0.8, kernel=linear, total=   0.0s\n",
            "[CV] C=1.1, gamma=0.8, kernel=linear .................................\n",
            "[CV] .................. C=1.1, gamma=0.8, kernel=linear, total=   0.0s\n",
            "[CV] C=1.1, gamma=0.8, kernel=linear .................................\n",
            "[CV] .................. C=1.1, gamma=0.8, kernel=linear, total=   0.0s\n",
            "[CV] C=1.1, gamma=0.8, kernel=linear .................................\n",
            "[CV] .................. C=1.1, gamma=0.8, kernel=linear, total=   0.0s\n",
            "[CV] C=1.1, gamma=0.8, kernel=linear .................................\n",
            "[CV] .................. C=1.1, gamma=0.8, kernel=linear, total=   0.0s\n",
            "[CV] C=1.1, gamma=0.8, kernel=linear .................................\n",
            "[CV] .................. C=1.1, gamma=0.8, kernel=linear, total=   0.0s\n",
            "[CV] C=1.1, gamma=0.8, kernel=rbf ....................................\n",
            "[CV] ..................... C=1.1, gamma=0.8, kernel=rbf, total=   0.0s\n",
            "[CV] C=1.1, gamma=0.8, kernel=rbf ....................................\n",
            "[CV] ..................... C=1.1, gamma=0.8, kernel=rbf, total=   0.0s\n",
            "[CV] C=1.1, gamma=0.8, kernel=rbf ....................................\n",
            "[CV] ..................... C=1.1, gamma=0.8, kernel=rbf, total=   0.0s\n",
            "[CV] C=1.1, gamma=0.8, kernel=rbf ....................................\n",
            "[CV] ..................... C=1.1, gamma=0.8, kernel=rbf, total=   0.0s\n",
            "[CV] C=1.1, gamma=0.8, kernel=rbf ....................................\n",
            "[CV] ..................... C=1.1, gamma=0.8, kernel=rbf, total=   0.0s\n",
            "[CV] C=1.1, gamma=0.8, kernel=rbf ....................................\n",
            "[CV] ..................... C=1.1, gamma=0.8, kernel=rbf, total=   0.0s\n",
            "[CV] C=1.1, gamma=0.8, kernel=rbf ....................................\n",
            "[CV] ..................... C=1.1, gamma=0.8, kernel=rbf, total=   0.0s\n",
            "[CV] C=1.1, gamma=0.8, kernel=rbf ....................................\n",
            "[CV] ..................... C=1.1, gamma=0.8, kernel=rbf, total=   0.0s\n",
            "[CV] C=1.1, gamma=0.8, kernel=rbf ....................................\n",
            "[CV] ..................... C=1.1, gamma=0.8, kernel=rbf, total=   0.0s\n",
            "[CV] C=1.1, gamma=0.8, kernel=rbf ....................................\n",
            "[CV] ..................... C=1.1, gamma=0.8, kernel=rbf, total=   0.0s\n",
            "[CV] C=1.1, gamma=0.9, kernel=linear .................................\n",
            "[CV] .................. C=1.1, gamma=0.9, kernel=linear, total=   0.0s\n",
            "[CV] C=1.1, gamma=0.9, kernel=linear .................................\n",
            "[CV] .................. C=1.1, gamma=0.9, kernel=linear, total=   0.0s\n",
            "[CV] C=1.1, gamma=0.9, kernel=linear .................................\n",
            "[CV] .................. C=1.1, gamma=0.9, kernel=linear, total=   0.0s\n",
            "[CV] C=1.1, gamma=0.9, kernel=linear .................................\n",
            "[CV] .................. C=1.1, gamma=0.9, kernel=linear, total=   0.0s\n",
            "[CV] C=1.1, gamma=0.9, kernel=linear .................................\n",
            "[CV] .................. C=1.1, gamma=0.9, kernel=linear, total=   0.0s\n",
            "[CV] C=1.1, gamma=0.9, kernel=linear .................................\n",
            "[CV] .................. C=1.1, gamma=0.9, kernel=linear, total=   0.0s\n",
            "[CV] C=1.1, gamma=0.9, kernel=linear .................................\n",
            "[CV] .................. C=1.1, gamma=0.9, kernel=linear, total=   0.0s\n",
            "[CV] C=1.1, gamma=0.9, kernel=linear .................................\n",
            "[CV] .................. C=1.1, gamma=0.9, kernel=linear, total=   0.0s\n",
            "[CV] C=1.1, gamma=0.9, kernel=linear .................................\n",
            "[CV] .................. C=1.1, gamma=0.9, kernel=linear, total=   0.0s\n",
            "[CV] C=1.1, gamma=0.9, kernel=linear .................................\n",
            "[CV] .................. C=1.1, gamma=0.9, kernel=linear, total=   0.0s\n",
            "[CV] C=1.1, gamma=0.9, kernel=rbf ....................................\n",
            "[CV] ..................... C=1.1, gamma=0.9, kernel=rbf, total=   0.0s\n",
            "[CV] C=1.1, gamma=0.9, kernel=rbf ....................................\n",
            "[CV] ..................... C=1.1, gamma=0.9, kernel=rbf, total=   0.0s\n",
            "[CV] C=1.1, gamma=0.9, kernel=rbf ....................................\n",
            "[CV] ..................... C=1.1, gamma=0.9, kernel=rbf, total=   0.0s\n",
            "[CV] C=1.1, gamma=0.9, kernel=rbf ....................................\n",
            "[CV] ..................... C=1.1, gamma=0.9, kernel=rbf, total=   0.0s\n",
            "[CV] C=1.1, gamma=0.9, kernel=rbf ....................................\n",
            "[CV] ..................... C=1.1, gamma=0.9, kernel=rbf, total=   0.0s\n",
            "[CV] C=1.1, gamma=0.9, kernel=rbf ....................................\n",
            "[CV] ..................... C=1.1, gamma=0.9, kernel=rbf, total=   0.0s\n",
            "[CV] C=1.1, gamma=0.9, kernel=rbf ....................................\n",
            "[CV] ..................... C=1.1, gamma=0.9, kernel=rbf, total=   0.0s\n",
            "[CV] C=1.1, gamma=0.9, kernel=rbf ....................................\n",
            "[CV] ..................... C=1.1, gamma=0.9, kernel=rbf, total=   0.0s\n",
            "[CV] C=1.1, gamma=0.9, kernel=rbf ....................................\n",
            "[CV] ..................... C=1.1, gamma=0.9, kernel=rbf, total=   0.0s\n",
            "[CV] C=1.1, gamma=0.9, kernel=rbf ....................................\n",
            "[CV] ..................... C=1.1, gamma=0.9, kernel=rbf, total=   0.0s\n",
            "[CV] C=1.1, gamma=1, kernel=linear ...................................\n",
            "[CV] .................... C=1.1, gamma=1, kernel=linear, total=   0.0s\n",
            "[CV] C=1.1, gamma=1, kernel=linear ...................................\n",
            "[CV] .................... C=1.1, gamma=1, kernel=linear, total=   0.0s\n",
            "[CV] C=1.1, gamma=1, kernel=linear ...................................\n",
            "[CV] .................... C=1.1, gamma=1, kernel=linear, total=   0.0s\n",
            "[CV] C=1.1, gamma=1, kernel=linear ...................................\n",
            "[CV] .................... C=1.1, gamma=1, kernel=linear, total=   0.0s\n",
            "[CV] C=1.1, gamma=1, kernel=linear ...................................\n",
            "[CV] .................... C=1.1, gamma=1, kernel=linear, total=   0.0s\n",
            "[CV] C=1.1, gamma=1, kernel=linear ...................................\n",
            "[CV] .................... C=1.1, gamma=1, kernel=linear, total=   0.0s\n",
            "[CV] C=1.1, gamma=1, kernel=linear ...................................\n",
            "[CV] .................... C=1.1, gamma=1, kernel=linear, total=   0.0s\n",
            "[CV] C=1.1, gamma=1, kernel=linear ...................................\n",
            "[CV] .................... C=1.1, gamma=1, kernel=linear, total=   0.0s\n",
            "[CV] C=1.1, gamma=1, kernel=linear ...................................\n",
            "[CV] .................... C=1.1, gamma=1, kernel=linear, total=   0.0s\n",
            "[CV] C=1.1, gamma=1, kernel=linear ...................................\n",
            "[CV] .................... C=1.1, gamma=1, kernel=linear, total=   0.0s\n",
            "[CV] C=1.1, gamma=1, kernel=rbf ......................................\n",
            "[CV] ....................... C=1.1, gamma=1, kernel=rbf, total=   0.0s\n",
            "[CV] C=1.1, gamma=1, kernel=rbf ......................................\n",
            "[CV] ....................... C=1.1, gamma=1, kernel=rbf, total=   0.0s\n",
            "[CV] C=1.1, gamma=1, kernel=rbf ......................................\n",
            "[CV] ....................... C=1.1, gamma=1, kernel=rbf, total=   0.0s\n",
            "[CV] C=1.1, gamma=1, kernel=rbf ......................................\n",
            "[CV] ....................... C=1.1, gamma=1, kernel=rbf, total=   0.0s\n",
            "[CV] C=1.1, gamma=1, kernel=rbf ......................................\n",
            "[CV] ....................... C=1.1, gamma=1, kernel=rbf, total=   0.0s\n",
            "[CV] C=1.1, gamma=1, kernel=rbf ......................................\n",
            "[CV] ....................... C=1.1, gamma=1, kernel=rbf, total=   0.0s\n",
            "[CV] C=1.1, gamma=1, kernel=rbf ......................................\n",
            "[CV] ....................... C=1.1, gamma=1, kernel=rbf, total=   0.0s\n",
            "[CV] C=1.1, gamma=1, kernel=rbf ......................................\n",
            "[CV] ....................... C=1.1, gamma=1, kernel=rbf, total=   0.0s\n",
            "[CV] C=1.1, gamma=1, kernel=rbf ......................................\n",
            "[CV] ....................... C=1.1, gamma=1, kernel=rbf, total=   0.0s\n",
            "[CV] C=1.1, gamma=1, kernel=rbf ......................................\n",
            "[CV] ....................... C=1.1, gamma=1, kernel=rbf, total=   0.0s\n",
            "[CV] C=1.1, gamma=1.1, kernel=linear .................................\n",
            "[CV] .................. C=1.1, gamma=1.1, kernel=linear, total=   0.0s\n",
            "[CV] C=1.1, gamma=1.1, kernel=linear .................................\n",
            "[CV] .................. C=1.1, gamma=1.1, kernel=linear, total=   0.0s\n",
            "[CV] C=1.1, gamma=1.1, kernel=linear .................................\n",
            "[CV] .................. C=1.1, gamma=1.1, kernel=linear, total=   0.0s\n",
            "[CV] C=1.1, gamma=1.1, kernel=linear .................................\n",
            "[CV] .................. C=1.1, gamma=1.1, kernel=linear, total=   0.0s\n",
            "[CV] C=1.1, gamma=1.1, kernel=linear .................................\n",
            "[CV] .................. C=1.1, gamma=1.1, kernel=linear, total=   0.0s\n",
            "[CV] C=1.1, gamma=1.1, kernel=linear .................................\n",
            "[CV] .................. C=1.1, gamma=1.1, kernel=linear, total=   0.0s\n",
            "[CV] C=1.1, gamma=1.1, kernel=linear .................................\n",
            "[CV] .................. C=1.1, gamma=1.1, kernel=linear, total=   0.0s\n",
            "[CV] C=1.1, gamma=1.1, kernel=linear .................................\n",
            "[CV] .................. C=1.1, gamma=1.1, kernel=linear, total=   0.0s\n",
            "[CV] C=1.1, gamma=1.1, kernel=linear .................................\n",
            "[CV] .................. C=1.1, gamma=1.1, kernel=linear, total=   0.0s\n",
            "[CV] C=1.1, gamma=1.1, kernel=linear .................................\n",
            "[CV] .................. C=1.1, gamma=1.1, kernel=linear, total=   0.0s\n",
            "[CV] C=1.1, gamma=1.1, kernel=rbf ....................................\n",
            "[CV] ..................... C=1.1, gamma=1.1, kernel=rbf, total=   0.0s\n",
            "[CV] C=1.1, gamma=1.1, kernel=rbf ....................................\n",
            "[CV] ..................... C=1.1, gamma=1.1, kernel=rbf, total=   0.0s\n",
            "[CV] C=1.1, gamma=1.1, kernel=rbf ....................................\n",
            "[CV] ..................... C=1.1, gamma=1.1, kernel=rbf, total=   0.0s\n",
            "[CV] C=1.1, gamma=1.1, kernel=rbf ....................................\n",
            "[CV] ..................... C=1.1, gamma=1.1, kernel=rbf, total=   0.0s\n",
            "[CV] C=1.1, gamma=1.1, kernel=rbf ....................................\n",
            "[CV] ..................... C=1.1, gamma=1.1, kernel=rbf, total=   0.0s\n",
            "[CV] C=1.1, gamma=1.1, kernel=rbf ....................................\n",
            "[CV] ..................... C=1.1, gamma=1.1, kernel=rbf, total=   0.0s\n",
            "[CV] C=1.1, gamma=1.1, kernel=rbf ....................................\n",
            "[CV] ..................... C=1.1, gamma=1.1, kernel=rbf, total=   0.0s\n",
            "[CV] C=1.1, gamma=1.1, kernel=rbf ....................................\n",
            "[CV] ..................... C=1.1, gamma=1.1, kernel=rbf, total=   0.0s\n",
            "[CV] C=1.1, gamma=1.1, kernel=rbf ....................................\n",
            "[CV] ..................... C=1.1, gamma=1.1, kernel=rbf, total=   0.0s\n",
            "[CV] C=1.1, gamma=1.1, kernel=rbf ....................................\n",
            "[CV] ..................... C=1.1, gamma=1.1, kernel=rbf, total=   0.0s\n",
            "[CV] C=1.1, gamma=1.2, kernel=linear .................................\n",
            "[CV] .................. C=1.1, gamma=1.2, kernel=linear, total=   0.0s\n",
            "[CV] C=1.1, gamma=1.2, kernel=linear .................................\n",
            "[CV] .................. C=1.1, gamma=1.2, kernel=linear, total=   0.0s\n",
            "[CV] C=1.1, gamma=1.2, kernel=linear .................................\n",
            "[CV] .................. C=1.1, gamma=1.2, kernel=linear, total=   0.0s\n",
            "[CV] C=1.1, gamma=1.2, kernel=linear .................................\n",
            "[CV] .................. C=1.1, gamma=1.2, kernel=linear, total=   0.0s\n",
            "[CV] C=1.1, gamma=1.2, kernel=linear .................................\n",
            "[CV] .................. C=1.1, gamma=1.2, kernel=linear, total=   0.0s\n",
            "[CV] C=1.1, gamma=1.2, kernel=linear .................................\n",
            "[CV] .................. C=1.1, gamma=1.2, kernel=linear, total=   0.0s\n",
            "[CV] C=1.1, gamma=1.2, kernel=linear .................................\n",
            "[CV] .................. C=1.1, gamma=1.2, kernel=linear, total=   0.0s\n",
            "[CV] C=1.1, gamma=1.2, kernel=linear .................................\n",
            "[CV] .................. C=1.1, gamma=1.2, kernel=linear, total=   0.0s\n",
            "[CV] C=1.1, gamma=1.2, kernel=linear .................................\n",
            "[CV] .................. C=1.1, gamma=1.2, kernel=linear, total=   0.0s\n",
            "[CV] C=1.1, gamma=1.2, kernel=linear .................................\n",
            "[CV] .................. C=1.1, gamma=1.2, kernel=linear, total=   0.0s\n",
            "[CV] C=1.1, gamma=1.2, kernel=rbf ....................................\n",
            "[CV] ..................... C=1.1, gamma=1.2, kernel=rbf, total=   0.0s\n",
            "[CV] C=1.1, gamma=1.2, kernel=rbf ....................................\n",
            "[CV] ..................... C=1.1, gamma=1.2, kernel=rbf, total=   0.0s\n",
            "[CV] C=1.1, gamma=1.2, kernel=rbf ....................................\n",
            "[CV] ..................... C=1.1, gamma=1.2, kernel=rbf, total=   0.0s\n",
            "[CV] C=1.1, gamma=1.2, kernel=rbf ....................................\n",
            "[CV] ..................... C=1.1, gamma=1.2, kernel=rbf, total=   0.0s\n",
            "[CV] C=1.1, gamma=1.2, kernel=rbf ....................................\n",
            "[CV] ..................... C=1.1, gamma=1.2, kernel=rbf, total=   0.0s\n",
            "[CV] C=1.1, gamma=1.2, kernel=rbf ....................................\n",
            "[CV] ..................... C=1.1, gamma=1.2, kernel=rbf, total=   0.0s\n",
            "[CV] C=1.1, gamma=1.2, kernel=rbf ....................................\n",
            "[CV] ..................... C=1.1, gamma=1.2, kernel=rbf, total=   0.0s\n",
            "[CV] C=1.1, gamma=1.2, kernel=rbf ....................................\n",
            "[CV] ..................... C=1.1, gamma=1.2, kernel=rbf, total=   0.0s\n",
            "[CV] C=1.1, gamma=1.2, kernel=rbf ....................................\n",
            "[CV] ..................... C=1.1, gamma=1.2, kernel=rbf, total=   0.0s\n",
            "[CV] C=1.1, gamma=1.2, kernel=rbf ....................................\n",
            "[CV] ..................... C=1.1, gamma=1.2, kernel=rbf, total=   0.0s\n",
            "[CV] C=1.1, gamma=1.3, kernel=linear .................................\n",
            "[CV] .................. C=1.1, gamma=1.3, kernel=linear, total=   0.0s\n",
            "[CV] C=1.1, gamma=1.3, kernel=linear .................................\n",
            "[CV] .................. C=1.1, gamma=1.3, kernel=linear, total=   0.0s\n",
            "[CV] C=1.1, gamma=1.3, kernel=linear .................................\n",
            "[CV] .................. C=1.1, gamma=1.3, kernel=linear, total=   0.0s\n",
            "[CV] C=1.1, gamma=1.3, kernel=linear .................................\n",
            "[CV] .................. C=1.1, gamma=1.3, kernel=linear, total=   0.0s\n",
            "[CV] C=1.1, gamma=1.3, kernel=linear .................................\n",
            "[CV] .................. C=1.1, gamma=1.3, kernel=linear, total=   0.0s\n",
            "[CV] C=1.1, gamma=1.3, kernel=linear .................................\n",
            "[CV] .................. C=1.1, gamma=1.3, kernel=linear, total=   0.0s\n",
            "[CV] C=1.1, gamma=1.3, kernel=linear .................................\n",
            "[CV] .................. C=1.1, gamma=1.3, kernel=linear, total=   0.0s\n",
            "[CV] C=1.1, gamma=1.3, kernel=linear .................................\n",
            "[CV] .................. C=1.1, gamma=1.3, kernel=linear, total=   0.0s\n",
            "[CV] C=1.1, gamma=1.3, kernel=linear .................................\n",
            "[CV] .................. C=1.1, gamma=1.3, kernel=linear, total=   0.0s\n",
            "[CV] C=1.1, gamma=1.3, kernel=linear .................................\n",
            "[CV] .................. C=1.1, gamma=1.3, kernel=linear, total=   0.0s\n",
            "[CV] C=1.1, gamma=1.3, kernel=rbf ....................................\n",
            "[CV] ..................... C=1.1, gamma=1.3, kernel=rbf, total=   0.0s\n",
            "[CV] C=1.1, gamma=1.3, kernel=rbf ....................................\n",
            "[CV] ..................... C=1.1, gamma=1.3, kernel=rbf, total=   0.0s\n",
            "[CV] C=1.1, gamma=1.3, kernel=rbf ....................................\n",
            "[CV] ..................... C=1.1, gamma=1.3, kernel=rbf, total=   0.0s\n",
            "[CV] C=1.1, gamma=1.3, kernel=rbf ....................................\n",
            "[CV] ..................... C=1.1, gamma=1.3, kernel=rbf, total=   0.0s\n",
            "[CV] C=1.1, gamma=1.3, kernel=rbf ....................................\n",
            "[CV] ..................... C=1.1, gamma=1.3, kernel=rbf, total=   0.0s\n",
            "[CV] C=1.1, gamma=1.3, kernel=rbf ....................................\n",
            "[CV] ..................... C=1.1, gamma=1.3, kernel=rbf, total=   0.0s\n",
            "[CV] C=1.1, gamma=1.3, kernel=rbf ....................................\n",
            "[CV] ..................... C=1.1, gamma=1.3, kernel=rbf, total=   0.0s\n",
            "[CV] C=1.1, gamma=1.3, kernel=rbf ....................................\n",
            "[CV] ..................... C=1.1, gamma=1.3, kernel=rbf, total=   0.0s\n",
            "[CV] C=1.1, gamma=1.3, kernel=rbf ....................................\n",
            "[CV] ..................... C=1.1, gamma=1.3, kernel=rbf, total=   0.0s\n",
            "[CV] C=1.1, gamma=1.3, kernel=rbf ....................................\n",
            "[CV] ..................... C=1.1, gamma=1.3, kernel=rbf, total=   0.0s\n",
            "[CV] C=1.1, gamma=1.4, kernel=linear .................................\n",
            "[CV] .................. C=1.1, gamma=1.4, kernel=linear, total=   0.0s\n",
            "[CV] C=1.1, gamma=1.4, kernel=linear .................................\n",
            "[CV] .................. C=1.1, gamma=1.4, kernel=linear, total=   0.0s\n",
            "[CV] C=1.1, gamma=1.4, kernel=linear .................................\n",
            "[CV] .................. C=1.1, gamma=1.4, kernel=linear, total=   0.0s\n",
            "[CV] C=1.1, gamma=1.4, kernel=linear .................................\n",
            "[CV] .................. C=1.1, gamma=1.4, kernel=linear, total=   0.0s\n",
            "[CV] C=1.1, gamma=1.4, kernel=linear .................................\n",
            "[CV] .................. C=1.1, gamma=1.4, kernel=linear, total=   0.0s\n",
            "[CV] C=1.1, gamma=1.4, kernel=linear .................................\n",
            "[CV] .................. C=1.1, gamma=1.4, kernel=linear, total=   0.0s\n",
            "[CV] C=1.1, gamma=1.4, kernel=linear .................................\n",
            "[CV] .................. C=1.1, gamma=1.4, kernel=linear, total=   0.0s\n",
            "[CV] C=1.1, gamma=1.4, kernel=linear .................................\n",
            "[CV] .................. C=1.1, gamma=1.4, kernel=linear, total=   0.0s\n",
            "[CV] C=1.1, gamma=1.4, kernel=linear .................................\n",
            "[CV] .................. C=1.1, gamma=1.4, kernel=linear, total=   0.0s\n",
            "[CV] C=1.1, gamma=1.4, kernel=linear .................................\n",
            "[CV] .................. C=1.1, gamma=1.4, kernel=linear, total=   0.0s\n",
            "[CV] C=1.1, gamma=1.4, kernel=rbf ....................................\n",
            "[CV] ..................... C=1.1, gamma=1.4, kernel=rbf, total=   0.0s\n",
            "[CV] C=1.1, gamma=1.4, kernel=rbf ....................................\n",
            "[CV] ..................... C=1.1, gamma=1.4, kernel=rbf, total=   0.0s\n",
            "[CV] C=1.1, gamma=1.4, kernel=rbf ....................................\n",
            "[CV] ..................... C=1.1, gamma=1.4, kernel=rbf, total=   0.0s\n",
            "[CV] C=1.1, gamma=1.4, kernel=rbf ....................................\n",
            "[CV] ..................... C=1.1, gamma=1.4, kernel=rbf, total=   0.0s\n",
            "[CV] C=1.1, gamma=1.4, kernel=rbf ....................................\n",
            "[CV] ..................... C=1.1, gamma=1.4, kernel=rbf, total=   0.0s\n",
            "[CV] C=1.1, gamma=1.4, kernel=rbf ....................................\n",
            "[CV] ..................... C=1.1, gamma=1.4, kernel=rbf, total=   0.0s\n",
            "[CV] C=1.1, gamma=1.4, kernel=rbf ....................................\n",
            "[CV] ..................... C=1.1, gamma=1.4, kernel=rbf, total=   0.0s\n",
            "[CV] C=1.1, gamma=1.4, kernel=rbf ....................................\n",
            "[CV] ..................... C=1.1, gamma=1.4, kernel=rbf, total=   0.0s\n",
            "[CV] C=1.1, gamma=1.4, kernel=rbf ....................................\n",
            "[CV] ..................... C=1.1, gamma=1.4, kernel=rbf, total=   0.0s\n",
            "[CV] C=1.1, gamma=1.4, kernel=rbf ....................................\n",
            "[CV] ..................... C=1.1, gamma=1.4, kernel=rbf, total=   0.0s\n",
            "[CV] C=1.2, gamma=0.1, kernel=linear .................................\n",
            "[CV] .................. C=1.2, gamma=0.1, kernel=linear, total=   0.0s\n",
            "[CV] C=1.2, gamma=0.1, kernel=linear .................................\n",
            "[CV] .................. C=1.2, gamma=0.1, kernel=linear, total=   0.0s\n",
            "[CV] C=1.2, gamma=0.1, kernel=linear .................................\n",
            "[CV] .................. C=1.2, gamma=0.1, kernel=linear, total=   0.0s\n",
            "[CV] C=1.2, gamma=0.1, kernel=linear .................................\n",
            "[CV] .................. C=1.2, gamma=0.1, kernel=linear, total=   0.0s\n",
            "[CV] C=1.2, gamma=0.1, kernel=linear .................................\n",
            "[CV] .................. C=1.2, gamma=0.1, kernel=linear, total=   0.0s\n",
            "[CV] C=1.2, gamma=0.1, kernel=linear .................................\n",
            "[CV] .................. C=1.2, gamma=0.1, kernel=linear, total=   0.0s\n",
            "[CV] C=1.2, gamma=0.1, kernel=linear .................................\n",
            "[CV] .................. C=1.2, gamma=0.1, kernel=linear, total=   0.0s\n",
            "[CV] C=1.2, gamma=0.1, kernel=linear .................................\n",
            "[CV] .................. C=1.2, gamma=0.1, kernel=linear, total=   0.0s\n",
            "[CV] C=1.2, gamma=0.1, kernel=linear .................................\n",
            "[CV] .................. C=1.2, gamma=0.1, kernel=linear, total=   0.0s\n",
            "[CV] C=1.2, gamma=0.1, kernel=linear .................................\n",
            "[CV] .................. C=1.2, gamma=0.1, kernel=linear, total=   0.0s\n",
            "[CV] C=1.2, gamma=0.1, kernel=rbf ....................................\n",
            "[CV] ..................... C=1.2, gamma=0.1, kernel=rbf, total=   0.0s\n",
            "[CV] C=1.2, gamma=0.1, kernel=rbf ....................................\n",
            "[CV] ..................... C=1.2, gamma=0.1, kernel=rbf, total=   0.0s\n",
            "[CV] C=1.2, gamma=0.1, kernel=rbf ....................................\n",
            "[CV] ..................... C=1.2, gamma=0.1, kernel=rbf, total=   0.0s\n",
            "[CV] C=1.2, gamma=0.1, kernel=rbf ....................................\n",
            "[CV] ..................... C=1.2, gamma=0.1, kernel=rbf, total=   0.0s\n",
            "[CV] C=1.2, gamma=0.1, kernel=rbf ....................................\n",
            "[CV] ..................... C=1.2, gamma=0.1, kernel=rbf, total=   0.0s\n",
            "[CV] C=1.2, gamma=0.1, kernel=rbf ....................................\n",
            "[CV] ..................... C=1.2, gamma=0.1, kernel=rbf, total=   0.0s\n",
            "[CV] C=1.2, gamma=0.1, kernel=rbf ....................................\n",
            "[CV] ..................... C=1.2, gamma=0.1, kernel=rbf, total=   0.0s\n",
            "[CV] C=1.2, gamma=0.1, kernel=rbf ....................................\n",
            "[CV] ..................... C=1.2, gamma=0.1, kernel=rbf, total=   0.0s\n",
            "[CV] C=1.2, gamma=0.1, kernel=rbf ....................................\n",
            "[CV] ..................... C=1.2, gamma=0.1, kernel=rbf, total=   0.0s\n",
            "[CV] C=1.2, gamma=0.1, kernel=rbf ....................................\n",
            "[CV] ..................... C=1.2, gamma=0.1, kernel=rbf, total=   0.0s\n",
            "[CV] C=1.2, gamma=0.8, kernel=linear .................................\n",
            "[CV] .................. C=1.2, gamma=0.8, kernel=linear, total=   0.0s\n",
            "[CV] C=1.2, gamma=0.8, kernel=linear .................................\n",
            "[CV] .................. C=1.2, gamma=0.8, kernel=linear, total=   0.0s\n",
            "[CV] C=1.2, gamma=0.8, kernel=linear .................................\n",
            "[CV] .................. C=1.2, gamma=0.8, kernel=linear, total=   0.0s\n",
            "[CV] C=1.2, gamma=0.8, kernel=linear .................................\n",
            "[CV] .................. C=1.2, gamma=0.8, kernel=linear, total=   0.0s\n",
            "[CV] C=1.2, gamma=0.8, kernel=linear .................................\n",
            "[CV] .................. C=1.2, gamma=0.8, kernel=linear, total=   0.0s\n",
            "[CV] C=1.2, gamma=0.8, kernel=linear .................................\n",
            "[CV] .................. C=1.2, gamma=0.8, kernel=linear, total=   0.0s\n",
            "[CV] C=1.2, gamma=0.8, kernel=linear .................................\n",
            "[CV] .................. C=1.2, gamma=0.8, kernel=linear, total=   0.0s\n",
            "[CV] C=1.2, gamma=0.8, kernel=linear .................................\n",
            "[CV] .................. C=1.2, gamma=0.8, kernel=linear, total=   0.0s\n",
            "[CV] C=1.2, gamma=0.8, kernel=linear .................................\n",
            "[CV] .................. C=1.2, gamma=0.8, kernel=linear, total=   0.0s\n",
            "[CV] C=1.2, gamma=0.8, kernel=linear .................................\n",
            "[CV] .................. C=1.2, gamma=0.8, kernel=linear, total=   0.0s\n",
            "[CV] C=1.2, gamma=0.8, kernel=rbf ....................................\n",
            "[CV] ..................... C=1.2, gamma=0.8, kernel=rbf, total=   0.0s\n",
            "[CV] C=1.2, gamma=0.8, kernel=rbf ....................................\n",
            "[CV] ..................... C=1.2, gamma=0.8, kernel=rbf, total=   0.0s\n",
            "[CV] C=1.2, gamma=0.8, kernel=rbf ....................................\n",
            "[CV] ..................... C=1.2, gamma=0.8, kernel=rbf, total=   0.0s\n",
            "[CV] C=1.2, gamma=0.8, kernel=rbf ....................................\n",
            "[CV] ..................... C=1.2, gamma=0.8, kernel=rbf, total=   0.0s\n",
            "[CV] C=1.2, gamma=0.8, kernel=rbf ....................................\n",
            "[CV] ..................... C=1.2, gamma=0.8, kernel=rbf, total=   0.0s\n",
            "[CV] C=1.2, gamma=0.8, kernel=rbf ....................................\n",
            "[CV] ..................... C=1.2, gamma=0.8, kernel=rbf, total=   0.0s\n",
            "[CV] C=1.2, gamma=0.8, kernel=rbf ....................................\n",
            "[CV] ..................... C=1.2, gamma=0.8, kernel=rbf, total=   0.0s\n",
            "[CV] C=1.2, gamma=0.8, kernel=rbf ....................................\n",
            "[CV] ..................... C=1.2, gamma=0.8, kernel=rbf, total=   0.0s\n",
            "[CV] C=1.2, gamma=0.8, kernel=rbf ....................................\n",
            "[CV] ..................... C=1.2, gamma=0.8, kernel=rbf, total=   0.0s\n",
            "[CV] C=1.2, gamma=0.8, kernel=rbf ....................................\n",
            "[CV] ..................... C=1.2, gamma=0.8, kernel=rbf, total=   0.0s\n",
            "[CV] C=1.2, gamma=0.9, kernel=linear .................................\n",
            "[CV] .................. C=1.2, gamma=0.9, kernel=linear, total=   0.0s\n",
            "[CV] C=1.2, gamma=0.9, kernel=linear .................................\n",
            "[CV] .................. C=1.2, gamma=0.9, kernel=linear, total=   0.0s\n",
            "[CV] C=1.2, gamma=0.9, kernel=linear .................................\n",
            "[CV] .................. C=1.2, gamma=0.9, kernel=linear, total=   0.0s\n",
            "[CV] C=1.2, gamma=0.9, kernel=linear .................................\n",
            "[CV] .................. C=1.2, gamma=0.9, kernel=linear, total=   0.0s\n",
            "[CV] C=1.2, gamma=0.9, kernel=linear .................................\n",
            "[CV] .................. C=1.2, gamma=0.9, kernel=linear, total=   0.0s\n",
            "[CV] C=1.2, gamma=0.9, kernel=linear .................................\n",
            "[CV] .................. C=1.2, gamma=0.9, kernel=linear, total=   0.0s\n",
            "[CV] C=1.2, gamma=0.9, kernel=linear .................................\n",
            "[CV] .................. C=1.2, gamma=0.9, kernel=linear, total=   0.0s\n",
            "[CV] C=1.2, gamma=0.9, kernel=linear .................................\n",
            "[CV] .................. C=1.2, gamma=0.9, kernel=linear, total=   0.0s\n",
            "[CV] C=1.2, gamma=0.9, kernel=linear .................................\n",
            "[CV] .................. C=1.2, gamma=0.9, kernel=linear, total=   0.0s\n",
            "[CV] C=1.2, gamma=0.9, kernel=linear .................................\n",
            "[CV] .................. C=1.2, gamma=0.9, kernel=linear, total=   0.0s\n",
            "[CV] C=1.2, gamma=0.9, kernel=rbf ....................................\n",
            "[CV] ..................... C=1.2, gamma=0.9, kernel=rbf, total=   0.0s\n",
            "[CV] C=1.2, gamma=0.9, kernel=rbf ....................................\n",
            "[CV] ..................... C=1.2, gamma=0.9, kernel=rbf, total=   0.0s\n",
            "[CV] C=1.2, gamma=0.9, kernel=rbf ....................................\n",
            "[CV] ..................... C=1.2, gamma=0.9, kernel=rbf, total=   0.0s\n",
            "[CV] C=1.2, gamma=0.9, kernel=rbf ....................................\n",
            "[CV] ..................... C=1.2, gamma=0.9, kernel=rbf, total=   0.0s\n",
            "[CV] C=1.2, gamma=0.9, kernel=rbf ....................................\n",
            "[CV] ..................... C=1.2, gamma=0.9, kernel=rbf, total=   0.0s\n",
            "[CV] C=1.2, gamma=0.9, kernel=rbf ....................................\n",
            "[CV] ..................... C=1.2, gamma=0.9, kernel=rbf, total=   0.0s\n",
            "[CV] C=1.2, gamma=0.9, kernel=rbf ....................................\n",
            "[CV] ..................... C=1.2, gamma=0.9, kernel=rbf, total=   0.0s\n",
            "[CV] C=1.2, gamma=0.9, kernel=rbf ....................................\n",
            "[CV] ..................... C=1.2, gamma=0.9, kernel=rbf, total=   0.0s\n",
            "[CV] C=1.2, gamma=0.9, kernel=rbf ....................................\n",
            "[CV] ..................... C=1.2, gamma=0.9, kernel=rbf, total=   0.0s\n",
            "[CV] C=1.2, gamma=0.9, kernel=rbf ....................................\n",
            "[CV] ..................... C=1.2, gamma=0.9, kernel=rbf, total=   0.0s\n",
            "[CV] C=1.2, gamma=1, kernel=linear ...................................\n",
            "[CV] .................... C=1.2, gamma=1, kernel=linear, total=   0.0s\n",
            "[CV] C=1.2, gamma=1, kernel=linear ...................................\n",
            "[CV] .................... C=1.2, gamma=1, kernel=linear, total=   0.0s\n",
            "[CV] C=1.2, gamma=1, kernel=linear ...................................\n",
            "[CV] .................... C=1.2, gamma=1, kernel=linear, total=   0.0s\n",
            "[CV] C=1.2, gamma=1, kernel=linear ...................................\n",
            "[CV] .................... C=1.2, gamma=1, kernel=linear, total=   0.0s\n",
            "[CV] C=1.2, gamma=1, kernel=linear ...................................\n",
            "[CV] .................... C=1.2, gamma=1, kernel=linear, total=   0.0s\n",
            "[CV] C=1.2, gamma=1, kernel=linear ...................................\n",
            "[CV] .................... C=1.2, gamma=1, kernel=linear, total=   0.0s\n",
            "[CV] C=1.2, gamma=1, kernel=linear ...................................\n",
            "[CV] .................... C=1.2, gamma=1, kernel=linear, total=   0.0s\n",
            "[CV] C=1.2, gamma=1, kernel=linear ...................................\n",
            "[CV] .................... C=1.2, gamma=1, kernel=linear, total=   0.0s\n",
            "[CV] C=1.2, gamma=1, kernel=linear ...................................\n",
            "[CV] .................... C=1.2, gamma=1, kernel=linear, total=   0.0s\n",
            "[CV] C=1.2, gamma=1, kernel=linear ...................................\n",
            "[CV] .................... C=1.2, gamma=1, kernel=linear, total=   0.0s\n",
            "[CV] C=1.2, gamma=1, kernel=rbf ......................................\n",
            "[CV] ....................... C=1.2, gamma=1, kernel=rbf, total=   0.0s\n",
            "[CV] C=1.2, gamma=1, kernel=rbf ......................................\n",
            "[CV] ....................... C=1.2, gamma=1, kernel=rbf, total=   0.0s\n",
            "[CV] C=1.2, gamma=1, kernel=rbf ......................................\n",
            "[CV] ....................... C=1.2, gamma=1, kernel=rbf, total=   0.0s\n",
            "[CV] C=1.2, gamma=1, kernel=rbf ......................................\n",
            "[CV] ....................... C=1.2, gamma=1, kernel=rbf, total=   0.0s\n",
            "[CV] C=1.2, gamma=1, kernel=rbf ......................................\n",
            "[CV] ....................... C=1.2, gamma=1, kernel=rbf, total=   0.0s\n",
            "[CV] C=1.2, gamma=1, kernel=rbf ......................................\n",
            "[CV] ....................... C=1.2, gamma=1, kernel=rbf, total=   0.0s\n",
            "[CV] C=1.2, gamma=1, kernel=rbf ......................................\n",
            "[CV] ....................... C=1.2, gamma=1, kernel=rbf, total=   0.0s\n",
            "[CV] C=1.2, gamma=1, kernel=rbf ......................................\n",
            "[CV] ....................... C=1.2, gamma=1, kernel=rbf, total=   0.0s\n",
            "[CV] C=1.2, gamma=1, kernel=rbf ......................................\n",
            "[CV] ....................... C=1.2, gamma=1, kernel=rbf, total=   0.0s\n",
            "[CV] C=1.2, gamma=1, kernel=rbf ......................................\n",
            "[CV] ....................... C=1.2, gamma=1, kernel=rbf, total=   0.0s\n",
            "[CV] C=1.2, gamma=1.1, kernel=linear .................................\n",
            "[CV] .................. C=1.2, gamma=1.1, kernel=linear, total=   0.0s\n",
            "[CV] C=1.2, gamma=1.1, kernel=linear .................................\n",
            "[CV] .................. C=1.2, gamma=1.1, kernel=linear, total=   0.0s\n",
            "[CV] C=1.2, gamma=1.1, kernel=linear .................................\n",
            "[CV] .................. C=1.2, gamma=1.1, kernel=linear, total=   0.0s\n",
            "[CV] C=1.2, gamma=1.1, kernel=linear .................................\n",
            "[CV] .................. C=1.2, gamma=1.1, kernel=linear, total=   0.0s\n",
            "[CV] C=1.2, gamma=1.1, kernel=linear .................................\n",
            "[CV] .................. C=1.2, gamma=1.1, kernel=linear, total=   0.0s\n",
            "[CV] C=1.2, gamma=1.1, kernel=linear .................................\n",
            "[CV] .................. C=1.2, gamma=1.1, kernel=linear, total=   0.0s\n",
            "[CV] C=1.2, gamma=1.1, kernel=linear .................................\n",
            "[CV] .................. C=1.2, gamma=1.1, kernel=linear, total=   0.0s\n",
            "[CV] C=1.2, gamma=1.1, kernel=linear .................................\n",
            "[CV] .................. C=1.2, gamma=1.1, kernel=linear, total=   0.0s\n",
            "[CV] C=1.2, gamma=1.1, kernel=linear .................................\n",
            "[CV] .................. C=1.2, gamma=1.1, kernel=linear, total=   0.0s\n",
            "[CV] C=1.2, gamma=1.1, kernel=linear .................................\n",
            "[CV] .................. C=1.2, gamma=1.1, kernel=linear, total=   0.0s\n",
            "[CV] C=1.2, gamma=1.1, kernel=rbf ....................................\n",
            "[CV] ..................... C=1.2, gamma=1.1, kernel=rbf, total=   0.0s\n",
            "[CV] C=1.2, gamma=1.1, kernel=rbf ....................................\n",
            "[CV] ..................... C=1.2, gamma=1.1, kernel=rbf, total=   0.0s\n",
            "[CV] C=1.2, gamma=1.1, kernel=rbf ....................................\n",
            "[CV] ..................... C=1.2, gamma=1.1, kernel=rbf, total=   0.0s\n",
            "[CV] C=1.2, gamma=1.1, kernel=rbf ....................................\n",
            "[CV] ..................... C=1.2, gamma=1.1, kernel=rbf, total=   0.0s\n",
            "[CV] C=1.2, gamma=1.1, kernel=rbf ....................................\n",
            "[CV] ..................... C=1.2, gamma=1.1, kernel=rbf, total=   0.0s\n",
            "[CV] C=1.2, gamma=1.1, kernel=rbf ....................................\n",
            "[CV] ..................... C=1.2, gamma=1.1, kernel=rbf, total=   0.0s\n",
            "[CV] C=1.2, gamma=1.1, kernel=rbf ....................................\n",
            "[CV] ..................... C=1.2, gamma=1.1, kernel=rbf, total=   0.0s\n",
            "[CV] C=1.2, gamma=1.1, kernel=rbf ....................................\n",
            "[CV] ..................... C=1.2, gamma=1.1, kernel=rbf, total=   0.0s\n",
            "[CV] C=1.2, gamma=1.1, kernel=rbf ....................................\n",
            "[CV] ..................... C=1.2, gamma=1.1, kernel=rbf, total=   0.0s\n",
            "[CV] C=1.2, gamma=1.1, kernel=rbf ....................................\n",
            "[CV] ..................... C=1.2, gamma=1.1, kernel=rbf, total=   0.0s\n",
            "[CV] C=1.2, gamma=1.2, kernel=linear .................................\n",
            "[CV] .................. C=1.2, gamma=1.2, kernel=linear, total=   0.0s\n",
            "[CV] C=1.2, gamma=1.2, kernel=linear .................................\n",
            "[CV] .................. C=1.2, gamma=1.2, kernel=linear, total=   0.0s\n",
            "[CV] C=1.2, gamma=1.2, kernel=linear .................................\n",
            "[CV] .................. C=1.2, gamma=1.2, kernel=linear, total=   0.0s\n",
            "[CV] C=1.2, gamma=1.2, kernel=linear .................................\n",
            "[CV] .................. C=1.2, gamma=1.2, kernel=linear, total=   0.0s\n",
            "[CV] C=1.2, gamma=1.2, kernel=linear .................................\n",
            "[CV] .................. C=1.2, gamma=1.2, kernel=linear, total=   0.0s\n",
            "[CV] C=1.2, gamma=1.2, kernel=linear .................................\n",
            "[CV] .................. C=1.2, gamma=1.2, kernel=linear, total=   0.0s\n",
            "[CV] C=1.2, gamma=1.2, kernel=linear .................................\n",
            "[CV] .................. C=1.2, gamma=1.2, kernel=linear, total=   0.0s\n",
            "[CV] C=1.2, gamma=1.2, kernel=linear .................................\n",
            "[CV] .................. C=1.2, gamma=1.2, kernel=linear, total=   0.0s\n",
            "[CV] C=1.2, gamma=1.2, kernel=linear .................................\n",
            "[CV] .................. C=1.2, gamma=1.2, kernel=linear, total=   0.0s\n",
            "[CV] C=1.2, gamma=1.2, kernel=linear .................................\n",
            "[CV] .................. C=1.2, gamma=1.2, kernel=linear, total=   0.0s\n",
            "[CV] C=1.2, gamma=1.2, kernel=rbf ....................................\n",
            "[CV] ..................... C=1.2, gamma=1.2, kernel=rbf, total=   0.0s\n",
            "[CV] C=1.2, gamma=1.2, kernel=rbf ....................................\n",
            "[CV] ..................... C=1.2, gamma=1.2, kernel=rbf, total=   0.0s\n",
            "[CV] C=1.2, gamma=1.2, kernel=rbf ....................................\n",
            "[CV] ..................... C=1.2, gamma=1.2, kernel=rbf, total=   0.0s\n",
            "[CV] C=1.2, gamma=1.2, kernel=rbf ....................................\n",
            "[CV] ..................... C=1.2, gamma=1.2, kernel=rbf, total=   0.0s\n",
            "[CV] C=1.2, gamma=1.2, kernel=rbf ....................................\n",
            "[CV] ..................... C=1.2, gamma=1.2, kernel=rbf, total=   0.0s\n",
            "[CV] C=1.2, gamma=1.2, kernel=rbf ....................................\n",
            "[CV] ..................... C=1.2, gamma=1.2, kernel=rbf, total=   0.0s\n",
            "[CV] C=1.2, gamma=1.2, kernel=rbf ....................................\n",
            "[CV] ..................... C=1.2, gamma=1.2, kernel=rbf, total=   0.0s\n",
            "[CV] C=1.2, gamma=1.2, kernel=rbf ....................................\n",
            "[CV] ..................... C=1.2, gamma=1.2, kernel=rbf, total=   0.0s\n",
            "[CV] C=1.2, gamma=1.2, kernel=rbf ....................................\n",
            "[CV] ..................... C=1.2, gamma=1.2, kernel=rbf, total=   0.0s\n",
            "[CV] C=1.2, gamma=1.2, kernel=rbf ....................................\n",
            "[CV] ..................... C=1.2, gamma=1.2, kernel=rbf, total=   0.0s\n",
            "[CV] C=1.2, gamma=1.3, kernel=linear .................................\n",
            "[CV] .................. C=1.2, gamma=1.3, kernel=linear, total=   0.0s\n",
            "[CV] C=1.2, gamma=1.3, kernel=linear .................................\n",
            "[CV] .................. C=1.2, gamma=1.3, kernel=linear, total=   0.0s\n",
            "[CV] C=1.2, gamma=1.3, kernel=linear .................................\n",
            "[CV] .................. C=1.2, gamma=1.3, kernel=linear, total=   0.0s\n",
            "[CV] C=1.2, gamma=1.3, kernel=linear .................................\n",
            "[CV] .................. C=1.2, gamma=1.3, kernel=linear, total=   0.0s\n",
            "[CV] C=1.2, gamma=1.3, kernel=linear .................................\n",
            "[CV] .................. C=1.2, gamma=1.3, kernel=linear, total=   0.0s\n",
            "[CV] C=1.2, gamma=1.3, kernel=linear .................................\n",
            "[CV] .................. C=1.2, gamma=1.3, kernel=linear, total=   0.0s\n",
            "[CV] C=1.2, gamma=1.3, kernel=linear .................................\n",
            "[CV] .................. C=1.2, gamma=1.3, kernel=linear, total=   0.0s\n",
            "[CV] C=1.2, gamma=1.3, kernel=linear .................................\n",
            "[CV] .................. C=1.2, gamma=1.3, kernel=linear, total=   0.0s\n",
            "[CV] C=1.2, gamma=1.3, kernel=linear .................................\n",
            "[CV] .................. C=1.2, gamma=1.3, kernel=linear, total=   0.0s\n",
            "[CV] C=1.2, gamma=1.3, kernel=linear .................................\n",
            "[CV] .................. C=1.2, gamma=1.3, kernel=linear, total=   0.0s\n",
            "[CV] C=1.2, gamma=1.3, kernel=rbf ....................................\n",
            "[CV] ..................... C=1.2, gamma=1.3, kernel=rbf, total=   0.0s\n",
            "[CV] C=1.2, gamma=1.3, kernel=rbf ....................................\n",
            "[CV] ..................... C=1.2, gamma=1.3, kernel=rbf, total=   0.0s\n",
            "[CV] C=1.2, gamma=1.3, kernel=rbf ....................................\n",
            "[CV] ..................... C=1.2, gamma=1.3, kernel=rbf, total=   0.0s\n",
            "[CV] C=1.2, gamma=1.3, kernel=rbf ....................................\n",
            "[CV] ..................... C=1.2, gamma=1.3, kernel=rbf, total=   0.0s\n",
            "[CV] C=1.2, gamma=1.3, kernel=rbf ....................................\n",
            "[CV] ..................... C=1.2, gamma=1.3, kernel=rbf, total=   0.0s\n",
            "[CV] C=1.2, gamma=1.3, kernel=rbf ....................................\n",
            "[CV] ..................... C=1.2, gamma=1.3, kernel=rbf, total=   0.0s\n",
            "[CV] C=1.2, gamma=1.3, kernel=rbf ....................................\n",
            "[CV] ..................... C=1.2, gamma=1.3, kernel=rbf, total=   0.0s\n",
            "[CV] C=1.2, gamma=1.3, kernel=rbf ....................................\n",
            "[CV] ..................... C=1.2, gamma=1.3, kernel=rbf, total=   0.0s\n",
            "[CV] C=1.2, gamma=1.3, kernel=rbf ....................................\n",
            "[CV] ..................... C=1.2, gamma=1.3, kernel=rbf, total=   0.0s\n",
            "[CV] C=1.2, gamma=1.3, kernel=rbf ....................................\n",
            "[CV] ..................... C=1.2, gamma=1.3, kernel=rbf, total=   0.0s\n",
            "[CV] C=1.2, gamma=1.4, kernel=linear .................................\n",
            "[CV] .................. C=1.2, gamma=1.4, kernel=linear, total=   0.0s\n",
            "[CV] C=1.2, gamma=1.4, kernel=linear .................................\n",
            "[CV] .................. C=1.2, gamma=1.4, kernel=linear, total=   0.0s\n",
            "[CV] C=1.2, gamma=1.4, kernel=linear .................................\n",
            "[CV] .................. C=1.2, gamma=1.4, kernel=linear, total=   0.0s\n",
            "[CV] C=1.2, gamma=1.4, kernel=linear .................................\n",
            "[CV] .................. C=1.2, gamma=1.4, kernel=linear, total=   0.0s\n",
            "[CV] C=1.2, gamma=1.4, kernel=linear .................................\n",
            "[CV] .................. C=1.2, gamma=1.4, kernel=linear, total=   0.0s\n",
            "[CV] C=1.2, gamma=1.4, kernel=linear .................................\n",
            "[CV] .................. C=1.2, gamma=1.4, kernel=linear, total=   0.0s\n",
            "[CV] C=1.2, gamma=1.4, kernel=linear .................................\n",
            "[CV] .................. C=1.2, gamma=1.4, kernel=linear, total=   0.0s\n",
            "[CV] C=1.2, gamma=1.4, kernel=linear .................................\n",
            "[CV] .................. C=1.2, gamma=1.4, kernel=linear, total=   0.0s\n",
            "[CV] C=1.2, gamma=1.4, kernel=linear .................................\n",
            "[CV] .................. C=1.2, gamma=1.4, kernel=linear, total=   0.0s\n",
            "[CV] C=1.2, gamma=1.4, kernel=linear .................................\n",
            "[CV] .................. C=1.2, gamma=1.4, kernel=linear, total=   0.0s\n",
            "[CV] C=1.2, gamma=1.4, kernel=rbf ....................................\n",
            "[CV] ..................... C=1.2, gamma=1.4, kernel=rbf, total=   0.0s\n",
            "[CV] C=1.2, gamma=1.4, kernel=rbf ....................................\n",
            "[CV] ..................... C=1.2, gamma=1.4, kernel=rbf, total=   0.0s\n",
            "[CV] C=1.2, gamma=1.4, kernel=rbf ....................................\n",
            "[CV] ..................... C=1.2, gamma=1.4, kernel=rbf, total=   0.0s\n",
            "[CV] C=1.2, gamma=1.4, kernel=rbf ....................................\n",
            "[CV] ..................... C=1.2, gamma=1.4, kernel=rbf, total=   0.0s\n",
            "[CV] C=1.2, gamma=1.4, kernel=rbf ....................................\n",
            "[CV] ..................... C=1.2, gamma=1.4, kernel=rbf, total=   0.0s\n",
            "[CV] C=1.2, gamma=1.4, kernel=rbf ....................................\n",
            "[CV] ..................... C=1.2, gamma=1.4, kernel=rbf, total=   0.0s\n",
            "[CV] C=1.2, gamma=1.4, kernel=rbf ....................................\n",
            "[CV] ..................... C=1.2, gamma=1.4, kernel=rbf, total=   0.0s\n",
            "[CV] C=1.2, gamma=1.4, kernel=rbf ....................................\n",
            "[CV] ..................... C=1.2, gamma=1.4, kernel=rbf, total=   0.0s\n",
            "[CV] C=1.2, gamma=1.4, kernel=rbf ....................................\n",
            "[CV] ..................... C=1.2, gamma=1.4, kernel=rbf, total=   0.0s\n",
            "[CV] C=1.2, gamma=1.4, kernel=rbf ....................................\n",
            "[CV] ..................... C=1.2, gamma=1.4, kernel=rbf, total=   0.0s\n",
            "[CV] C=1.3, gamma=0.1, kernel=linear .................................\n",
            "[CV] .................. C=1.3, gamma=0.1, kernel=linear, total=   0.0s\n",
            "[CV] C=1.3, gamma=0.1, kernel=linear .................................\n",
            "[CV] .................. C=1.3, gamma=0.1, kernel=linear, total=   0.0s\n",
            "[CV] C=1.3, gamma=0.1, kernel=linear .................................\n",
            "[CV] .................. C=1.3, gamma=0.1, kernel=linear, total=   0.0s\n",
            "[CV] C=1.3, gamma=0.1, kernel=linear .................................\n",
            "[CV] .................. C=1.3, gamma=0.1, kernel=linear, total=   0.0s\n",
            "[CV] C=1.3, gamma=0.1, kernel=linear .................................\n",
            "[CV] .................. C=1.3, gamma=0.1, kernel=linear, total=   0.0s\n",
            "[CV] C=1.3, gamma=0.1, kernel=linear .................................\n",
            "[CV] .................. C=1.3, gamma=0.1, kernel=linear, total=   0.0s\n",
            "[CV] C=1.3, gamma=0.1, kernel=linear .................................\n",
            "[CV] .................. C=1.3, gamma=0.1, kernel=linear, total=   0.0s\n",
            "[CV] C=1.3, gamma=0.1, kernel=linear .................................\n",
            "[CV] .................. C=1.3, gamma=0.1, kernel=linear, total=   0.0s\n",
            "[CV] C=1.3, gamma=0.1, kernel=linear .................................\n",
            "[CV] .................. C=1.3, gamma=0.1, kernel=linear, total=   0.0s\n",
            "[CV] C=1.3, gamma=0.1, kernel=linear .................................\n",
            "[CV] .................. C=1.3, gamma=0.1, kernel=linear, total=   0.0s\n",
            "[CV] C=1.3, gamma=0.1, kernel=rbf ....................................\n",
            "[CV] ..................... C=1.3, gamma=0.1, kernel=rbf, total=   0.0s\n",
            "[CV] C=1.3, gamma=0.1, kernel=rbf ....................................\n",
            "[CV] ..................... C=1.3, gamma=0.1, kernel=rbf, total=   0.0s\n",
            "[CV] C=1.3, gamma=0.1, kernel=rbf ....................................\n",
            "[CV] ..................... C=1.3, gamma=0.1, kernel=rbf, total=   0.0s\n",
            "[CV] C=1.3, gamma=0.1, kernel=rbf ....................................\n",
            "[CV] ..................... C=1.3, gamma=0.1, kernel=rbf, total=   0.0s\n",
            "[CV] C=1.3, gamma=0.1, kernel=rbf ....................................\n",
            "[CV] ..................... C=1.3, gamma=0.1, kernel=rbf, total=   0.0s\n",
            "[CV] C=1.3, gamma=0.1, kernel=rbf ....................................\n",
            "[CV] ..................... C=1.3, gamma=0.1, kernel=rbf, total=   0.0s\n",
            "[CV] C=1.3, gamma=0.1, kernel=rbf ....................................\n",
            "[CV] ..................... C=1.3, gamma=0.1, kernel=rbf, total=   0.0s\n",
            "[CV] C=1.3, gamma=0.1, kernel=rbf ....................................\n",
            "[CV] ..................... C=1.3, gamma=0.1, kernel=rbf, total=   0.0s\n",
            "[CV] C=1.3, gamma=0.1, kernel=rbf ....................................\n",
            "[CV] ..................... C=1.3, gamma=0.1, kernel=rbf, total=   0.0s\n",
            "[CV] C=1.3, gamma=0.1, kernel=rbf ....................................\n",
            "[CV] ..................... C=1.3, gamma=0.1, kernel=rbf, total=   0.0s\n",
            "[CV] C=1.3, gamma=0.8, kernel=linear .................................\n",
            "[CV] .................. C=1.3, gamma=0.8, kernel=linear, total=   0.0s\n",
            "[CV] C=1.3, gamma=0.8, kernel=linear .................................\n",
            "[CV] .................. C=1.3, gamma=0.8, kernel=linear, total=   0.0s\n",
            "[CV] C=1.3, gamma=0.8, kernel=linear .................................\n",
            "[CV] .................. C=1.3, gamma=0.8, kernel=linear, total=   0.0s\n",
            "[CV] C=1.3, gamma=0.8, kernel=linear .................................\n",
            "[CV] .................. C=1.3, gamma=0.8, kernel=linear, total=   0.0s\n",
            "[CV] C=1.3, gamma=0.8, kernel=linear .................................\n",
            "[CV] .................. C=1.3, gamma=0.8, kernel=linear, total=   0.0s\n",
            "[CV] C=1.3, gamma=0.8, kernel=linear .................................\n",
            "[CV] .................. C=1.3, gamma=0.8, kernel=linear, total=   0.0s\n",
            "[CV] C=1.3, gamma=0.8, kernel=linear .................................\n",
            "[CV] .................. C=1.3, gamma=0.8, kernel=linear, total=   0.0s\n",
            "[CV] C=1.3, gamma=0.8, kernel=linear .................................\n",
            "[CV] .................. C=1.3, gamma=0.8, kernel=linear, total=   0.0s\n",
            "[CV] C=1.3, gamma=0.8, kernel=linear .................................\n",
            "[CV] .................. C=1.3, gamma=0.8, kernel=linear, total=   0.0s\n",
            "[CV] C=1.3, gamma=0.8, kernel=linear .................................\n",
            "[CV] .................. C=1.3, gamma=0.8, kernel=linear, total=   0.0s\n",
            "[CV] C=1.3, gamma=0.8, kernel=rbf ....................................\n",
            "[CV] ..................... C=1.3, gamma=0.8, kernel=rbf, total=   0.0s\n",
            "[CV] C=1.3, gamma=0.8, kernel=rbf ....................................\n",
            "[CV] ..................... C=1.3, gamma=0.8, kernel=rbf, total=   0.0s\n",
            "[CV] C=1.3, gamma=0.8, kernel=rbf ....................................\n",
            "[CV] ..................... C=1.3, gamma=0.8, kernel=rbf, total=   0.0s\n",
            "[CV] C=1.3, gamma=0.8, kernel=rbf ....................................\n",
            "[CV] ..................... C=1.3, gamma=0.8, kernel=rbf, total=   0.0s\n",
            "[CV] C=1.3, gamma=0.8, kernel=rbf ....................................\n",
            "[CV] ..................... C=1.3, gamma=0.8, kernel=rbf, total=   0.0s\n",
            "[CV] C=1.3, gamma=0.8, kernel=rbf ....................................\n",
            "[CV] ..................... C=1.3, gamma=0.8, kernel=rbf, total=   0.0s\n",
            "[CV] C=1.3, gamma=0.8, kernel=rbf ....................................\n",
            "[CV] ..................... C=1.3, gamma=0.8, kernel=rbf, total=   0.0s\n",
            "[CV] C=1.3, gamma=0.8, kernel=rbf ....................................\n",
            "[CV] ..................... C=1.3, gamma=0.8, kernel=rbf, total=   0.0s\n",
            "[CV] C=1.3, gamma=0.8, kernel=rbf ....................................\n",
            "[CV] ..................... C=1.3, gamma=0.8, kernel=rbf, total=   0.0s\n",
            "[CV] C=1.3, gamma=0.8, kernel=rbf ....................................\n",
            "[CV] ..................... C=1.3, gamma=0.8, kernel=rbf, total=   0.0s\n",
            "[CV] C=1.3, gamma=0.9, kernel=linear .................................\n",
            "[CV] .................. C=1.3, gamma=0.9, kernel=linear, total=   0.0s\n",
            "[CV] C=1.3, gamma=0.9, kernel=linear .................................\n",
            "[CV] .................. C=1.3, gamma=0.9, kernel=linear, total=   0.0s\n",
            "[CV] C=1.3, gamma=0.9, kernel=linear .................................\n",
            "[CV] .................. C=1.3, gamma=0.9, kernel=linear, total=   0.0s\n",
            "[CV] C=1.3, gamma=0.9, kernel=linear .................................\n",
            "[CV] .................. C=1.3, gamma=0.9, kernel=linear, total=   0.0s\n",
            "[CV] C=1.3, gamma=0.9, kernel=linear .................................\n",
            "[CV] .................. C=1.3, gamma=0.9, kernel=linear, total=   0.0s\n",
            "[CV] C=1.3, gamma=0.9, kernel=linear .................................\n",
            "[CV] .................. C=1.3, gamma=0.9, kernel=linear, total=   0.0s\n",
            "[CV] C=1.3, gamma=0.9, kernel=linear .................................\n",
            "[CV] .................. C=1.3, gamma=0.9, kernel=linear, total=   0.0s\n",
            "[CV] C=1.3, gamma=0.9, kernel=linear .................................\n",
            "[CV] .................. C=1.3, gamma=0.9, kernel=linear, total=   0.0s\n",
            "[CV] C=1.3, gamma=0.9, kernel=linear .................................\n",
            "[CV] .................. C=1.3, gamma=0.9, kernel=linear, total=   0.0s\n",
            "[CV] C=1.3, gamma=0.9, kernel=linear .................................\n",
            "[CV] .................. C=1.3, gamma=0.9, kernel=linear, total=   0.0s\n",
            "[CV] C=1.3, gamma=0.9, kernel=rbf ....................................\n",
            "[CV] ..................... C=1.3, gamma=0.9, kernel=rbf, total=   0.0s\n",
            "[CV] C=1.3, gamma=0.9, kernel=rbf ....................................\n",
            "[CV] ..................... C=1.3, gamma=0.9, kernel=rbf, total=   0.0s\n",
            "[CV] C=1.3, gamma=0.9, kernel=rbf ....................................\n",
            "[CV] ..................... C=1.3, gamma=0.9, kernel=rbf, total=   0.0s\n",
            "[CV] C=1.3, gamma=0.9, kernel=rbf ....................................\n",
            "[CV] ..................... C=1.3, gamma=0.9, kernel=rbf, total=   0.0s\n",
            "[CV] C=1.3, gamma=0.9, kernel=rbf ....................................\n",
            "[CV] ..................... C=1.3, gamma=0.9, kernel=rbf, total=   0.0s\n",
            "[CV] C=1.3, gamma=0.9, kernel=rbf ....................................\n",
            "[CV] ..................... C=1.3, gamma=0.9, kernel=rbf, total=   0.0s\n",
            "[CV] C=1.3, gamma=0.9, kernel=rbf ....................................\n",
            "[CV] ..................... C=1.3, gamma=0.9, kernel=rbf, total=   0.0s\n",
            "[CV] C=1.3, gamma=0.9, kernel=rbf ....................................\n",
            "[CV] ..................... C=1.3, gamma=0.9, kernel=rbf, total=   0.0s\n",
            "[CV] C=1.3, gamma=0.9, kernel=rbf ....................................\n",
            "[CV] ..................... C=1.3, gamma=0.9, kernel=rbf, total=   0.0s\n",
            "[CV] C=1.3, gamma=0.9, kernel=rbf ....................................\n",
            "[CV] ..................... C=1.3, gamma=0.9, kernel=rbf, total=   0.0s\n",
            "[CV] C=1.3, gamma=1, kernel=linear ...................................\n",
            "[CV] .................... C=1.3, gamma=1, kernel=linear, total=   0.0s\n",
            "[CV] C=1.3, gamma=1, kernel=linear ...................................\n",
            "[CV] .................... C=1.3, gamma=1, kernel=linear, total=   0.0s\n",
            "[CV] C=1.3, gamma=1, kernel=linear ...................................\n",
            "[CV] .................... C=1.3, gamma=1, kernel=linear, total=   0.0s\n",
            "[CV] C=1.3, gamma=1, kernel=linear ...................................\n",
            "[CV] .................... C=1.3, gamma=1, kernel=linear, total=   0.0s\n",
            "[CV] C=1.3, gamma=1, kernel=linear ...................................\n",
            "[CV] .................... C=1.3, gamma=1, kernel=linear, total=   0.0s\n",
            "[CV] C=1.3, gamma=1, kernel=linear ...................................\n",
            "[CV] .................... C=1.3, gamma=1, kernel=linear, total=   0.0s\n",
            "[CV] C=1.3, gamma=1, kernel=linear ...................................\n",
            "[CV] .................... C=1.3, gamma=1, kernel=linear, total=   0.0s\n",
            "[CV] C=1.3, gamma=1, kernel=linear ...................................\n",
            "[CV] .................... C=1.3, gamma=1, kernel=linear, total=   0.0s\n",
            "[CV] C=1.3, gamma=1, kernel=linear ...................................\n",
            "[CV] .................... C=1.3, gamma=1, kernel=linear, total=   0.0s\n",
            "[CV] C=1.3, gamma=1, kernel=linear ...................................\n",
            "[CV] .................... C=1.3, gamma=1, kernel=linear, total=   0.0s\n",
            "[CV] C=1.3, gamma=1, kernel=rbf ......................................\n",
            "[CV] ....................... C=1.3, gamma=1, kernel=rbf, total=   0.0s\n",
            "[CV] C=1.3, gamma=1, kernel=rbf ......................................\n",
            "[CV] ....................... C=1.3, gamma=1, kernel=rbf, total=   0.0s\n",
            "[CV] C=1.3, gamma=1, kernel=rbf ......................................\n",
            "[CV] ....................... C=1.3, gamma=1, kernel=rbf, total=   0.0s\n",
            "[CV] C=1.3, gamma=1, kernel=rbf ......................................\n",
            "[CV] ....................... C=1.3, gamma=1, kernel=rbf, total=   0.0s\n",
            "[CV] C=1.3, gamma=1, kernel=rbf ......................................\n",
            "[CV] ....................... C=1.3, gamma=1, kernel=rbf, total=   0.0s\n",
            "[CV] C=1.3, gamma=1, kernel=rbf ......................................\n",
            "[CV] ....................... C=1.3, gamma=1, kernel=rbf, total=   0.0s\n",
            "[CV] C=1.3, gamma=1, kernel=rbf ......................................\n",
            "[CV] ....................... C=1.3, gamma=1, kernel=rbf, total=   0.0s\n",
            "[CV] C=1.3, gamma=1, kernel=rbf ......................................\n",
            "[CV] ....................... C=1.3, gamma=1, kernel=rbf, total=   0.0s\n",
            "[CV] C=1.3, gamma=1, kernel=rbf ......................................\n",
            "[CV] ....................... C=1.3, gamma=1, kernel=rbf, total=   0.0s\n",
            "[CV] C=1.3, gamma=1, kernel=rbf ......................................\n",
            "[CV] ....................... C=1.3, gamma=1, kernel=rbf, total=   0.0s\n",
            "[CV] C=1.3, gamma=1.1, kernel=linear .................................\n",
            "[CV] .................. C=1.3, gamma=1.1, kernel=linear, total=   0.0s\n",
            "[CV] C=1.3, gamma=1.1, kernel=linear .................................\n",
            "[CV] .................. C=1.3, gamma=1.1, kernel=linear, total=   0.0s\n",
            "[CV] C=1.3, gamma=1.1, kernel=linear .................................\n",
            "[CV] .................. C=1.3, gamma=1.1, kernel=linear, total=   0.0s\n",
            "[CV] C=1.3, gamma=1.1, kernel=linear .................................\n",
            "[CV] .................. C=1.3, gamma=1.1, kernel=linear, total=   0.0s\n",
            "[CV] C=1.3, gamma=1.1, kernel=linear .................................\n",
            "[CV] .................. C=1.3, gamma=1.1, kernel=linear, total=   0.0s\n",
            "[CV] C=1.3, gamma=1.1, kernel=linear .................................\n",
            "[CV] .................. C=1.3, gamma=1.1, kernel=linear, total=   0.0s\n",
            "[CV] C=1.3, gamma=1.1, kernel=linear .................................\n",
            "[CV] .................. C=1.3, gamma=1.1, kernel=linear, total=   0.0s\n",
            "[CV] C=1.3, gamma=1.1, kernel=linear .................................\n",
            "[CV] .................. C=1.3, gamma=1.1, kernel=linear, total=   0.0s\n",
            "[CV] C=1.3, gamma=1.1, kernel=linear .................................\n",
            "[CV] .................. C=1.3, gamma=1.1, kernel=linear, total=   0.0s\n",
            "[CV] C=1.3, gamma=1.1, kernel=linear .................................\n",
            "[CV] .................. C=1.3, gamma=1.1, kernel=linear, total=   0.0s\n",
            "[CV] C=1.3, gamma=1.1, kernel=rbf ....................................\n",
            "[CV] ..................... C=1.3, gamma=1.1, kernel=rbf, total=   0.0s\n",
            "[CV] C=1.3, gamma=1.1, kernel=rbf ....................................\n",
            "[CV] ..................... C=1.3, gamma=1.1, kernel=rbf, total=   0.0s\n",
            "[CV] C=1.3, gamma=1.1, kernel=rbf ....................................\n",
            "[CV] ..................... C=1.3, gamma=1.1, kernel=rbf, total=   0.0s\n",
            "[CV] C=1.3, gamma=1.1, kernel=rbf ....................................\n",
            "[CV] ..................... C=1.3, gamma=1.1, kernel=rbf, total=   0.0s\n",
            "[CV] C=1.3, gamma=1.1, kernel=rbf ....................................\n",
            "[CV] ..................... C=1.3, gamma=1.1, kernel=rbf, total=   0.0s\n",
            "[CV] C=1.3, gamma=1.1, kernel=rbf ....................................\n",
            "[CV] ..................... C=1.3, gamma=1.1, kernel=rbf, total=   0.0s\n",
            "[CV] C=1.3, gamma=1.1, kernel=rbf ....................................\n",
            "[CV] ..................... C=1.3, gamma=1.1, kernel=rbf, total=   0.0s\n",
            "[CV] C=1.3, gamma=1.1, kernel=rbf ....................................\n",
            "[CV] ..................... C=1.3, gamma=1.1, kernel=rbf, total=   0.0s\n",
            "[CV] C=1.3, gamma=1.1, kernel=rbf ....................................\n",
            "[CV] ..................... C=1.3, gamma=1.1, kernel=rbf, total=   0.0s\n",
            "[CV] C=1.3, gamma=1.1, kernel=rbf ....................................\n",
            "[CV] ..................... C=1.3, gamma=1.1, kernel=rbf, total=   0.0s\n",
            "[CV] C=1.3, gamma=1.2, kernel=linear .................................\n",
            "[CV] .................. C=1.3, gamma=1.2, kernel=linear, total=   0.0s\n",
            "[CV] C=1.3, gamma=1.2, kernel=linear .................................\n",
            "[CV] .................. C=1.3, gamma=1.2, kernel=linear, total=   0.0s\n",
            "[CV] C=1.3, gamma=1.2, kernel=linear .................................\n",
            "[CV] .................. C=1.3, gamma=1.2, kernel=linear, total=   0.0s\n",
            "[CV] C=1.3, gamma=1.2, kernel=linear .................................\n",
            "[CV] .................. C=1.3, gamma=1.2, kernel=linear, total=   0.0s\n",
            "[CV] C=1.3, gamma=1.2, kernel=linear .................................\n",
            "[CV] .................. C=1.3, gamma=1.2, kernel=linear, total=   0.0s\n",
            "[CV] C=1.3, gamma=1.2, kernel=linear .................................\n",
            "[CV] .................. C=1.3, gamma=1.2, kernel=linear, total=   0.0s\n",
            "[CV] C=1.3, gamma=1.2, kernel=linear .................................\n",
            "[CV] .................. C=1.3, gamma=1.2, kernel=linear, total=   0.0s\n",
            "[CV] C=1.3, gamma=1.2, kernel=linear .................................\n",
            "[CV] .................. C=1.3, gamma=1.2, kernel=linear, total=   0.0s\n",
            "[CV] C=1.3, gamma=1.2, kernel=linear .................................\n",
            "[CV] .................. C=1.3, gamma=1.2, kernel=linear, total=   0.0s\n",
            "[CV] C=1.3, gamma=1.2, kernel=linear .................................\n",
            "[CV] .................. C=1.3, gamma=1.2, kernel=linear, total=   0.0s\n",
            "[CV] C=1.3, gamma=1.2, kernel=rbf ....................................\n",
            "[CV] ..................... C=1.3, gamma=1.2, kernel=rbf, total=   0.0s\n",
            "[CV] C=1.3, gamma=1.2, kernel=rbf ....................................\n",
            "[CV] ..................... C=1.3, gamma=1.2, kernel=rbf, total=   0.0s\n",
            "[CV] C=1.3, gamma=1.2, kernel=rbf ....................................\n",
            "[CV] ..................... C=1.3, gamma=1.2, kernel=rbf, total=   0.0s\n",
            "[CV] C=1.3, gamma=1.2, kernel=rbf ....................................\n",
            "[CV] ..................... C=1.3, gamma=1.2, kernel=rbf, total=   0.0s\n",
            "[CV] C=1.3, gamma=1.2, kernel=rbf ....................................\n",
            "[CV] ..................... C=1.3, gamma=1.2, kernel=rbf, total=   0.0s\n",
            "[CV] C=1.3, gamma=1.2, kernel=rbf ....................................\n",
            "[CV] ..................... C=1.3, gamma=1.2, kernel=rbf, total=   0.0s\n",
            "[CV] C=1.3, gamma=1.2, kernel=rbf ....................................\n",
            "[CV] ..................... C=1.3, gamma=1.2, kernel=rbf, total=   0.0s\n",
            "[CV] C=1.3, gamma=1.2, kernel=rbf ....................................\n",
            "[CV] ..................... C=1.3, gamma=1.2, kernel=rbf, total=   0.0s\n",
            "[CV] C=1.3, gamma=1.2, kernel=rbf ....................................\n",
            "[CV] ..................... C=1.3, gamma=1.2, kernel=rbf, total=   0.0s\n",
            "[CV] C=1.3, gamma=1.2, kernel=rbf ....................................\n",
            "[CV] ..................... C=1.3, gamma=1.2, kernel=rbf, total=   0.0s\n",
            "[CV] C=1.3, gamma=1.3, kernel=linear .................................\n",
            "[CV] .................. C=1.3, gamma=1.3, kernel=linear, total=   0.0s\n",
            "[CV] C=1.3, gamma=1.3, kernel=linear .................................\n",
            "[CV] .................. C=1.3, gamma=1.3, kernel=linear, total=   0.0s\n",
            "[CV] C=1.3, gamma=1.3, kernel=linear .................................\n",
            "[CV] .................. C=1.3, gamma=1.3, kernel=linear, total=   0.0s\n",
            "[CV] C=1.3, gamma=1.3, kernel=linear .................................\n",
            "[CV] .................. C=1.3, gamma=1.3, kernel=linear, total=   0.0s\n",
            "[CV] C=1.3, gamma=1.3, kernel=linear .................................\n",
            "[CV] .................. C=1.3, gamma=1.3, kernel=linear, total=   0.0s\n",
            "[CV] C=1.3, gamma=1.3, kernel=linear .................................\n",
            "[CV] .................. C=1.3, gamma=1.3, kernel=linear, total=   0.0s\n",
            "[CV] C=1.3, gamma=1.3, kernel=linear .................................\n",
            "[CV] .................. C=1.3, gamma=1.3, kernel=linear, total=   0.0s\n",
            "[CV] C=1.3, gamma=1.3, kernel=linear .................................\n",
            "[CV] .................. C=1.3, gamma=1.3, kernel=linear, total=   0.0s\n",
            "[CV] C=1.3, gamma=1.3, kernel=linear .................................\n",
            "[CV] .................. C=1.3, gamma=1.3, kernel=linear, total=   0.0s\n",
            "[CV] C=1.3, gamma=1.3, kernel=linear .................................\n",
            "[CV] .................. C=1.3, gamma=1.3, kernel=linear, total=   0.0s\n",
            "[CV] C=1.3, gamma=1.3, kernel=rbf ....................................\n",
            "[CV] ..................... C=1.3, gamma=1.3, kernel=rbf, total=   0.0s\n",
            "[CV] C=1.3, gamma=1.3, kernel=rbf ....................................\n",
            "[CV] ..................... C=1.3, gamma=1.3, kernel=rbf, total=   0.0s\n",
            "[CV] C=1.3, gamma=1.3, kernel=rbf ....................................\n",
            "[CV] ..................... C=1.3, gamma=1.3, kernel=rbf, total=   0.0s\n",
            "[CV] C=1.3, gamma=1.3, kernel=rbf ....................................\n",
            "[CV] ..................... C=1.3, gamma=1.3, kernel=rbf, total=   0.0s\n",
            "[CV] C=1.3, gamma=1.3, kernel=rbf ....................................\n",
            "[CV] ..................... C=1.3, gamma=1.3, kernel=rbf, total=   0.0s\n",
            "[CV] C=1.3, gamma=1.3, kernel=rbf ....................................\n",
            "[CV] ..................... C=1.3, gamma=1.3, kernel=rbf, total=   0.0s\n",
            "[CV] C=1.3, gamma=1.3, kernel=rbf ....................................\n",
            "[CV] ..................... C=1.3, gamma=1.3, kernel=rbf, total=   0.0s\n",
            "[CV] C=1.3, gamma=1.3, kernel=rbf ....................................\n",
            "[CV] ..................... C=1.3, gamma=1.3, kernel=rbf, total=   0.0s\n",
            "[CV] C=1.3, gamma=1.3, kernel=rbf ....................................\n",
            "[CV] ..................... C=1.3, gamma=1.3, kernel=rbf, total=   0.0s\n",
            "[CV] C=1.3, gamma=1.3, kernel=rbf ....................................\n",
            "[CV] ..................... C=1.3, gamma=1.3, kernel=rbf, total=   0.0s\n",
            "[CV] C=1.3, gamma=1.4, kernel=linear .................................\n",
            "[CV] .................. C=1.3, gamma=1.4, kernel=linear, total=   0.0s\n",
            "[CV] C=1.3, gamma=1.4, kernel=linear .................................\n",
            "[CV] .................. C=1.3, gamma=1.4, kernel=linear, total=   0.0s\n",
            "[CV] C=1.3, gamma=1.4, kernel=linear .................................\n",
            "[CV] .................. C=1.3, gamma=1.4, kernel=linear, total=   0.0s\n",
            "[CV] C=1.3, gamma=1.4, kernel=linear .................................\n",
            "[CV] .................. C=1.3, gamma=1.4, kernel=linear, total=   0.0s\n",
            "[CV] C=1.3, gamma=1.4, kernel=linear .................................\n",
            "[CV] .................. C=1.3, gamma=1.4, kernel=linear, total=   0.0s\n",
            "[CV] C=1.3, gamma=1.4, kernel=linear .................................\n",
            "[CV] .................. C=1.3, gamma=1.4, kernel=linear, total=   0.0s\n",
            "[CV] C=1.3, gamma=1.4, kernel=linear .................................\n",
            "[CV] .................. C=1.3, gamma=1.4, kernel=linear, total=   0.0s\n",
            "[CV] C=1.3, gamma=1.4, kernel=linear .................................\n",
            "[CV] .................. C=1.3, gamma=1.4, kernel=linear, total=   0.0s\n",
            "[CV] C=1.3, gamma=1.4, kernel=linear .................................\n",
            "[CV] .................. C=1.3, gamma=1.4, kernel=linear, total=   0.0s\n",
            "[CV] C=1.3, gamma=1.4, kernel=linear .................................\n",
            "[CV] .................. C=1.3, gamma=1.4, kernel=linear, total=   0.0s\n",
            "[CV] C=1.3, gamma=1.4, kernel=rbf ....................................\n",
            "[CV] ..................... C=1.3, gamma=1.4, kernel=rbf, total=   0.0s\n",
            "[CV] C=1.3, gamma=1.4, kernel=rbf ....................................\n",
            "[CV] ..................... C=1.3, gamma=1.4, kernel=rbf, total=   0.0s\n",
            "[CV] C=1.3, gamma=1.4, kernel=rbf ....................................\n",
            "[CV] ..................... C=1.3, gamma=1.4, kernel=rbf, total=   0.0s\n",
            "[CV] C=1.3, gamma=1.4, kernel=rbf ....................................\n",
            "[CV] ..................... C=1.3, gamma=1.4, kernel=rbf, total=   0.0s\n",
            "[CV] C=1.3, gamma=1.4, kernel=rbf ....................................\n",
            "[CV] ..................... C=1.3, gamma=1.4, kernel=rbf, total=   0.0s\n",
            "[CV] C=1.3, gamma=1.4, kernel=rbf ....................................\n",
            "[CV] ..................... C=1.3, gamma=1.4, kernel=rbf, total=   0.0s\n",
            "[CV] C=1.3, gamma=1.4, kernel=rbf ....................................\n",
            "[CV] ..................... C=1.3, gamma=1.4, kernel=rbf, total=   0.0s\n",
            "[CV] C=1.3, gamma=1.4, kernel=rbf ....................................\n",
            "[CV] ..................... C=1.3, gamma=1.4, kernel=rbf, total=   0.0s\n",
            "[CV] C=1.3, gamma=1.4, kernel=rbf ....................................\n",
            "[CV] ..................... C=1.3, gamma=1.4, kernel=rbf, total=   0.0s\n",
            "[CV] C=1.3, gamma=1.4, kernel=rbf ....................................\n",
            "[CV] ..................... C=1.3, gamma=1.4, kernel=rbf, total=   0.0s\n",
            "[CV] C=1.4, gamma=0.1, kernel=linear .................................\n",
            "[CV] .................. C=1.4, gamma=0.1, kernel=linear, total=   0.0s\n",
            "[CV] C=1.4, gamma=0.1, kernel=linear .................................\n",
            "[CV] .................. C=1.4, gamma=0.1, kernel=linear, total=   0.0s\n",
            "[CV] C=1.4, gamma=0.1, kernel=linear .................................\n",
            "[CV] .................. C=1.4, gamma=0.1, kernel=linear, total=   0.0s\n",
            "[CV] C=1.4, gamma=0.1, kernel=linear .................................\n",
            "[CV] .................. C=1.4, gamma=0.1, kernel=linear, total=   0.0s\n",
            "[CV] C=1.4, gamma=0.1, kernel=linear .................................\n",
            "[CV] .................. C=1.4, gamma=0.1, kernel=linear, total=   0.0s\n",
            "[CV] C=1.4, gamma=0.1, kernel=linear .................................\n",
            "[CV] .................. C=1.4, gamma=0.1, kernel=linear, total=   0.0s\n",
            "[CV] C=1.4, gamma=0.1, kernel=linear .................................\n",
            "[CV] .................. C=1.4, gamma=0.1, kernel=linear, total=   0.0s\n",
            "[CV] C=1.4, gamma=0.1, kernel=linear .................................\n",
            "[CV] .................. C=1.4, gamma=0.1, kernel=linear, total=   0.0s\n",
            "[CV] C=1.4, gamma=0.1, kernel=linear .................................\n",
            "[CV] .................. C=1.4, gamma=0.1, kernel=linear, total=   0.0s\n",
            "[CV] C=1.4, gamma=0.1, kernel=linear .................................\n",
            "[CV] .................. C=1.4, gamma=0.1, kernel=linear, total=   0.0s\n",
            "[CV] C=1.4, gamma=0.1, kernel=rbf ....................................\n",
            "[CV] ..................... C=1.4, gamma=0.1, kernel=rbf, total=   0.0s\n",
            "[CV] C=1.4, gamma=0.1, kernel=rbf ....................................\n",
            "[CV] ..................... C=1.4, gamma=0.1, kernel=rbf, total=   0.0s\n",
            "[CV] C=1.4, gamma=0.1, kernel=rbf ....................................\n",
            "[CV] ..................... C=1.4, gamma=0.1, kernel=rbf, total=   0.0s\n",
            "[CV] C=1.4, gamma=0.1, kernel=rbf ....................................\n",
            "[CV] ..................... C=1.4, gamma=0.1, kernel=rbf, total=   0.0s\n",
            "[CV] C=1.4, gamma=0.1, kernel=rbf ....................................\n",
            "[CV] ..................... C=1.4, gamma=0.1, kernel=rbf, total=   0.0s\n",
            "[CV] C=1.4, gamma=0.1, kernel=rbf ....................................\n",
            "[CV] ..................... C=1.4, gamma=0.1, kernel=rbf, total=   0.0s\n",
            "[CV] C=1.4, gamma=0.1, kernel=rbf ....................................\n",
            "[CV] ..................... C=1.4, gamma=0.1, kernel=rbf, total=   0.0s\n",
            "[CV] C=1.4, gamma=0.1, kernel=rbf ....................................\n",
            "[CV] ..................... C=1.4, gamma=0.1, kernel=rbf, total=   0.0s\n",
            "[CV] C=1.4, gamma=0.1, kernel=rbf ....................................\n",
            "[CV] ..................... C=1.4, gamma=0.1, kernel=rbf, total=   0.0s\n",
            "[CV] C=1.4, gamma=0.1, kernel=rbf ....................................\n",
            "[CV] ..................... C=1.4, gamma=0.1, kernel=rbf, total=   0.0s\n",
            "[CV] C=1.4, gamma=0.8, kernel=linear .................................\n",
            "[CV] .................. C=1.4, gamma=0.8, kernel=linear, total=   0.0s\n",
            "[CV] C=1.4, gamma=0.8, kernel=linear .................................\n",
            "[CV] .................. C=1.4, gamma=0.8, kernel=linear, total=   0.0s\n",
            "[CV] C=1.4, gamma=0.8, kernel=linear .................................\n",
            "[CV] .................. C=1.4, gamma=0.8, kernel=linear, total=   0.0s\n",
            "[CV] C=1.4, gamma=0.8, kernel=linear .................................\n",
            "[CV] .................. C=1.4, gamma=0.8, kernel=linear, total=   0.0s\n",
            "[CV] C=1.4, gamma=0.8, kernel=linear .................................\n",
            "[CV] .................. C=1.4, gamma=0.8, kernel=linear, total=   0.0s\n",
            "[CV] C=1.4, gamma=0.8, kernel=linear .................................\n",
            "[CV] .................. C=1.4, gamma=0.8, kernel=linear, total=   0.0s\n",
            "[CV] C=1.4, gamma=0.8, kernel=linear .................................\n",
            "[CV] .................. C=1.4, gamma=0.8, kernel=linear, total=   0.0s\n",
            "[CV] C=1.4, gamma=0.8, kernel=linear .................................\n",
            "[CV] .................. C=1.4, gamma=0.8, kernel=linear, total=   0.0s\n",
            "[CV] C=1.4, gamma=0.8, kernel=linear .................................\n",
            "[CV] .................. C=1.4, gamma=0.8, kernel=linear, total=   0.0s\n",
            "[CV] C=1.4, gamma=0.8, kernel=linear .................................\n",
            "[CV] .................. C=1.4, gamma=0.8, kernel=linear, total=   0.0s\n",
            "[CV] C=1.4, gamma=0.8, kernel=rbf ....................................\n",
            "[CV] ..................... C=1.4, gamma=0.8, kernel=rbf, total=   0.0s\n",
            "[CV] C=1.4, gamma=0.8, kernel=rbf ....................................\n",
            "[CV] ..................... C=1.4, gamma=0.8, kernel=rbf, total=   0.0s\n",
            "[CV] C=1.4, gamma=0.8, kernel=rbf ....................................\n",
            "[CV] ..................... C=1.4, gamma=0.8, kernel=rbf, total=   0.0s\n",
            "[CV] C=1.4, gamma=0.8, kernel=rbf ....................................\n",
            "[CV] ..................... C=1.4, gamma=0.8, kernel=rbf, total=   0.0s\n",
            "[CV] C=1.4, gamma=0.8, kernel=rbf ....................................\n",
            "[CV] ..................... C=1.4, gamma=0.8, kernel=rbf, total=   0.0s\n",
            "[CV] C=1.4, gamma=0.8, kernel=rbf ....................................\n",
            "[CV] ..................... C=1.4, gamma=0.8, kernel=rbf, total=   0.0s\n",
            "[CV] C=1.4, gamma=0.8, kernel=rbf ....................................\n",
            "[CV] ..................... C=1.4, gamma=0.8, kernel=rbf, total=   0.0s\n",
            "[CV] C=1.4, gamma=0.8, kernel=rbf ....................................\n",
            "[CV] ..................... C=1.4, gamma=0.8, kernel=rbf, total=   0.0s\n",
            "[CV] C=1.4, gamma=0.8, kernel=rbf ....................................\n",
            "[CV] ..................... C=1.4, gamma=0.8, kernel=rbf, total=   0.0s\n",
            "[CV] C=1.4, gamma=0.8, kernel=rbf ....................................\n",
            "[CV] ..................... C=1.4, gamma=0.8, kernel=rbf, total=   0.0s\n",
            "[CV] C=1.4, gamma=0.9, kernel=linear .................................\n",
            "[CV] .................. C=1.4, gamma=0.9, kernel=linear, total=   0.0s\n",
            "[CV] C=1.4, gamma=0.9, kernel=linear .................................\n",
            "[CV] .................. C=1.4, gamma=0.9, kernel=linear, total=   0.0s\n",
            "[CV] C=1.4, gamma=0.9, kernel=linear .................................\n",
            "[CV] .................. C=1.4, gamma=0.9, kernel=linear, total=   0.0s\n",
            "[CV] C=1.4, gamma=0.9, kernel=linear .................................\n",
            "[CV] .................. C=1.4, gamma=0.9, kernel=linear, total=   0.0s\n",
            "[CV] C=1.4, gamma=0.9, kernel=linear .................................\n",
            "[CV] .................. C=1.4, gamma=0.9, kernel=linear, total=   0.0s\n",
            "[CV] C=1.4, gamma=0.9, kernel=linear .................................\n",
            "[CV] .................. C=1.4, gamma=0.9, kernel=linear, total=   0.0s\n",
            "[CV] C=1.4, gamma=0.9, kernel=linear .................................\n",
            "[CV] .................. C=1.4, gamma=0.9, kernel=linear, total=   0.0s\n",
            "[CV] C=1.4, gamma=0.9, kernel=linear .................................\n",
            "[CV] .................. C=1.4, gamma=0.9, kernel=linear, total=   0.0s\n",
            "[CV] C=1.4, gamma=0.9, kernel=linear .................................\n",
            "[CV] .................. C=1.4, gamma=0.9, kernel=linear, total=   0.0s\n",
            "[CV] C=1.4, gamma=0.9, kernel=linear .................................\n",
            "[CV] .................. C=1.4, gamma=0.9, kernel=linear, total=   0.0s\n",
            "[CV] C=1.4, gamma=0.9, kernel=rbf ....................................\n",
            "[CV] ..................... C=1.4, gamma=0.9, kernel=rbf, total=   0.0s\n",
            "[CV] C=1.4, gamma=0.9, kernel=rbf ....................................\n",
            "[CV] ..................... C=1.4, gamma=0.9, kernel=rbf, total=   0.0s\n",
            "[CV] C=1.4, gamma=0.9, kernel=rbf ....................................\n",
            "[CV] ..................... C=1.4, gamma=0.9, kernel=rbf, total=   0.0s\n",
            "[CV] C=1.4, gamma=0.9, kernel=rbf ....................................\n",
            "[CV] ..................... C=1.4, gamma=0.9, kernel=rbf, total=   0.0s\n",
            "[CV] C=1.4, gamma=0.9, kernel=rbf ....................................\n",
            "[CV] ..................... C=1.4, gamma=0.9, kernel=rbf, total=   0.0s\n",
            "[CV] C=1.4, gamma=0.9, kernel=rbf ....................................\n",
            "[CV] ..................... C=1.4, gamma=0.9, kernel=rbf, total=   0.0s\n",
            "[CV] C=1.4, gamma=0.9, kernel=rbf ....................................\n",
            "[CV] ..................... C=1.4, gamma=0.9, kernel=rbf, total=   0.0s\n",
            "[CV] C=1.4, gamma=0.9, kernel=rbf ....................................\n",
            "[CV] ..................... C=1.4, gamma=0.9, kernel=rbf, total=   0.0s\n",
            "[CV] C=1.4, gamma=0.9, kernel=rbf ....................................\n",
            "[CV] ..................... C=1.4, gamma=0.9, kernel=rbf, total=   0.0s\n",
            "[CV] C=1.4, gamma=0.9, kernel=rbf ....................................\n",
            "[CV] ..................... C=1.4, gamma=0.9, kernel=rbf, total=   0.0s\n",
            "[CV] C=1.4, gamma=1, kernel=linear ...................................\n",
            "[CV] .................... C=1.4, gamma=1, kernel=linear, total=   0.0s\n",
            "[CV] C=1.4, gamma=1, kernel=linear ...................................\n",
            "[CV] .................... C=1.4, gamma=1, kernel=linear, total=   0.0s\n",
            "[CV] C=1.4, gamma=1, kernel=linear ...................................\n",
            "[CV] .................... C=1.4, gamma=1, kernel=linear, total=   0.0s\n",
            "[CV] C=1.4, gamma=1, kernel=linear ...................................\n",
            "[CV] .................... C=1.4, gamma=1, kernel=linear, total=   0.0s\n",
            "[CV] C=1.4, gamma=1, kernel=linear ...................................\n",
            "[CV] .................... C=1.4, gamma=1, kernel=linear, total=   0.0s\n",
            "[CV] C=1.4, gamma=1, kernel=linear ...................................\n",
            "[CV] .................... C=1.4, gamma=1, kernel=linear, total=   0.0s\n",
            "[CV] C=1.4, gamma=1, kernel=linear ...................................\n",
            "[CV] .................... C=1.4, gamma=1, kernel=linear, total=   0.0s\n",
            "[CV] C=1.4, gamma=1, kernel=linear ...................................\n",
            "[CV] .................... C=1.4, gamma=1, kernel=linear, total=   0.0s\n",
            "[CV] C=1.4, gamma=1, kernel=linear ...................................\n",
            "[CV] .................... C=1.4, gamma=1, kernel=linear, total=   0.0s\n",
            "[CV] C=1.4, gamma=1, kernel=linear ...................................\n",
            "[CV] .................... C=1.4, gamma=1, kernel=linear, total=   0.0s\n",
            "[CV] C=1.4, gamma=1, kernel=rbf ......................................\n",
            "[CV] ....................... C=1.4, gamma=1, kernel=rbf, total=   0.0s\n",
            "[CV] C=1.4, gamma=1, kernel=rbf ......................................\n",
            "[CV] ....................... C=1.4, gamma=1, kernel=rbf, total=   0.0s\n",
            "[CV] C=1.4, gamma=1, kernel=rbf ......................................\n",
            "[CV] ....................... C=1.4, gamma=1, kernel=rbf, total=   0.0s\n",
            "[CV] C=1.4, gamma=1, kernel=rbf ......................................\n",
            "[CV] ....................... C=1.4, gamma=1, kernel=rbf, total=   0.0s\n",
            "[CV] C=1.4, gamma=1, kernel=rbf ......................................\n",
            "[CV] ....................... C=1.4, gamma=1, kernel=rbf, total=   0.0s\n",
            "[CV] C=1.4, gamma=1, kernel=rbf ......................................\n",
            "[CV] ....................... C=1.4, gamma=1, kernel=rbf, total=   0.0s\n",
            "[CV] C=1.4, gamma=1, kernel=rbf ......................................\n",
            "[CV] ....................... C=1.4, gamma=1, kernel=rbf, total=   0.0s\n",
            "[CV] C=1.4, gamma=1, kernel=rbf ......................................\n",
            "[CV] ....................... C=1.4, gamma=1, kernel=rbf, total=   0.0s\n",
            "[CV] C=1.4, gamma=1, kernel=rbf ......................................\n",
            "[CV] ....................... C=1.4, gamma=1, kernel=rbf, total=   0.0s\n",
            "[CV] C=1.4, gamma=1, kernel=rbf ......................................\n",
            "[CV] ....................... C=1.4, gamma=1, kernel=rbf, total=   0.0s\n",
            "[CV] C=1.4, gamma=1.1, kernel=linear .................................\n",
            "[CV] .................. C=1.4, gamma=1.1, kernel=linear, total=   0.0s\n",
            "[CV] C=1.4, gamma=1.1, kernel=linear .................................\n",
            "[CV] .................. C=1.4, gamma=1.1, kernel=linear, total=   0.0s\n",
            "[CV] C=1.4, gamma=1.1, kernel=linear .................................\n",
            "[CV] .................. C=1.4, gamma=1.1, kernel=linear, total=   0.0s\n",
            "[CV] C=1.4, gamma=1.1, kernel=linear .................................\n",
            "[CV] .................. C=1.4, gamma=1.1, kernel=linear, total=   0.0s\n",
            "[CV] C=1.4, gamma=1.1, kernel=linear .................................\n",
            "[CV] .................. C=1.4, gamma=1.1, kernel=linear, total=   0.0s\n",
            "[CV] C=1.4, gamma=1.1, kernel=linear .................................\n",
            "[CV] .................. C=1.4, gamma=1.1, kernel=linear, total=   0.0s\n",
            "[CV] C=1.4, gamma=1.1, kernel=linear .................................\n",
            "[CV] .................. C=1.4, gamma=1.1, kernel=linear, total=   0.0s\n",
            "[CV] C=1.4, gamma=1.1, kernel=linear .................................\n",
            "[CV] .................. C=1.4, gamma=1.1, kernel=linear, total=   0.0s\n",
            "[CV] C=1.4, gamma=1.1, kernel=linear .................................\n",
            "[CV] .................. C=1.4, gamma=1.1, kernel=linear, total=   0.0s\n",
            "[CV] C=1.4, gamma=1.1, kernel=linear .................................\n",
            "[CV] .................. C=1.4, gamma=1.1, kernel=linear, total=   0.0s\n",
            "[CV] C=1.4, gamma=1.1, kernel=rbf ....................................\n",
            "[CV] ..................... C=1.4, gamma=1.1, kernel=rbf, total=   0.0s\n",
            "[CV] C=1.4, gamma=1.1, kernel=rbf ....................................\n",
            "[CV] ..................... C=1.4, gamma=1.1, kernel=rbf, total=   0.0s\n",
            "[CV] C=1.4, gamma=1.1, kernel=rbf ....................................\n",
            "[CV] ..................... C=1.4, gamma=1.1, kernel=rbf, total=   0.0s\n",
            "[CV] C=1.4, gamma=1.1, kernel=rbf ....................................\n",
            "[CV] ..................... C=1.4, gamma=1.1, kernel=rbf, total=   0.0s\n",
            "[CV] C=1.4, gamma=1.1, kernel=rbf ....................................\n",
            "[CV] ..................... C=1.4, gamma=1.1, kernel=rbf, total=   0.0s\n",
            "[CV] C=1.4, gamma=1.1, kernel=rbf ....................................\n",
            "[CV] ..................... C=1.4, gamma=1.1, kernel=rbf, total=   0.0s\n",
            "[CV] C=1.4, gamma=1.1, kernel=rbf ....................................\n",
            "[CV] ..................... C=1.4, gamma=1.1, kernel=rbf, total=   0.0s\n",
            "[CV] C=1.4, gamma=1.1, kernel=rbf ....................................\n",
            "[CV] ..................... C=1.4, gamma=1.1, kernel=rbf, total=   0.0s\n",
            "[CV] C=1.4, gamma=1.1, kernel=rbf ....................................\n",
            "[CV] ..................... C=1.4, gamma=1.1, kernel=rbf, total=   0.0s\n",
            "[CV] C=1.4, gamma=1.1, kernel=rbf ....................................\n",
            "[CV] ..................... C=1.4, gamma=1.1, kernel=rbf, total=   0.0s\n",
            "[CV] C=1.4, gamma=1.2, kernel=linear .................................\n",
            "[CV] .................. C=1.4, gamma=1.2, kernel=linear, total=   0.0s\n",
            "[CV] C=1.4, gamma=1.2, kernel=linear .................................\n",
            "[CV] .................. C=1.4, gamma=1.2, kernel=linear, total=   0.0s\n",
            "[CV] C=1.4, gamma=1.2, kernel=linear .................................\n",
            "[CV] .................. C=1.4, gamma=1.2, kernel=linear, total=   0.0s\n",
            "[CV] C=1.4, gamma=1.2, kernel=linear .................................\n",
            "[CV] .................. C=1.4, gamma=1.2, kernel=linear, total=   0.0s\n",
            "[CV] C=1.4, gamma=1.2, kernel=linear .................................\n",
            "[CV] .................. C=1.4, gamma=1.2, kernel=linear, total=   0.0s\n",
            "[CV] C=1.4, gamma=1.2, kernel=linear .................................\n",
            "[CV] .................. C=1.4, gamma=1.2, kernel=linear, total=   0.0s\n",
            "[CV] C=1.4, gamma=1.2, kernel=linear .................................\n",
            "[CV] .................. C=1.4, gamma=1.2, kernel=linear, total=   0.0s\n",
            "[CV] C=1.4, gamma=1.2, kernel=linear .................................\n",
            "[CV] .................. C=1.4, gamma=1.2, kernel=linear, total=   0.0s\n",
            "[CV] C=1.4, gamma=1.2, kernel=linear .................................\n",
            "[CV] .................. C=1.4, gamma=1.2, kernel=linear, total=   0.0s\n",
            "[CV] C=1.4, gamma=1.2, kernel=linear .................................\n",
            "[CV] .................. C=1.4, gamma=1.2, kernel=linear, total=   0.0s\n",
            "[CV] C=1.4, gamma=1.2, kernel=rbf ....................................\n",
            "[CV] ..................... C=1.4, gamma=1.2, kernel=rbf, total=   0.0s\n",
            "[CV] C=1.4, gamma=1.2, kernel=rbf ....................................\n",
            "[CV] ..................... C=1.4, gamma=1.2, kernel=rbf, total=   0.0s\n",
            "[CV] C=1.4, gamma=1.2, kernel=rbf ....................................\n",
            "[CV] ..................... C=1.4, gamma=1.2, kernel=rbf, total=   0.0s\n",
            "[CV] C=1.4, gamma=1.2, kernel=rbf ....................................\n",
            "[CV] ..................... C=1.4, gamma=1.2, kernel=rbf, total=   0.0s\n",
            "[CV] C=1.4, gamma=1.2, kernel=rbf ....................................\n",
            "[CV] ..................... C=1.4, gamma=1.2, kernel=rbf, total=   0.0s\n",
            "[CV] C=1.4, gamma=1.2, kernel=rbf ....................................\n",
            "[CV] ..................... C=1.4, gamma=1.2, kernel=rbf, total=   0.0s\n",
            "[CV] C=1.4, gamma=1.2, kernel=rbf ....................................\n",
            "[CV] ..................... C=1.4, gamma=1.2, kernel=rbf, total=   0.0s\n",
            "[CV] C=1.4, gamma=1.2, kernel=rbf ....................................\n",
            "[CV] ..................... C=1.4, gamma=1.2, kernel=rbf, total=   0.0s\n",
            "[CV] C=1.4, gamma=1.2, kernel=rbf ....................................\n",
            "[CV] ..................... C=1.4, gamma=1.2, kernel=rbf, total=   0.0s\n",
            "[CV] C=1.4, gamma=1.2, kernel=rbf ....................................\n",
            "[CV] ..................... C=1.4, gamma=1.2, kernel=rbf, total=   0.0s\n",
            "[CV] C=1.4, gamma=1.3, kernel=linear .................................\n",
            "[CV] .................. C=1.4, gamma=1.3, kernel=linear, total=   0.0s\n",
            "[CV] C=1.4, gamma=1.3, kernel=linear .................................\n",
            "[CV] .................. C=1.4, gamma=1.3, kernel=linear, total=   0.0s\n",
            "[CV] C=1.4, gamma=1.3, kernel=linear .................................\n",
            "[CV] .................. C=1.4, gamma=1.3, kernel=linear, total=   0.0s\n",
            "[CV] C=1.4, gamma=1.3, kernel=linear .................................\n",
            "[CV] .................. C=1.4, gamma=1.3, kernel=linear, total=   0.0s\n",
            "[CV] C=1.4, gamma=1.3, kernel=linear .................................\n",
            "[CV] .................. C=1.4, gamma=1.3, kernel=linear, total=   0.0s\n",
            "[CV] C=1.4, gamma=1.3, kernel=linear .................................\n",
            "[CV] .................. C=1.4, gamma=1.3, kernel=linear, total=   0.0s\n",
            "[CV] C=1.4, gamma=1.3, kernel=linear .................................\n",
            "[CV] .................. C=1.4, gamma=1.3, kernel=linear, total=   0.0s\n",
            "[CV] C=1.4, gamma=1.3, kernel=linear .................................\n",
            "[CV] .................. C=1.4, gamma=1.3, kernel=linear, total=   0.0s\n",
            "[CV] C=1.4, gamma=1.3, kernel=linear .................................\n",
            "[CV] .................. C=1.4, gamma=1.3, kernel=linear, total=   0.0s\n",
            "[CV] C=1.4, gamma=1.3, kernel=linear .................................\n",
            "[CV] .................. C=1.4, gamma=1.3, kernel=linear, total=   0.0s\n",
            "[CV] C=1.4, gamma=1.3, kernel=rbf ....................................\n",
            "[CV] ..................... C=1.4, gamma=1.3, kernel=rbf, total=   0.0s\n",
            "[CV] C=1.4, gamma=1.3, kernel=rbf ....................................\n",
            "[CV] ..................... C=1.4, gamma=1.3, kernel=rbf, total=   0.0s\n",
            "[CV] C=1.4, gamma=1.3, kernel=rbf ....................................\n",
            "[CV] ..................... C=1.4, gamma=1.3, kernel=rbf, total=   0.0s\n",
            "[CV] C=1.4, gamma=1.3, kernel=rbf ....................................\n",
            "[CV] ..................... C=1.4, gamma=1.3, kernel=rbf, total=   0.0s\n",
            "[CV] C=1.4, gamma=1.3, kernel=rbf ....................................\n",
            "[CV] ..................... C=1.4, gamma=1.3, kernel=rbf, total=   0.0s\n",
            "[CV] C=1.4, gamma=1.3, kernel=rbf ....................................\n",
            "[CV] ..................... C=1.4, gamma=1.3, kernel=rbf, total=   0.0s\n",
            "[CV] C=1.4, gamma=1.3, kernel=rbf ....................................\n",
            "[CV] ..................... C=1.4, gamma=1.3, kernel=rbf, total=   0.0s\n",
            "[CV] C=1.4, gamma=1.3, kernel=rbf ....................................\n",
            "[CV] ..................... C=1.4, gamma=1.3, kernel=rbf, total=   0.0s\n",
            "[CV] C=1.4, gamma=1.3, kernel=rbf ....................................\n",
            "[CV] ..................... C=1.4, gamma=1.3, kernel=rbf, total=   0.0s\n",
            "[CV] C=1.4, gamma=1.3, kernel=rbf ....................................\n",
            "[CV] ..................... C=1.4, gamma=1.3, kernel=rbf, total=   0.0s\n",
            "[CV] C=1.4, gamma=1.4, kernel=linear .................................\n",
            "[CV] .................. C=1.4, gamma=1.4, kernel=linear, total=   0.0s\n",
            "[CV] C=1.4, gamma=1.4, kernel=linear .................................\n",
            "[CV] .................. C=1.4, gamma=1.4, kernel=linear, total=   0.0s\n",
            "[CV] C=1.4, gamma=1.4, kernel=linear .................................\n",
            "[CV] .................. C=1.4, gamma=1.4, kernel=linear, total=   0.0s\n",
            "[CV] C=1.4, gamma=1.4, kernel=linear .................................\n",
            "[CV] .................. C=1.4, gamma=1.4, kernel=linear, total=   0.0s\n",
            "[CV] C=1.4, gamma=1.4, kernel=linear .................................\n",
            "[CV] .................. C=1.4, gamma=1.4, kernel=linear, total=   0.0s\n",
            "[CV] C=1.4, gamma=1.4, kernel=linear .................................\n",
            "[CV] .................. C=1.4, gamma=1.4, kernel=linear, total=   0.0s\n",
            "[CV] C=1.4, gamma=1.4, kernel=linear .................................\n",
            "[CV] .................. C=1.4, gamma=1.4, kernel=linear, total=   0.0s\n",
            "[CV] C=1.4, gamma=1.4, kernel=linear .................................\n",
            "[CV] .................. C=1.4, gamma=1.4, kernel=linear, total=   0.0s\n",
            "[CV] C=1.4, gamma=1.4, kernel=linear .................................\n",
            "[CV] .................. C=1.4, gamma=1.4, kernel=linear, total=   0.0s\n",
            "[CV] C=1.4, gamma=1.4, kernel=linear .................................\n",
            "[CV] .................. C=1.4, gamma=1.4, kernel=linear, total=   0.0s\n",
            "[CV] C=1.4, gamma=1.4, kernel=rbf ....................................\n",
            "[CV] ..................... C=1.4, gamma=1.4, kernel=rbf, total=   0.0s\n",
            "[CV] C=1.4, gamma=1.4, kernel=rbf ....................................\n",
            "[CV] ..................... C=1.4, gamma=1.4, kernel=rbf, total=   0.0s\n",
            "[CV] C=1.4, gamma=1.4, kernel=rbf ....................................\n",
            "[CV] ..................... C=1.4, gamma=1.4, kernel=rbf, total=   0.0s\n",
            "[CV] C=1.4, gamma=1.4, kernel=rbf ....................................\n",
            "[CV] ..................... C=1.4, gamma=1.4, kernel=rbf, total=   0.0s\n",
            "[CV] C=1.4, gamma=1.4, kernel=rbf ....................................\n",
            "[CV] ..................... C=1.4, gamma=1.4, kernel=rbf, total=   0.0s\n",
            "[CV] C=1.4, gamma=1.4, kernel=rbf ....................................\n",
            "[CV] ..................... C=1.4, gamma=1.4, kernel=rbf, total=   0.0s\n",
            "[CV] C=1.4, gamma=1.4, kernel=rbf ....................................\n",
            "[CV] ..................... C=1.4, gamma=1.4, kernel=rbf, total=   0.0s\n",
            "[CV] C=1.4, gamma=1.4, kernel=rbf ....................................\n",
            "[CV] ..................... C=1.4, gamma=1.4, kernel=rbf, total=   0.0s\n",
            "[CV] C=1.4, gamma=1.4, kernel=rbf ....................................\n",
            "[CV] ..................... C=1.4, gamma=1.4, kernel=rbf, total=   0.0s\n",
            "[CV] C=1.4, gamma=1.4, kernel=rbf ....................................\n",
            "[CV] ..................... C=1.4, gamma=1.4, kernel=rbf, total=   0.0s\n"
          ],
          "name": "stdout"
        },
        {
          "output_type": "stream",
          "text": [
            "[Parallel(n_jobs=1)]: Done 1280 out of 1280 | elapsed:   17.7s finished\n"
          ],
          "name": "stderr"
        },
        {
          "output_type": "execute_result",
          "data": {
            "text/plain": [
              "GridSearchCV(cv=10, error_score=nan,\n",
              "             estimator=SVC(C=1.0, break_ties=False, cache_size=200,\n",
              "                           class_weight=None, coef0=0.0,\n",
              "                           decision_function_shape='ovr', degree=3,\n",
              "                           gamma='scale', kernel='rbf', max_iter=-1,\n",
              "                           probability=False, random_state=None, shrinking=True,\n",
              "                           tol=0.001, verbose=False),\n",
              "             iid='deprecated', n_jobs=None,\n",
              "             param_grid={'C': [0.1, 0.8, 0.9, 1, 1.1, 1.2, 1.3, 1.4],\n",
              "                         'gamma': [0.1, 0.8, 0.9, 1, 1.1, 1.2, 1.3, 1.4],\n",
              "                         'kernel': ['linear', 'rbf']},\n",
              "             pre_dispatch='2*n_jobs', refit=True, return_train_score=False,\n",
              "             scoring='accuracy', verbose=2)"
            ]
          },
          "metadata": {
            "tags": []
          },
          "execution_count": 28
        },
        {
          "output_type": "execute_result",
          "data": {
            "text/plain": [
              "{'C': 0.8, 'gamma': 0.1, 'kernel': 'linear'}"
            ]
          },
          "metadata": {
            "tags": []
          },
          "execution_count": 28
        }
      ]
    },
    {
      "cell_type": "markdown",
      "metadata": {
        "id": "LxVV3ZpUaf-j"
      },
      "source": [
        "# Re-running model with best parametres"
      ]
    },
    {
      "cell_type": "code",
      "metadata": {
        "id": "DVstJsAoTszn",
        "colab": {
          "base_uri": "https://localhost:8080/",
          "height": 1000
        },
        "outputId": "dd6371fa-b179-4306-ac70-b5973a7ef363"
      },
      "source": [
        "# Re-running model with best parametres\n",
        "svc1 = SVC(C = 0.8, gamma = 0.1, kernel = 'linear')\n",
        "svc1.fit(X_train, y_train)\n",
        "y_hat_test = svc1.predict(X_test)\n",
        "#print(accuracy_score(y_test, y_hat_test))\n",
        "metrics(svc1, y_train, y_test, y_hat_train, y_hat_test)\n",
        "svcgrid_test_acc = round(accuracy_score(y_test, y_hat_test), 2)\n",
        "\n",
        "svcgrid_test_acc"
      ],
      "execution_count": 29,
      "outputs": [
        {
          "output_type": "execute_result",
          "data": {
            "text/plain": [
              "SVC(C=0.8, break_ties=False, cache_size=200, class_weight=None, coef0=0.0,\n",
              "    decision_function_shape='ovr', degree=3, gamma=0.1, kernel='linear',\n",
              "    max_iter=-1, probability=False, random_state=None, shrinking=True,\n",
              "    tol=0.001, verbose=False)"
            ]
          },
          "metadata": {
            "tags": []
          },
          "execution_count": 29
        },
        {
          "output_type": "stream",
          "text": [
            "Model: SVC(C=0.8, break_ties=False, cache_size=200, class_weight=None, coef0=0.0,\n",
            "    decision_function_shape='ovr', degree=3, gamma=0.1, kernel='linear',\n",
            "    max_iter=-1, probability=False, random_state=None, shrinking=True,\n",
            "    tol=0.001, verbose=False)\n",
            "------------------------------------------------------------\n"
          ],
          "name": "stdout"
        },
        {
          "output_type": "display_data",
          "data": {
            "image/png": "[encoded data removed]",
            "text/plain": [
              "<Figure size 432x288 with 2 Axes>"
            ]
          },
          "metadata": {
            "tags": []
          }
        },
        {
          "output_type": "stream",
          "text": [
            "test accuracy: 1.0\n",
            "train accuracy: 0.44\n",
            "------------------------------------------------------------\n",
            "------------------------------------------------------------\n",
            "Confusion Matrix:\n",
            " Predicted    0    1  All\n",
            "Actual                  \n",
            "0          129    0  129\n",
            "1            0  293  293\n",
            "All        129  293  422\n",
            "\n",
            "test report:\n",
            "              precision    recall  f1-score   support\n",
            "\n",
            "           0       1.00      1.00      1.00       129\n",
            "           1       1.00      1.00      1.00       293\n",
            "\n",
            "    accuracy                           1.00       422\n",
            "   macro avg       1.00      1.00      1.00       422\n",
            "weighted avg       1.00      1.00      1.00       422\n",
            "\n",
            "~~~~~~~~~~~~~~~~~~~~~~~~~~~~~~~~~~~~~~~~~~~~~~~~~~~~~~~~~~~~\n",
            "\n",
            "train report:\n",
            "              precision    recall  f1-score   support\n",
            "\n",
            "           0       0.36      1.00      0.53       197\n",
            "           1       1.00      0.18      0.31       435\n",
            "\n",
            "    accuracy                           0.44       632\n",
            "   macro avg       0.68      0.59      0.42       632\n",
            "weighted avg       0.80      0.44      0.38       632\n",
            "\n",
            "------------------------------------------------------------\n"
          ],
          "name": "stdout"
        },
        {
          "output_type": "execute_result",
          "data": {
            "text/plain": [
              "1.0"
            ]
          },
          "metadata": {
            "tags": []
          },
          "execution_count": 29
        }
      ]
    },
    {
      "cell_type": "markdown",
      "metadata": {
        "id": "p1_gbmtdSDiP"
      },
      "source": [
        "### Support vector machine model after hypertunned by grid search ran into underfitting so this model is rejected."
      ]
    },
    {
      "cell_type": "markdown",
      "metadata": {
        "id": "NPBmxOMEri3L"
      },
      "source": [
        "## Random Forest( Grid search and pipeline )\n",
        "Grid search algorithm is used to make exhaustive search of hyper parameters.\n",
        "\n",
        "Pipeline is used to streamline the routine processes."
      ]
    },
    {
      "cell_type": "markdown",
      "metadata": {
        "id": "B9hvYcth20tI"
      },
      "source": [
        "\n",
        "#Instantiate the pipeline"
      ]
    },
    {
      "cell_type": "code",
      "metadata": {
        "id": "A2AvDVEqrkPA"
      },
      "source": [
        "\n",
        "#Instantiate the pipeline\n",
        "from sklearn.pipeline import Pipeline\n",
        "\n",
        "pipe = Pipeline([('classifier', RandomForestClassifier(random_state=123))])\n"
      ],
      "execution_count": 30,
      "outputs": []
    },
    {
      "cell_type": "markdown",
      "metadata": {
        "id": "qd5xCqrS24iw"
      },
      "source": [
        "# Define the grid\n"
      ]
    },
    {
      "cell_type": "code",
      "metadata": {
        "id": "VcSoVjXXr5ju"
      },
      "source": [
        "grid = [{'classifier__criterion': ['gini', 'entropy'],\n",
        "         'classifier__n_estimators':[10, 20, 50, 100],\n",
        "         'classifier__max_depth': [None, 5, 3, 10],\n",
        "         'classifier__min_samples_split': [1.0, 6, 10],\n",
        "         'classifier__min_samples_leaf': [1,  6, 10],\n",
        "         'classifier__class_weight':['balanced']}]"
      ],
      "execution_count": 31,
      "outputs": []
    },
    {
      "cell_type": "markdown",
      "metadata": {
        "id": "lWQy1Adh3FJx"
      },
      "source": [
        "# Instantiate, fit and predict"
      ]
    },
    {
      "cell_type": "code",
      "metadata": {
        "id": "qU3Mdq5-18Nr",
        "colab": {
          "base_uri": "https://localhost:8080/"
        },
        "outputId": "da784ff2-6c1c-4633-8d90-5774d59e8347"
      },
      "source": [
        "clf = GridSearchCV(estimator=pipe, param_grid=grid,\n",
        "                   cv=5, scoring='roc_auc', n_jobs=-1)\n",
        "clf.fit(X_train, y_train)\n",
        "y_hat_train = clf.predict(X_train)\n",
        "y_hat_test = clf.predict(X_test)"
      ],
      "execution_count": 32,
      "outputs": [
        {
          "output_type": "execute_result",
          "data": {
            "text/plain": [
              "GridSearchCV(cv=5, error_score=nan,\n",
              "             estimator=Pipeline(memory=None,\n",
              "                                steps=[('classifier',\n",
              "                                        RandomForestClassifier(bootstrap=True,\n",
              "                                                               ccp_alpha=0.0,\n",
              "                                                               class_weight=None,\n",
              "                                                               criterion='gini',\n",
              "                                                               max_depth=None,\n",
              "                                                               max_features='auto',\n",
              "                                                               max_leaf_nodes=None,\n",
              "                                                               max_samples=None,\n",
              "                                                               min_impurity_decrease=0.0,\n",
              "                                                               min_impurity_split=None,\n",
              "                                                               min_samples_leaf=1,\n",
              "                                                               min_samples_split=2,\n",
              "                                                               min_weight_fract...\n",
              "             iid='deprecated', n_jobs=-1,\n",
              "             param_grid=[{'classifier__class_weight': ['balanced'],\n",
              "                          'classifier__criterion': ['gini', 'entropy'],\n",
              "                          'classifier__max_depth': [None, 5, 3, 10],\n",
              "                          'classifier__min_samples_leaf': [1, 6, 10],\n",
              "                          'classifier__min_samples_split': [1.0, 6, 10],\n",
              "                          'classifier__n_estimators': [10, 20, 50, 100]}],\n",
              "             pre_dispatch='2*n_jobs', refit=True, return_train_score=False,\n",
              "             scoring='roc_auc', verbose=0)"
            ]
          },
          "metadata": {
            "tags": []
          },
          "execution_count": 32
        }
      ]
    },
    {
      "cell_type": "markdown",
      "metadata": {
        "id": "HnBssZbx3WyI"
      },
      "source": [
        "# Print evaluation metrics"
      ]
    },
    {
      "cell_type": "code",
      "metadata": {
        "id": "mZT3I2vT2IXo",
        "colab": {
          "base_uri": "https://localhost:8080/",
          "height": 1000
        },
        "outputId": "5cfce282-45cf-4fe1-beed-a0536c089957"
      },
      "source": [
        "\n",
        "metrics(clf, y_train, y_test, y_hat_train, y_hat_test)\n"
      ],
      "execution_count": 33,
      "outputs": [
        {
          "output_type": "stream",
          "text": [
            "Model: GridSearchCV(cv=5, error_score=nan,\n",
            "             estimator=Pipeline(memory=None,\n",
            "                                steps=[('classifier',\n",
            "                                        RandomForestClassifier(bootstrap=True,\n",
            "                                                               ccp_alpha=0.0,\n",
            "                                                               class_weight=None,\n",
            "                                                               criterion='gini',\n",
            "                                                               max_depth=None,\n",
            "                                                               max_features='auto',\n",
            "                                                               max_leaf_nodes=None,\n",
            "                                                               max_samples=None,\n",
            "                                                               min_impurity_decrease=0.0,\n",
            "                                                               min_impurity_split=None,\n",
            "                                                               min_samples_leaf=1,\n",
            "                                                               min_samples_split=2,\n",
            "                                                               min_weight_fract...\n",
            "             iid='deprecated', n_jobs=-1,\n",
            "             param_grid=[{'classifier__class_weight': ['balanced'],\n",
            "                          'classifier__criterion': ['gini', 'entropy'],\n",
            "                          'classifier__max_depth': [None, 5, 3, 10],\n",
            "                          'classifier__min_samples_leaf': [1, 6, 10],\n",
            "                          'classifier__min_samples_split': [1.0, 6, 10],\n",
            "                          'classifier__n_estimators': [10, 20, 50, 100]}],\n",
            "             pre_dispatch='2*n_jobs', refit=True, return_train_score=False,\n",
            "             scoring='roc_auc', verbose=0)\n",
            "------------------------------------------------------------\n"
          ],
          "name": "stdout"
        },
        {
          "output_type": "display_data",
          "data": {
            "image/png": "[encoded data removed]",
            "text/plain": [
              "<Figure size 432x288 with 2 Axes>"
            ]
          },
          "metadata": {
            "tags": []
          }
        },
        {
          "output_type": "stream",
          "text": [
            "test accuracy: 0.96\n",
            "train accuracy: 0.98\n",
            "------------------------------------------------------------\n",
            "------------------------------------------------------------\n",
            "Confusion Matrix:\n",
            " Predicted    0    1  All\n",
            "Actual                  \n",
            "0          122    7  129\n",
            "1            8  285  293\n",
            "All        130  292  422\n",
            "\n",
            "test report:\n",
            "              precision    recall  f1-score   support\n",
            "\n",
            "           0       0.94      0.95      0.94       129\n",
            "           1       0.98      0.97      0.97       293\n",
            "\n",
            "    accuracy                           0.96       422\n",
            "   macro avg       0.96      0.96      0.96       422\n",
            "weighted avg       0.96      0.96      0.96       422\n",
            "\n",
            "~~~~~~~~~~~~~~~~~~~~~~~~~~~~~~~~~~~~~~~~~~~~~~~~~~~~~~~~~~~~\n",
            "\n",
            "train report:\n",
            "              precision    recall  f1-score   support\n",
            "\n",
            "           0       0.94      1.00      0.97       197\n",
            "           1       1.00      0.97      0.99       435\n",
            "\n",
            "    accuracy                           0.98       632\n",
            "   macro avg       0.97      0.99      0.98       632\n",
            "weighted avg       0.98      0.98      0.98       632\n",
            "\n",
            "------------------------------------------------------------\n"
          ],
          "name": "stdout"
        }
      ]
    },
    {
      "cell_type": "markdown",
      "metadata": {
        "id": "c5yeVpVF3lkC"
      },
      "source": [
        "# Best Scores"
      ]
    },
    {
      "cell_type": "code",
      "metadata": {
        "id": "BBvzouFb2WOc",
        "colab": {
          "base_uri": "https://localhost:8080/"
        },
        "outputId": "8e6f34e2-e336-4815-9896-d627f4652c27"
      },
      "source": [
        "print(clf.score(X_train, y_train))\n",
        "print(clf.score(X_test, y_test))"
      ],
      "execution_count": 34,
      "outputs": [
        {
          "output_type": "stream",
          "text": [
            "0.9998599684929109\n",
            "0.9952377172791491\n"
          ],
          "name": "stdout"
        }
      ]
    },
    {
      "cell_type": "markdown",
      "metadata": {
        "id": "7k5J_gX833qd"
      },
      "source": [
        "# Best Parameters¶"
      ]
    },
    {
      "cell_type": "code",
      "metadata": {
        "id": "eYCr_ktH2YLE",
        "colab": {
          "base_uri": "https://localhost:8080/"
        },
        "outputId": "5fff16bc-6385-40b3-c09c-d14f13cc1951"
      },
      "source": [
        "clf.best_params_"
      ],
      "execution_count": 35,
      "outputs": [
        {
          "output_type": "execute_result",
          "data": {
            "text/plain": [
              "{'classifier__class_weight': 'balanced',\n",
              " 'classifier__criterion': 'entropy',\n",
              " 'classifier__max_depth': 10,\n",
              " 'classifier__min_samples_leaf': 1,\n",
              " 'classifier__min_samples_split': 10,\n",
              " 'classifier__n_estimators': 100}"
            ]
          },
          "metadata": {
            "tags": []
          },
          "execution_count": 35
        }
      ]
    },
    {
      "cell_type": "code",
      "metadata": {
        "id": "XXLwN_JclDUK",
        "colab": {
          "base_uri": "https://localhost:8080/"
        },
        "outputId": "6d708e08-cff9-41a4-fd23-650c0ba6d4e6"
      },
      "source": [
        "# Research best estimator from grid\n",
        "best_clf_estimator = clf.best_estimator_\n",
        "best_clf_estimator.fit(X_train,y_train)"
      ],
      "execution_count": 36,
      "outputs": [
        {
          "output_type": "execute_result",
          "data": {
            "text/plain": [
              "Pipeline(memory=None,\n",
              "         steps=[('classifier',\n",
              "                 RandomForestClassifier(bootstrap=True, ccp_alpha=0.0,\n",
              "                                        class_weight='balanced',\n",
              "                                        criterion='entropy', max_depth=10,\n",
              "                                        max_features='auto',\n",
              "                                        max_leaf_nodes=None, max_samples=None,\n",
              "                                        min_impurity_decrease=0.0,\n",
              "                                        min_impurity_split=None,\n",
              "                                        min_samples_leaf=1,\n",
              "                                        min_samples_split=10,\n",
              "                                        min_weight_fraction_leaf=0.0,\n",
              "                                        n_estimators=100, n_jobs=None,\n",
              "                                        oob_score=False, random_state=123,\n",
              "                                        verbose=0, warm_start=False))],\n",
              "         verbose=False)"
            ]
          },
          "metadata": {
            "tags": []
          },
          "execution_count": 36
        }
      ]
    },
    {
      "cell_type": "code",
      "metadata": {
        "id": "g48QeTwil83J",
        "colab": {
          "base_uri": "https://localhost:8080/",
          "height": 1000
        },
        "outputId": "8a2e63cf-b2fc-47bd-cd9f-d4416b620779"
      },
      "source": [
        "#Predictions\n",
        "y_hat_train=best_clf_estimator.predict(X_train)\n",
        "y_hat_test = best_clf_estimator.predict(X_test)\n",
        "results=metrics(best_clf_estimator, y_train, y_test, y_hat_train, y_hat_test)\n",
        "rf_gridsearch_test_acc = round(accuracy_score(y_test,y_hat_test), 2)\n",
        "rf_gridsearch_test_acc"
      ],
      "execution_count": 37,
      "outputs": [
        {
          "output_type": "stream",
          "text": [
            "Model: Pipeline(memory=None,\n",
            "         steps=[('classifier',\n",
            "                 RandomForestClassifier(bootstrap=True, ccp_alpha=0.0,\n",
            "                                        class_weight='balanced',\n",
            "                                        criterion='entropy', max_depth=10,\n",
            "                                        max_features='auto',\n",
            "                                        max_leaf_nodes=None, max_samples=None,\n",
            "                                        min_impurity_decrease=0.0,\n",
            "                                        min_impurity_split=None,\n",
            "                                        min_samples_leaf=1,\n",
            "                                        min_samples_split=10,\n",
            "                                        min_weight_fraction_leaf=0.0,\n",
            "                                        n_estimators=100, n_jobs=None,\n",
            "                                        oob_score=False, random_state=123,\n",
            "                                        verbose=0, warm_start=False))],\n",
            "         verbose=False)\n",
            "------------------------------------------------------------\n"
          ],
          "name": "stdout"
        },
        {
          "output_type": "display_data",
          "data": {
            "image/png": "[encoded data removed]",
            "text/plain": [
              "<Figure size 432x288 with 2 Axes>"
            ]
          },
          "metadata": {
            "tags": []
          }
        },
        {
          "output_type": "stream",
          "text": [
            "test accuracy: 0.96\n",
            "train accuracy: 0.98\n",
            "------------------------------------------------------------\n",
            "------------------------------------------------------------\n",
            "Confusion Matrix:\n",
            " Predicted    0    1  All\n",
            "Actual                  \n",
            "0          122    7  129\n",
            "1            8  285  293\n",
            "All        130  292  422\n",
            "\n",
            "test report:\n",
            "              precision    recall  f1-score   support\n",
            "\n",
            "           0       0.94      0.95      0.94       129\n",
            "           1       0.98      0.97      0.97       293\n",
            "\n",
            "    accuracy                           0.96       422\n",
            "   macro avg       0.96      0.96      0.96       422\n",
            "weighted avg       0.96      0.96      0.96       422\n",
            "\n",
            "~~~~~~~~~~~~~~~~~~~~~~~~~~~~~~~~~~~~~~~~~~~~~~~~~~~~~~~~~~~~\n",
            "\n",
            "train report:\n",
            "              precision    recall  f1-score   support\n",
            "\n",
            "           0       0.94      1.00      0.97       197\n",
            "           1       1.00      0.97      0.99       435\n",
            "\n",
            "    accuracy                           0.98       632\n",
            "   macro avg       0.97      0.99      0.98       632\n",
            "weighted avg       0.98      0.98      0.98       632\n",
            "\n",
            "------------------------------------------------------------\n"
          ],
          "name": "stdout"
        },
        {
          "output_type": "execute_result",
          "data": {
            "text/plain": [
              "0.96"
            ]
          },
          "metadata": {
            "tags": []
          },
          "execution_count": 37
        }
      ]
    },
    {
      "cell_type": "markdown",
      "metadata": {
        "id": "hfn9ZMTq3_W9"
      },
      "source": [
        "# Precision-Recall Curve"
      ]
    },
    {
      "cell_type": "markdown",
      "metadata": {
        "id": "PhfCEnaJ2oVh"
      },
      "source": [
        "# Interpreting the results of the second Random Forest model\n",
        " Random forest classifier before hyper tune Recall was 47% and after hyper tuning recall is 97%, also False-negative 156/422=37% before hyper tune but after hyper tune the false negative is only 8/422 = 0.02% meaning this model misclassifies only 0.02% and this is great mode.lWe have a weighted average recall and precision of 0.96 ain the test set. We don't have overfitting. It means we are able to detect the positive autism patient 96%.\n",
        "\n",
        "We used pipelines to prevent data leakage and to have clean code."
      ]
    },
    {
      "cell_type": "code",
      "metadata": {
        "id": "-O3zPiGxePjA",
        "colab": {
          "base_uri": "https://localhost:8080/",
          "height": 497
        },
        "outputId": "f8b486c2-437b-4517-f102-37e5b9ec0d71"
      },
      "source": [
        "plot_feature_importances(model)"
      ],
      "execution_count": 38,
      "outputs": [
        {
          "output_type": "display_data",
          "data": {
            "image/png": "[encoded data removed]",
            "text/plain": [
              "<Figure size 576x576 with 1 Axes>"
            ]
          },
          "metadata": {
            "tags": []
          }
        }
      ]
    },
    {
      "cell_type": "markdown",
      "metadata": {
        "id": "I4X7FRxN9MEb"
      },
      "source": [
        "# A9 is the most important feature, other important features are A6, A5, and A8. Features named A are answers to the questions. If the patient answers yes to the question, the feature gets 1 for yes. As many 1 was in each column, The column got its importance. Ethnicity and age in months are important features, Jandice and the type of gender'sex' are less important features. Genes in this study which appear through the column of a family member with ASD is not an important feature, and that's actually against the worldwide studies. I can refer to the small size of the sample under study."
      ]
    },
    {
      "cell_type": "markdown",
      "metadata": {
        "id": "W2Zx7x72M_Yq"
      },
      "source": [
        "# Neural Network Classifier Using SKLearn"
      ]
    },
    {
      "cell_type": "code",
      "metadata": {
        "id": "T-kIe9HINxUP",
        "colab": {
          "base_uri": "https://localhost:8080/",
          "height": 1000
        },
        "outputId": "6c5a6c55-2026-471f-ce52-e2a6736ed406"
      },
      "source": [
        "##Applying MLPClassifier Model \n",
        "from sklearn.neural_network import MLPClassifier\n",
        "MLPClassifierModel = MLPClassifier(activation='tanh', # can be also identity , logistic , relu\n",
        "                                   solver='lbfgs',  # can be also sgd , adam\n",
        "                                   learning_rate='constant', # can be also invscaling , adaptive\n",
        "                                   early_stopping= False,\n",
        "                                   alpha=0.0001 ,hidden_layer_sizes=(100, 3),random_state=33)\n",
        "MLPClassifierModel.fit(X_train, y_train)\n",
        "#Calculating Prediction\n",
        "y_hat_test = MLPClassifierModel.predict(X_test)\n",
        "y_hat_train = MLPClassifierModel.predict(X_train)\n",
        "\n",
        "results=metrics(MLPClassifierModel, y_train, y_test, y_hat_train, y_hat_test)\n",
        "\n",
        "#Calculating Accuracy Score  \n",
        "nn_sklearn_test_acc = round(accuracy_score(y_test, y_hat_test, normalize=True),2)\n",
        "\n",
        "print('Accuracy Score is : ', nn_sklearn_test_acc)\n"
      ],
      "execution_count": 39,
      "outputs": [
        {
          "output_type": "execute_result",
          "data": {
            "text/plain": [
              "MLPClassifier(activation='tanh', alpha=0.0001, batch_size='auto', beta_1=0.9,\n",
              "              beta_2=0.999, early_stopping=False, epsilon=1e-08,\n",
              "              hidden_layer_sizes=(100, 3), learning_rate='constant',\n",
              "              learning_rate_init=0.001, max_fun=15000, max_iter=200,\n",
              "              momentum=0.9, n_iter_no_change=10, nesterovs_momentum=True,\n",
              "              power_t=0.5, random_state=33, shuffle=True, solver='lbfgs',\n",
              "              tol=0.0001, validation_fraction=0.1, verbose=False,\n",
              "              warm_start=False)"
            ]
          },
          "metadata": {
            "tags": []
          },
          "execution_count": 39
        },
        {
          "output_type": "stream",
          "text": [
            "Model: MLPClassifier(activation='tanh', alpha=0.0001, batch_size='auto', beta_1=0.9,\n",
            "              beta_2=0.999, early_stopping=False, epsilon=1e-08,\n",
            "              hidden_layer_sizes=(100, 3), learning_rate='constant',\n",
            "              learning_rate_init=0.001, max_fun=15000, max_iter=200,\n",
            "              momentum=0.9, n_iter_no_change=10, nesterovs_momentum=True,\n",
            "              power_t=0.5, random_state=33, shuffle=True, solver='lbfgs',\n",
            "              tol=0.0001, validation_fraction=0.1, verbose=False,\n",
            "              warm_start=False)\n",
            "------------------------------------------------------------\n"
          ],
          "name": "stdout"
        },
        {
          "output_type": "display_data",
          "data": {
            "image/png": "[encoded data removed]",
            "text/plain": [
              "<Figure size 432x288 with 2 Axes>"
            ]
          },
          "metadata": {
            "tags": []
          }
        },
        {
          "output_type": "stream",
          "text": [
            "test accuracy: 0.99\n",
            "train accuracy: 1.0\n",
            "------------------------------------------------------------\n",
            "------------------------------------------------------------\n",
            "Confusion Matrix:\n",
            " Predicted    0    1  All\n",
            "Actual                  \n",
            "0          125    4  129\n",
            "1            2  291  293\n",
            "All        127  295  422\n",
            "\n",
            "test report:\n",
            "              precision    recall  f1-score   support\n",
            "\n",
            "           0       0.98      0.97      0.98       129\n",
            "           1       0.99      0.99      0.99       293\n",
            "\n",
            "    accuracy                           0.99       422\n",
            "   macro avg       0.99      0.98      0.98       422\n",
            "weighted avg       0.99      0.99      0.99       422\n",
            "\n",
            "~~~~~~~~~~~~~~~~~~~~~~~~~~~~~~~~~~~~~~~~~~~~~~~~~~~~~~~~~~~~\n",
            "\n",
            "train report:\n",
            "              precision    recall  f1-score   support\n",
            "\n",
            "           0       1.00      1.00      1.00       197\n",
            "           1       1.00      1.00      1.00       435\n",
            "\n",
            "    accuracy                           1.00       632\n",
            "   macro avg       1.00      1.00      1.00       632\n",
            "weighted avg       1.00      1.00      1.00       632\n",
            "\n",
            "------------------------------------------------------------\n",
            "Accuracy Score is :  0.99\n"
          ],
          "name": "stdout"
        }
      ]
    },
    {
      "cell_type": "markdown",
      "metadata": {
        "id": "bziIOzZPW28h"
      },
      "source": [
        "Ths model is great based on train, test and recall accuracy, so I highly recommend it."
      ]
    },
    {
      "cell_type": "markdown",
      "metadata": {
        "id": "hMK8CBl9xPje"
      },
      "source": [
        "\n",
        "#Neural Network Classifier Using Keras Library"
      ]
    },
    {
      "cell_type": "code",
      "metadata": {
        "id": "j0chENpGopch",
        "colab": {
          "base_uri": "https://localhost:8080/"
        },
        "outputId": "4008ad4c-06f7-422a-e9c0-1812b0d492eb"
      },
      "source": [
        "# Define simple neural network model\n",
        "# Keras\n",
        "\n",
        "from keras.models import Sequential\n",
        "from keras.layers import *\n",
        "from keras.optimizers import Adam, RMSprop\n",
        "\n",
        "\n",
        "\n",
        "\n",
        "\n",
        "model = Sequential()\n",
        "# Define Input Layer wits 15 features as an input\n",
        "model.add(Dense(15, input_dim=15, activation='relu'))\n",
        "#model.add(Dense(1, activation='sigmoid'))\n",
        "#single output layer with one neuron since we only want to predict two classes either yes autisim =1 or no autisim=zero\n",
        "model.add(Dense(activation = 'sigmoid', units = 1))\n",
        "\n",
        "\n",
        "# Compile the Neural network\n",
        "model.compile(loss='binary_crossentropy', # we use binarray here becuase we just have 2 classes\n",
        "             optimizer = Adam(lr=0.0001, decay=1e-5), ### learning rate 0.0001\n",
        "              metrics=['acc'])\n",
        "# Fit to training data\n",
        "model.fit(X_train, y_train, epochs=5,  \n",
        "          validation_data=(X_test, y_test))"
      ],
      "execution_count": 40,
      "outputs": [
        {
          "output_type": "stream",
          "text": [
            "Epoch 1/5\n",
            "20/20 [==============================] - 3s 24ms/step - loss: 3.5386 - acc: 0.3268 - val_loss: 3.4075 - val_acc: 0.3057\n",
            "Epoch 2/5\n",
            "20/20 [==============================] - 0s 5ms/step - loss: 3.2815 - acc: 0.3030 - val_loss: 3.2262 - val_acc: 0.3057\n",
            "Epoch 3/5\n",
            "20/20 [==============================] - 0s 4ms/step - loss: 3.0180 - acc: 0.3361 - val_loss: 3.0470 - val_acc: 0.3057\n",
            "Epoch 4/5\n",
            "20/20 [==============================] - 0s 4ms/step - loss: 3.0572 - acc: 0.2994 - val_loss: 2.8696 - val_acc: 0.3057\n",
            "Epoch 5/5\n",
            "20/20 [==============================] - 0s 4ms/step - loss: 2.8039 - acc: 0.3126 - val_loss: 2.6951 - val_acc: 0.3057\n"
          ],
          "name": "stdout"
        },
        {
          "output_type": "execute_result",
          "data": {
            "text/plain": [
              "<tensorflow.python.keras.callbacks.History at 0x7f85c796c748>"
            ]
          },
          "metadata": {
            "tags": []
          },
          "execution_count": 40
        }
      ]
    },
    {
      "cell_type": "markdown",
      "metadata": {
        "id": "JcgexCv-bE9C"
      },
      "source": [
        "###  collecting the summary of our neural network paramters\n"
      ]
    },
    {
      "cell_type": "code",
      "metadata": {
        "id": "9Ir5MOuGuUxw",
        "colab": {
          "base_uri": "https://localhost:8080/"
        },
        "outputId": "978bf567-8294-4b47-9090-e58cc8d93ff4"
      },
      "source": [
        "# collecting the summary of our neural network paramters\n",
        "model.summary()\n"
      ],
      "execution_count": 41,
      "outputs": [
        {
          "output_type": "stream",
          "text": [
            "Model: \"sequential\"\n",
            "_________________________________________________________________\n",
            "Layer (type)                 Output Shape              Param #   \n",
            "=================================================================\n",
            "dense (Dense)                (None, 15)                240       \n",
            "_________________________________________________________________\n",
            "dense_1 (Dense)              (None, 1)                 16        \n",
            "=================================================================\n",
            "Total params: 256\n",
            "Trainable params: 256\n",
            "Non-trainable params: 0\n",
            "_________________________________________________________________\n"
          ],
          "name": "stdout"
        }
      ]
    },
    {
      "cell_type": "markdown",
      "metadata": {
        "id": "q5wJXdKmkRdH"
      },
      "source": [
        "Number of Trainable parameters is 256 "
      ]
    },
    {
      "cell_type": "markdown",
      "metadata": {
        "id": "CuzeCd0ja47R"
      },
      "source": [
        "### Plotting the architucture of neural net work"
      ]
    },
    {
      "cell_type": "code",
      "metadata": {
        "id": "-yikLrOfMolX",
        "colab": {
          "base_uri": "https://localhost:8080/",
          "height": 272
        },
        "outputId": "abd655eb-ee60-4d19-e6f0-000c6f964715"
      },
      "source": [
        "#structure of keras neuralnetwork model\n",
        "from keras.utils import plot_model\n",
        "\n",
        "plot_model(model)\n",
        "# looking at the structure of my neural network"
      ],
      "execution_count": 42,
      "outputs": [
        {
          "output_type": "execute_result",
          "data": {
            "image/png": "[encoded data removed]",
            "text/plain": [
              "<IPython.core.display.Image object>"
            ]
          },
          "metadata": {
            "tags": []
          },
          "execution_count": 42
        }
      ]
    },
    {
      "cell_type": "code",
      "metadata": {
        "id": "i3RujJcExzLC",
        "colab": {
          "base_uri": "https://localhost:8080/"
        },
        "outputId": "3b01f7ff-9aa0-4844-9789-cad41e76a02b"
      },
      "source": [
        "#Predictions\n",
        "\n",
        "y_hat_test = model.predict_classes(X_test)\n",
        "\n",
        "\n",
        "kerasNN_test_acc = round(accuracy_score(y_test,y_hat_test), 2)\n",
        "kerasNN_test_acc\n"
      ],
      "execution_count": 43,
      "outputs": [
        {
          "output_type": "execute_result",
          "data": {
            "text/plain": [
              "0.31"
            ]
          },
          "metadata": {
            "tags": []
          },
          "execution_count": 43
        }
      ]
    },
    {
      "cell_type": "markdown",
      "metadata": {
        "id": "qvvreidm7tDm"
      },
      "source": [
        "# Accuray Summary of Models:"
      ]
    },
    {
      "cell_type": "code",
      "metadata": {
        "id": "QL_tzp5458-3"
      },
      "source": [
        "# Create classifier summary table\n",
        "\n",
        "LogisticRegression_Accuracy =  1.0\n",
        "LinearDiscriminantAnalysis_accuracy  =  0.96\n",
        "KNeighborsClassifier_accuracy =  0.91\n",
        "DecisionTreeClassifier_accuracy =  0.91\n",
        "GaussianNB_accuracy =  0.94\n",
        "SVC_beforegrid_accuracy =  0.78\n",
        "RandomForest_beforegrid_accuracy =  0.64\n",
        "XGBClassifier_accuracy=  0.99\n",
        "GradientBoosting_accuracy =  0.64,\n",
        "AdaBoosting_accuracy = 0.49\n",
        "SVC_aftergrid_accuracy = 1.0\n",
        "RandomForest_aftergrid_accuracy =0.96\n",
        "Neuralnetwork_SKLearn_accuracy= 0.99\n",
        "Neuralnetwork_Keras_accuracy = 0.69\n",
        "\n",
        "\n",
        "\n",
        "models=['LogisticRegression','LinearDiscriminantAnalysis',\n",
        "       'KNeighborsClassifier','DecisionTreeClassifier',\n",
        "        'GaussianNB','SVC_beforegrid',\n",
        "        'RandomForest_beforegrid','XGBClassifier',\n",
        "        'GradientBoosting','AdaBoosting','SVC_aftergrid','RandomForest_aftergrid','Neuralnetwork_SKLearn Accuracy','Neuralnetwork_Keras']\n",
        "\n",
        "\n",
        "test_Accuracy=[1.0,0.96,0.91,0.91,0.94, 0.78,0.64, 0.99,0.64,0.49,1.0,0.96,0.99,0.69]\n",
        "\n",
        "\n",
        "\n",
        "\n",
        "accuracy_summary = pd.DataFrame([models, test_Accuracy]).T\n",
        "accuracy_summary.columns = ['Classifier', 'test_Accuracy']\n"
      ],
      "execution_count": 44,
      "outputs": []
    },
    {
      "cell_type": "markdown",
      "metadata": {
        "id": "u039iveyk9Dl"
      },
      "source": [
        "# Accuracy Summary of the above 14 models"
      ]
    },
    {
      "cell_type": "code",
      "metadata": {
        "id": "PdGd9fm56cCh",
        "colab": {
          "base_uri": "https://localhost:8080/",
          "height": 483
        },
        "outputId": "0a02f734-02f5-4bab-c96a-4fd93d313f34"
      },
      "source": [
        "accuracy_summary"
      ],
      "execution_count": 45,
      "outputs": [
        {
          "output_type": "execute_result",
          "data": {
            "text/html": [
              "<div>\n",
              "<style scoped>\n",
              "    .dataframe tbody tr th:only-of-type {\n",
              "        vertical-align: middle;\n",
              "    }\n",
              "\n",
              "    .dataframe tbody tr th {\n",
              "        vertical-align: top;\n",
              "    }\n",
              "\n",
              "    .dataframe thead th {\n",
              "        text-align: right;\n",
              "    }\n",
              "</style>\n",
              "<table border=\"1\" class=\"dataframe\">\n",
              "  <thead>\n",
              "    <tr style=\"text-align: right;\">\n",
              "      <th></th>\n",
              "      <th>Classifier</th>\n",
              "      <th>test_Accuracy</th>\n",
              "    </tr>\n",
              "  </thead>\n",
              "  <tbody>\n",
              "    <tr>\n",
              "      <th>0</th>\n",
              "      <td>LogisticRegression</td>\n",
              "      <td>1</td>\n",
              "    </tr>\n",
              "    <tr>\n",
              "      <th>1</th>\n",
              "      <td>LinearDiscriminantAnalysis</td>\n",
              "      <td>0.96</td>\n",
              "    </tr>\n",
              "    <tr>\n",
              "      <th>2</th>\n",
              "      <td>KNeighborsClassifier</td>\n",
              "      <td>0.91</td>\n",
              "    </tr>\n",
              "    <tr>\n",
              "      <th>3</th>\n",
              "      <td>DecisionTreeClassifier</td>\n",
              "      <td>0.91</td>\n",
              "    </tr>\n",
              "    <tr>\n",
              "      <th>4</th>\n",
              "      <td>GaussianNB</td>\n",
              "      <td>0.94</td>\n",
              "    </tr>\n",
              "    <tr>\n",
              "      <th>5</th>\n",
              "      <td>SVC_beforegrid</td>\n",
              "      <td>0.78</td>\n",
              "    </tr>\n",
              "    <tr>\n",
              "      <th>6</th>\n",
              "      <td>RandomForest_beforegrid</td>\n",
              "      <td>0.64</td>\n",
              "    </tr>\n",
              "    <tr>\n",
              "      <th>7</th>\n",
              "      <td>XGBClassifier</td>\n",
              "      <td>0.99</td>\n",
              "    </tr>\n",
              "    <tr>\n",
              "      <th>8</th>\n",
              "      <td>GradientBoosting</td>\n",
              "      <td>0.64</td>\n",
              "    </tr>\n",
              "    <tr>\n",
              "      <th>9</th>\n",
              "      <td>AdaBoosting</td>\n",
              "      <td>0.49</td>\n",
              "    </tr>\n",
              "    <tr>\n",
              "      <th>10</th>\n",
              "      <td>SVC_aftergrid</td>\n",
              "      <td>1</td>\n",
              "    </tr>\n",
              "    <tr>\n",
              "      <th>11</th>\n",
              "      <td>RandomForest_aftergrid</td>\n",
              "      <td>0.96</td>\n",
              "    </tr>\n",
              "    <tr>\n",
              "      <th>12</th>\n",
              "      <td>Neuralnetwork_SKLearn Accuracy</td>\n",
              "      <td>0.99</td>\n",
              "    </tr>\n",
              "    <tr>\n",
              "      <th>13</th>\n",
              "      <td>Neuralnetwork_Keras</td>\n",
              "      <td>0.69</td>\n",
              "    </tr>\n",
              "  </tbody>\n",
              "</table>\n",
              "</div>"
            ],
            "text/plain": [
              "                        Classifier test_Accuracy\n",
              "0               LogisticRegression             1\n",
              "1       LinearDiscriminantAnalysis          0.96\n",
              "2             KNeighborsClassifier          0.91\n",
              "3           DecisionTreeClassifier          0.91\n",
              "4                       GaussianNB          0.94\n",
              "5                   SVC_beforegrid          0.78\n",
              "6          RandomForest_beforegrid          0.64\n",
              "7                    XGBClassifier          0.99\n",
              "8                 GradientBoosting          0.64\n",
              "9                      AdaBoosting          0.49\n",
              "10                   SVC_aftergrid             1\n",
              "11          RandomForest_aftergrid          0.96\n",
              "12  Neuralnetwork_SKLearn Accuracy          0.99\n",
              "13             Neuralnetwork_Keras          0.69"
            ]
          },
          "metadata": {
            "tags": []
          },
          "execution_count": 45
        }
      ]
    },
    {
      "cell_type": "markdown",
      "metadata": {
        "id": "mfqPB91olMGy"
      },
      "source": [
        "# Conclusion"
      ]
    },
    {
      "cell_type": "markdown",
      "metadata": {
        "id": "bgUGYy3htjfg"
      },
      "source": [
        "### Logistic Regression\n",
        "\n",
        "Logistic Regresiom model training and testing accuracy are 100%,Recall,Precision,F1score are 100% for both yes autisim and no autisim patients, FP and False negative= Zero. \n",
        "\n",
        "### Logistic Regression with default parameters is an ideal model.\n",
        "\n",
        "### LinearDiscriminantAnalysis \n",
        "\n",
        "LinearDiscriminantAnalysis has training and testing and Recall accuracy= 96% So LinearDiscriminantAnalysis is also very good model. \n",
        "\n",
        "### KNN model \n",
        "\n",
        "KNN model has test accuracy: 0.91,train accuracy: 0.95, and weight average Recall = 91% for positive cases , so KNN is good model. \n",
        "\n",
        "### Decsion tree model\n",
        "\n",
        "Decsion tree model has test accuracy: 0.91 and train accuracy: 1.0. This model has to be hypertuned to adjust the overfitting, so it is not accepted.\n",
        "\n",
        "### NaieveBays model\n",
        "\n",
        " NaieveBays model has test accuracy: 0.94,train accuracy: 0.95, and Weighted average Recall for positive cases =94%,so naieve bayes is a good model.\n",
        "\n",
        "### Support vector machine and Random forest\n",
        "\n",
        "Support vector machine and Random forest have low accuracy score before hypertunned, so they are rejected. \n",
        "\n",
        "### XG Boosting\n",
        "\n",
        "XG Boosting has test accuracy: 0.99,train accuracy: 1.0,and Weighted average Recall for positive cases =99%, \n",
        "\n",
        "###So XG Boosting is an ideal model ranked number#2 after logistic Regression.\n",
        "\n",
        "### GradientBoosting and ADA Boosting \n",
        "\n",
        " GradientBoosting and ADA Boosting have low accuracy, so they are rejected. In summary out of these 10 models, I will choose Logist Regression, and XG Boosting.\n",
        "\n",
        "### Support Vector Machine after hypertunned\n",
        "\n",
        "Support Vector Machine after hypertuned through grid search with no pipeline used has test accuracy: 1.0 and train accuracy: 0.48. This model has underfitting and it is rejected.\n",
        "\n",
        "### Random Forest  \n",
        "\n",
        "Random forest classifier before hypertune Recall was 47% and after \n",
        "\n",
        "hypertuning recall is 97%, also False negative 156/422=37% before hypertune \n",
        "\n",
        "but after hypertune the false negative is only 8/422 = 0.02% meaning this \n",
        "\n",
        "model misclassifies only 0.02% and this is great mode. We have a weighted \n",
        "\n",
        "average recall and precision of 0.96.  It means we are able to detect the positive autisim patient with 96% accuracy which is a good accuracy. We don't have overfitting because test accuracy: 0.96 while the train accuracy: 0.98. \n",
        "\n",
        "### Neural Network Classifier Using SKLearn\n",
        "\n",
        "Neural Network Classifier Using SKLearn has a test accuracy: 0.99 and train accuracy: 1.0, and Weighted average Recall =99%,\n",
        "\n",
        "### so Neural Network Classifier Using SKLearn is an ideal model.\n",
        "\n",
        "\n",
        "\n",
        "\n",
        "A9 is the most  important feature , A5,A6, are part of important features\n",
        "\n",
        "We used gridsearch to find the best parameters.\n",
        "\n",
        "We used pipeline to prrevent data leakage and to have clean code.\n",
        "\n",
        "\n",
        "### Neural Network Classifier Using Keras Library\n",
        "Accuracy is 69% so this model is rejected.\n",
        "\n",
        "\n",
        "\n",
        "### In Conclusion\n",
        "### Models\n",
        "\n",
        "Logistic Regression, XG Boosting and Neural Network are good models in our autisim project with it small sample size.\n",
        "\n",
        "#### Important Features\n",
        "\n",
        "A9 is the most important features, other important features are A6, A5, and A8. Jandice and the type of gender'sex' are less important features. Geners in this study which appears through the coloumn of family member with ASD is not an important feature\n",
        "\n",
        "\n"
      ]
    },
    {
      "cell_type": "markdown",
      "metadata": {
        "id": "ZBH8S43CHTGA"
      },
      "source": [
        "### Recommendation\n",
        "\n",
        "- Apply Logistic Regression, XG Boosting or  neural network using sklearn for high accuracy model to diagnose Autisim.\n",
        "\n",
        "- Diagnose  deeply and early autisim disease among particular ethnicity particularly  White European, Asian and middle East.\n",
        "\n",
        "- Try to find more state of art in tracing autisim symptoms among toddlers in ages less than three years."
      ]
    },
    {
      "cell_type": "markdown",
      "metadata": {
        "id": "ZpOJFLr_ItXW"
      },
      "source": [
        "### Future Work\n",
        "* Reach out the same clininc and get more data either with number of diagnosed patients or with more features used for diagnosis.\n",
        "\n",
        "* Search other Autusim data around the world and do the same approch used in this project.\n",
        "\n",
        "\n",
        "* Apply the same models on adults\n",
        "\n",
        "\n",
        "*  Model with image data of cases daignosed with autisim using X-ray"
      ]
    }
  ]
}